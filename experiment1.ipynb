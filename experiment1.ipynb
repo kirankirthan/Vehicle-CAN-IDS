{
  "cells": [
    {
      "cell_type": "markdown",
      "metadata": {
        "id": "t26GzjgXUxH5"
      },
      "source": [
        "# **REQUIREMENTS**"
      ]
    },
    {
      "cell_type": "code",
      "execution_count": 1,
      "metadata": {},
      "outputs": [
        {
          "name": "stdout",
          "output_type": "stream",
          "text": [
            "Requirement already satisfied: keras-tuner in c:\\users\\kiran\\desktop\\os el\\myvenv\\lib\\site-packages (1.4.7)\n",
            "Requirement already satisfied: keras in c:\\users\\kiran\\desktop\\os el\\myvenv\\lib\\site-packages (from keras-tuner) (3.9.2)\n",
            "Requirement already satisfied: packaging in c:\\users\\kiran\\desktop\\os el\\myvenv\\lib\\site-packages (from keras-tuner) (25.0)\n",
            "Requirement already satisfied: requests in c:\\users\\kiran\\desktop\\os el\\myvenv\\lib\\site-packages (from keras-tuner) (2.32.3)\n",
            "Requirement already satisfied: kt-legacy in c:\\users\\kiran\\desktop\\os el\\myvenv\\lib\\site-packages (from keras-tuner) (1.0.5)\n",
            "Requirement already satisfied: absl-py in c:\\users\\kiran\\desktop\\os el\\myvenv\\lib\\site-packages (from keras->keras-tuner) (2.2.2)\n",
            "Requirement already satisfied: numpy in c:\\users\\kiran\\desktop\\os el\\myvenv\\lib\\site-packages (from keras->keras-tuner) (1.26.4)\n",
            "Requirement already satisfied: rich in c:\\users\\kiran\\desktop\\os el\\myvenv\\lib\\site-packages (from keras->keras-tuner) (14.0.0)\n",
            "Requirement already satisfied: namex in c:\\users\\kiran\\desktop\\os el\\myvenv\\lib\\site-packages (from keras->keras-tuner) (0.0.9)\n",
            "Requirement already satisfied: h5py in c:\\users\\kiran\\desktop\\os el\\myvenv\\lib\\site-packages (from keras->keras-tuner) (3.13.0)\n",
            "Requirement already satisfied: optree in c:\\users\\kiran\\desktop\\os el\\myvenv\\lib\\site-packages (from keras->keras-tuner) (0.15.0)\n",
            "Requirement already satisfied: ml-dtypes in c:\\users\\kiran\\desktop\\os el\\myvenv\\lib\\site-packages (from keras->keras-tuner) (0.5.1)\n",
            "Requirement already satisfied: charset-normalizer<4,>=2 in c:\\users\\kiran\\desktop\\os el\\myvenv\\lib\\site-packages (from requests->keras-tuner) (3.4.2)\n",
            "Requirement already satisfied: idna<4,>=2.5 in c:\\users\\kiran\\desktop\\os el\\myvenv\\lib\\site-packages (from requests->keras-tuner) (3.10)\n",
            "Requirement already satisfied: urllib3<3,>=1.21.1 in c:\\users\\kiran\\desktop\\os el\\myvenv\\lib\\site-packages (from requests->keras-tuner) (2.4.0)\n",
            "Requirement already satisfied: certifi>=2017.4.17 in c:\\users\\kiran\\desktop\\os el\\myvenv\\lib\\site-packages (from requests->keras-tuner) (2025.4.26)\n",
            "Requirement already satisfied: typing-extensions>=4.5.0 in c:\\users\\kiran\\desktop\\os el\\myvenv\\lib\\site-packages (from optree->keras->keras-tuner) (4.13.2)\n",
            "Requirement already satisfied: markdown-it-py>=2.2.0 in c:\\users\\kiran\\desktop\\os el\\myvenv\\lib\\site-packages (from rich->keras->keras-tuner) (3.0.0)\n",
            "Requirement already satisfied: pygments<3.0.0,>=2.13.0 in c:\\users\\kiran\\desktop\\os el\\myvenv\\lib\\site-packages (from rich->keras->keras-tuner) (2.19.1)\n",
            "Requirement already satisfied: mdurl~=0.1 in c:\\users\\kiran\\desktop\\os el\\myvenv\\lib\\site-packages (from markdown-it-py>=2.2.0->rich->keras->keras-tuner) (0.1.2)\n"
          ]
        },
        {
          "name": "stderr",
          "output_type": "stream",
          "text": [
            "\n",
            "[notice] A new release of pip is available: 24.0 -> 25.1.1\n",
            "[notice] To update, run: python.exe -m pip install --upgrade pip\n"
          ]
        }
      ],
      "source": [
        "!pip install keras-tuner\n"
      ]
    },
    {
      "cell_type": "code",
      "execution_count": 2,
      "metadata": {
        "colab": {
          "base_uri": "https://localhost:8080/"
        },
        "id": "gAvKESudIGoB",
        "outputId": "2eb4644c-bcd1-4096-c64f-6bb888fc1624"
      },
      "outputs": [
        {
          "name": "stdout",
          "output_type": "stream",
          "text": [
            "Requirement already satisfied: lightgbm in c:\\users\\kiran\\desktop\\os el\\myvenv\\lib\\site-packages (4.6.0)\n",
            "Requirement already satisfied: scikit-learn in c:\\users\\kiran\\desktop\\os el\\myvenv\\lib\\site-packages (1.6.1)\n",
            "Requirement already satisfied: keras in c:\\users\\kiran\\desktop\\os el\\myvenv\\lib\\site-packages (3.9.2)\n",
            "Requirement already satisfied: numpy>=1.17.0 in c:\\users\\kiran\\desktop\\os el\\myvenv\\lib\\site-packages (from lightgbm) (1.26.4)\n",
            "Requirement already satisfied: scipy in c:\\users\\kiran\\desktop\\os el\\myvenv\\lib\\site-packages (from lightgbm) (1.15.3)\n",
            "Requirement already satisfied: joblib>=1.2.0 in c:\\users\\kiran\\desktop\\os el\\myvenv\\lib\\site-packages (from scikit-learn) (1.5.0)\n",
            "Requirement already satisfied: threadpoolctl>=3.1.0 in c:\\users\\kiran\\desktop\\os el\\myvenv\\lib\\site-packages (from scikit-learn) (3.6.0)\n",
            "Requirement already satisfied: absl-py in c:\\users\\kiran\\desktop\\os el\\myvenv\\lib\\site-packages (from keras) (2.2.2)\n",
            "Requirement already satisfied: rich in c:\\users\\kiran\\desktop\\os el\\myvenv\\lib\\site-packages (from keras) (14.0.0)\n",
            "Requirement already satisfied: namex in c:\\users\\kiran\\desktop\\os el\\myvenv\\lib\\site-packages (from keras) (0.0.9)\n",
            "Requirement already satisfied: h5py in c:\\users\\kiran\\desktop\\os el\\myvenv\\lib\\site-packages (from keras) (3.13.0)\n",
            "Requirement already satisfied: optree in c:\\users\\kiran\\desktop\\os el\\myvenv\\lib\\site-packages (from keras) (0.15.0)\n",
            "Requirement already satisfied: ml-dtypes in c:\\users\\kiran\\desktop\\os el\\myvenv\\lib\\site-packages (from keras) (0.5.1)\n",
            "Requirement already satisfied: packaging in c:\\users\\kiran\\desktop\\os el\\myvenv\\lib\\site-packages (from keras) (25.0)\n",
            "Requirement already satisfied: typing-extensions>=4.5.0 in c:\\users\\kiran\\desktop\\os el\\myvenv\\lib\\site-packages (from optree->keras) (4.13.2)\n",
            "Requirement already satisfied: markdown-it-py>=2.2.0 in c:\\users\\kiran\\desktop\\os el\\myvenv\\lib\\site-packages (from rich->keras) (3.0.0)\n",
            "Requirement already satisfied: pygments<3.0.0,>=2.13.0 in c:\\users\\kiran\\desktop\\os el\\myvenv\\lib\\site-packages (from rich->keras) (2.19.1)\n",
            "Requirement already satisfied: mdurl~=0.1 in c:\\users\\kiran\\desktop\\os el\\myvenv\\lib\\site-packages (from markdown-it-py>=2.2.0->rich->keras) (0.1.2)\n"
          ]
        },
        {
          "name": "stderr",
          "output_type": "stream",
          "text": [
            "\n",
            "[notice] A new release of pip is available: 24.0 -> 25.1.1\n",
            "[notice] To update, run: python.exe -m pip install --upgrade pip\n"
          ]
        }
      ],
      "source": [
        "!pip install lightgbm scikit-learn keras\n"
      ]
    },
    {
      "cell_type": "markdown",
      "metadata": {
        "id": "I9wUM_ZJVDdd"
      },
      "source": [
        "# **1. BASIC DATAFRAMES OVERVIEW**"
      ]
    },
    {
      "cell_type": "code",
      "execution_count": 3,
      "metadata": {},
      "outputs": [
        {
          "name": "stdout",
          "output_type": "stream",
          "text": [
            "Requirement already satisfied: pandas in c:\\users\\kiran\\desktop\\os el\\myvenv\\lib\\site-packages (2.2.3)\n",
            "Requirement already satisfied: numpy>=1.23.2 in c:\\users\\kiran\\desktop\\os el\\myvenv\\lib\\site-packages (from pandas) (1.26.4)\n",
            "Requirement already satisfied: python-dateutil>=2.8.2 in c:\\users\\kiran\\desktop\\os el\\myvenv\\lib\\site-packages (from pandas) (2.9.0.post0)\n",
            "Requirement already satisfied: pytz>=2020.1 in c:\\users\\kiran\\desktop\\os el\\myvenv\\lib\\site-packages (from pandas) (2025.2)\n",
            "Requirement already satisfied: tzdata>=2022.7 in c:\\users\\kiran\\desktop\\os el\\myvenv\\lib\\site-packages (from pandas) (2025.2)\n",
            "Requirement already satisfied: six>=1.5 in c:\\users\\kiran\\desktop\\os el\\myvenv\\lib\\site-packages (from python-dateutil>=2.8.2->pandas) (1.17.0)\n"
          ]
        },
        {
          "name": "stderr",
          "output_type": "stream",
          "text": [
            "\n",
            "[notice] A new release of pip is available: 24.0 -> 25.1.1\n",
            "[notice] To update, run: python.exe -m pip install --upgrade pip\n"
          ]
        }
      ],
      "source": [
        "!pip install pandas"
      ]
    },
    {
      "cell_type": "code",
      "execution_count": 1,
      "metadata": {
        "colab": {
          "base_uri": "https://localhost:8080/"
        },
        "id": "2SwAx_FYN0ss",
        "outputId": "a847b32d-352c-4c9f-ad08-8d4b654cb234"
      },
      "outputs": [
        {
          "name": "stdout",
          "output_type": "stream",
          "text": [
            "(16569475, 14)\n"
          ]
        }
      ],
      "source": [
        "import pandas as pd\n",
        "# file_path = '/content/drive/MyDrive/can/updated_can_dataset.csv'\n",
        "df = pd.read_csv(r'C:\\Users\\kiran\\Desktop\\os el\\csv files\\updated_can_dataset.csv')\n",
        "#Replace your_folder/your_file.csv with the correct path where your CSV is stored.\n",
        "print(df.shape)"
      ]
    },
    {
      "cell_type": "code",
      "execution_count": 7,
      "metadata": {},
      "outputs": [
        {
          "name": "stdout",
          "output_type": "stream",
          "text": [
            "Label\n",
            "Normal                14237958\n",
            "Impersonation_rpm       654897\n",
            "Impersonation_gear      597252\n",
            "DoS                     587521\n",
            "Fuzzy                   491847\n",
            "Name: count, dtype: int64\n"
          ]
        }
      ],
      "source": [
        "# Check value counts\n",
        "print(df['Label'].value_counts())\n",
        "\n",
        "# Sample 1000 normal, 50 of each attack\n",
        "normal_df = df[df['Label'] == 'Normal'].sample(n=1000, random_state=42)\n",
        "dos_df    = df[df['Label'] == 'DoS'].sample(n=50, random_state=42)\n",
        "fuzzy_df  = df[df['Label'] == 'Fuzzy'].sample(n=50, random_state=42)\n",
        "imp_rpm_df = df[df['Label'] == 'Impersonation_rpm'].sample(n=50, random_state=42)\n",
        "imp_gear_df = df[df['Label'] == 'Impersonation_gear'].sample(n=50, random_state=42)\n",
        "\n",
        "\n",
        "# Combine into one small imbalanced dataset\n",
        "small_df = pd.concat([normal_df, dos_df, fuzzy_df, imp_gear_df, imp_rpm_df])\n",
        "small_df.to_csv(\"small_CAN_dataset.csv\", index=False)"
      ]
    },
    {
      "cell_type": "code",
      "execution_count": 8,
      "metadata": {},
      "outputs": [],
      "source": [
        "df=small_df\n"
      ]
    },
    {
      "cell_type": "code",
      "execution_count": 21,
      "metadata": {
        "id": "SZMbCPeRp-A6"
      },
      "outputs": [
        {
          "data": {
            "text/plain": [
              "(16569475, 15)"
            ]
          },
          "execution_count": 21,
          "metadata": {},
          "output_type": "execute_result"
        }
      ],
      "source": [
        "df.shape    "
      ]
    },
    {
      "cell_type": "code",
      "execution_count": 2,
      "metadata": {
        "colab": {
          "base_uri": "https://localhost:8080/",
          "height": 431
        },
        "id": "KGsP4GDeqeGi",
        "outputId": "16744e9a-eeee-4d48-8be6-eca644f64994"
      },
      "outputs": [
        {
          "data": {
            "text/html": [
              "<div>\n",
              "<style scoped>\n",
              "    .dataframe tbody tr th:only-of-type {\n",
              "        vertical-align: middle;\n",
              "    }\n",
              "\n",
              "    .dataframe tbody tr th {\n",
              "        vertical-align: top;\n",
              "    }\n",
              "\n",
              "    .dataframe thead th {\n",
              "        text-align: right;\n",
              "    }\n",
              "</style>\n",
              "<table border=\"1\" class=\"dataframe\">\n",
              "  <thead>\n",
              "    <tr style=\"text-align: right;\">\n",
              "      <th></th>\n",
              "      <th>Timestamp</th>\n",
              "      <th>CAN ID</th>\n",
              "      <th>DLC</th>\n",
              "      <th>data1</th>\n",
              "      <th>data2</th>\n",
              "      <th>data3</th>\n",
              "      <th>data4</th>\n",
              "      <th>data5</th>\n",
              "      <th>data6</th>\n",
              "      <th>data7</th>\n",
              "      <th>data8</th>\n",
              "      <th>Label</th>\n",
              "      <th>Datetime</th>\n",
              "      <th>SecondsSinceStart</th>\n",
              "    </tr>\n",
              "  </thead>\n",
              "  <tbody>\n",
              "    <tr>\n",
              "      <th>count</th>\n",
              "      <td>1.656948e+07</td>\n",
              "      <td>1.656948e+07</td>\n",
              "      <td>1.656948e+07</td>\n",
              "      <td>1.656948e+07</td>\n",
              "      <td>1.656948e+07</td>\n",
              "      <td>1.656948e+07</td>\n",
              "      <td>1.656948e+07</td>\n",
              "      <td>1.656948e+07</td>\n",
              "      <td>1.656948e+07</td>\n",
              "      <td>1.656948e+07</td>\n",
              "      <td>1.656948e+07</td>\n",
              "      <td>16569475</td>\n",
              "      <td>16569475</td>\n",
              "      <td>1.656948e+07</td>\n",
              "    </tr>\n",
              "    <tr>\n",
              "      <th>unique</th>\n",
              "      <td>NaN</td>\n",
              "      <td>NaN</td>\n",
              "      <td>NaN</td>\n",
              "      <td>NaN</td>\n",
              "      <td>NaN</td>\n",
              "      <td>NaN</td>\n",
              "      <td>NaN</td>\n",
              "      <td>NaN</td>\n",
              "      <td>NaN</td>\n",
              "      <td>NaN</td>\n",
              "      <td>NaN</td>\n",
              "      <td>5</td>\n",
              "      <td>13896271</td>\n",
              "      <td>NaN</td>\n",
              "    </tr>\n",
              "    <tr>\n",
              "      <th>top</th>\n",
              "      <td>NaN</td>\n",
              "      <td>NaN</td>\n",
              "      <td>NaN</td>\n",
              "      <td>NaN</td>\n",
              "      <td>NaN</td>\n",
              "      <td>NaN</td>\n",
              "      <td>NaN</td>\n",
              "      <td>NaN</td>\n",
              "      <td>NaN</td>\n",
              "      <td>NaN</td>\n",
              "      <td>NaN</td>\n",
              "      <td>Normal</td>\n",
              "      <td>2016-11-03 19:21:46.659210920</td>\n",
              "      <td>NaN</td>\n",
              "    </tr>\n",
              "    <tr>\n",
              "      <th>freq</th>\n",
              "      <td>NaN</td>\n",
              "      <td>NaN</td>\n",
              "      <td>NaN</td>\n",
              "      <td>NaN</td>\n",
              "      <td>NaN</td>\n",
              "      <td>NaN</td>\n",
              "      <td>NaN</td>\n",
              "      <td>NaN</td>\n",
              "      <td>NaN</td>\n",
              "      <td>NaN</td>\n",
              "      <td>NaN</td>\n",
              "      <td>14237958</td>\n",
              "      <td>4</td>\n",
              "      <td>NaN</td>\n",
              "    </tr>\n",
              "    <tr>\n",
              "      <th>mean</th>\n",
              "      <td>1.478197e+09</td>\n",
              "      <td>7.048842e+02</td>\n",
              "      <td>7.937015e+00</td>\n",
              "      <td>3.049707e+02</td>\n",
              "      <td>1.943530e+02</td>\n",
              "      <td>8.110012e+01</td>\n",
              "      <td>1.771227e+02</td>\n",
              "      <td>1.121730e+02</td>\n",
              "      <td>1.342131e+02</td>\n",
              "      <td>5.539590e+01</td>\n",
              "      <td>1.187633e+02</td>\n",
              "      <td>NaN</td>\n",
              "      <td>NaN</td>\n",
              "      <td>5.501790e+03</td>\n",
              "    </tr>\n",
              "    <tr>\n",
              "      <th>std</th>\n",
              "      <td>3.447091e+03</td>\n",
              "      <td>3.977546e+02</td>\n",
              "      <td>5.872882e-01</td>\n",
              "      <td>5.273629e+02</td>\n",
              "      <td>2.862775e+02</td>\n",
              "      <td>1.303835e+02</td>\n",
              "      <td>2.415236e+02</td>\n",
              "      <td>1.726643e+02</td>\n",
              "      <td>1.828051e+02</td>\n",
              "      <td>1.305977e+02</td>\n",
              "      <td>1.878880e+02</td>\n",
              "      <td>NaN</td>\n",
              "      <td>NaN</td>\n",
              "      <td>3.447091e+03</td>\n",
              "    </tr>\n",
              "    <tr>\n",
              "      <th>min</th>\n",
              "      <td>1.478191e+09</td>\n",
              "      <td>0.000000e+00</td>\n",
              "      <td>2.000000e+00</td>\n",
              "      <td>0.000000e+00</td>\n",
              "      <td>0.000000e+00</td>\n",
              "      <td>0.000000e+00</td>\n",
              "      <td>0.000000e+00</td>\n",
              "      <td>0.000000e+00</td>\n",
              "      <td>0.000000e+00</td>\n",
              "      <td>0.000000e+00</td>\n",
              "      <td>0.000000e+00</td>\n",
              "      <td>NaN</td>\n",
              "      <td>NaN</td>\n",
              "      <td>0.000000e+00</td>\n",
              "    </tr>\n",
              "    <tr>\n",
              "      <th>25%</th>\n",
              "      <td>1.478193e+09</td>\n",
              "      <td>3.390000e+02</td>\n",
              "      <td>8.000000e+00</td>\n",
              "      <td>0.000000e+00</td>\n",
              "      <td>0.000000e+00</td>\n",
              "      <td>0.000000e+00</td>\n",
              "      <td>0.000000e+00</td>\n",
              "      <td>0.000000e+00</td>\n",
              "      <td>0.000000e+00</td>\n",
              "      <td>0.000000e+00</td>\n",
              "      <td>0.000000e+00</td>\n",
              "      <td>NaN</td>\n",
              "      <td>NaN</td>\n",
              "      <td>2.379954e+03</td>\n",
              "    </tr>\n",
              "    <tr>\n",
              "      <th>50%</th>\n",
              "      <td>1.478196e+09</td>\n",
              "      <td>7.900000e+02</td>\n",
              "      <td>8.000000e+00</td>\n",
              "      <td>8.000000e+00</td>\n",
              "      <td>8.000000e+01</td>\n",
              "      <td>0.000000e+00</td>\n",
              "      <td>3.200000e+01</td>\n",
              "      <td>2.100000e+01</td>\n",
              "      <td>5.000000e+01</td>\n",
              "      <td>0.000000e+00</td>\n",
              "      <td>0.000000e+00</td>\n",
              "      <td>NaN</td>\n",
              "      <td>NaN</td>\n",
              "      <td>5.404913e+03</td>\n",
              "    </tr>\n",
              "    <tr>\n",
              "      <th>75%</th>\n",
              "      <td>1.478200e+09</td>\n",
              "      <td>1.072000e+03</td>\n",
              "      <td>8.000000e+00</td>\n",
              "      <td>2.610000e+02</td>\n",
              "      <td>2.610000e+02</td>\n",
              "      <td>1.500000e+02</td>\n",
              "      <td>3.110000e+02</td>\n",
              "      <td>2.630000e+02</td>\n",
              "      <td>2.950000e+02</td>\n",
              "      <td>9.000000e+00</td>\n",
              "      <td>2.640000e+02</td>\n",
              "      <td>NaN</td>\n",
              "      <td>NaN</td>\n",
              "      <td>9.214713e+03</td>\n",
              "    </tr>\n",
              "    <tr>\n",
              "      <th>max</th>\n",
              "      <td>1.478201e+09</td>\n",
              "      <td>2.047000e+03</td>\n",
              "      <td>8.000000e+00</td>\n",
              "      <td>1.431000e+03</td>\n",
              "      <td>1.431000e+03</td>\n",
              "      <td>5.970000e+02</td>\n",
              "      <td>5.970000e+02</td>\n",
              "      <td>5.970000e+02</td>\n",
              "      <td>5.970000e+02</td>\n",
              "      <td>5.970000e+02</td>\n",
              "      <td>5.970000e+02</td>\n",
              "      <td>NaN</td>\n",
              "      <td>NaN</td>\n",
              "      <td>1.017901e+04</td>\n",
              "    </tr>\n",
              "  </tbody>\n",
              "</table>\n",
              "</div>"
            ],
            "text/plain": [
              "           Timestamp        CAN ID           DLC         data1         data2  \\\n",
              "count   1.656948e+07  1.656948e+07  1.656948e+07  1.656948e+07  1.656948e+07   \n",
              "unique           NaN           NaN           NaN           NaN           NaN   \n",
              "top              NaN           NaN           NaN           NaN           NaN   \n",
              "freq             NaN           NaN           NaN           NaN           NaN   \n",
              "mean    1.478197e+09  7.048842e+02  7.937015e+00  3.049707e+02  1.943530e+02   \n",
              "std     3.447091e+03  3.977546e+02  5.872882e-01  5.273629e+02  2.862775e+02   \n",
              "min     1.478191e+09  0.000000e+00  2.000000e+00  0.000000e+00  0.000000e+00   \n",
              "25%     1.478193e+09  3.390000e+02  8.000000e+00  0.000000e+00  0.000000e+00   \n",
              "50%     1.478196e+09  7.900000e+02  8.000000e+00  8.000000e+00  8.000000e+01   \n",
              "75%     1.478200e+09  1.072000e+03  8.000000e+00  2.610000e+02  2.610000e+02   \n",
              "max     1.478201e+09  2.047000e+03  8.000000e+00  1.431000e+03  1.431000e+03   \n",
              "\n",
              "               data3         data4         data5         data6         data7  \\\n",
              "count   1.656948e+07  1.656948e+07  1.656948e+07  1.656948e+07  1.656948e+07   \n",
              "unique           NaN           NaN           NaN           NaN           NaN   \n",
              "top              NaN           NaN           NaN           NaN           NaN   \n",
              "freq             NaN           NaN           NaN           NaN           NaN   \n",
              "mean    8.110012e+01  1.771227e+02  1.121730e+02  1.342131e+02  5.539590e+01   \n",
              "std     1.303835e+02  2.415236e+02  1.726643e+02  1.828051e+02  1.305977e+02   \n",
              "min     0.000000e+00  0.000000e+00  0.000000e+00  0.000000e+00  0.000000e+00   \n",
              "25%     0.000000e+00  0.000000e+00  0.000000e+00  0.000000e+00  0.000000e+00   \n",
              "50%     0.000000e+00  3.200000e+01  2.100000e+01  5.000000e+01  0.000000e+00   \n",
              "75%     1.500000e+02  3.110000e+02  2.630000e+02  2.950000e+02  9.000000e+00   \n",
              "max     5.970000e+02  5.970000e+02  5.970000e+02  5.970000e+02  5.970000e+02   \n",
              "\n",
              "               data8     Label                       Datetime  \\\n",
              "count   1.656948e+07  16569475                       16569475   \n",
              "unique           NaN         5                       13896271   \n",
              "top              NaN    Normal  2016-11-03 19:21:46.659210920   \n",
              "freq             NaN  14237958                              4   \n",
              "mean    1.187633e+02       NaN                            NaN   \n",
              "std     1.878880e+02       NaN                            NaN   \n",
              "min     0.000000e+00       NaN                            NaN   \n",
              "25%     0.000000e+00       NaN                            NaN   \n",
              "50%     0.000000e+00       NaN                            NaN   \n",
              "75%     2.640000e+02       NaN                            NaN   \n",
              "max     5.970000e+02       NaN                            NaN   \n",
              "\n",
              "        SecondsSinceStart  \n",
              "count        1.656948e+07  \n",
              "unique                NaN  \n",
              "top                   NaN  \n",
              "freq                  NaN  \n",
              "mean         5.501790e+03  \n",
              "std          3.447091e+03  \n",
              "min          0.000000e+00  \n",
              "25%          2.379954e+03  \n",
              "50%          5.404913e+03  \n",
              "75%          9.214713e+03  \n",
              "max          1.017901e+04  "
            ]
          },
          "execution_count": 2,
          "metadata": {},
          "output_type": "execute_result"
        }
      ],
      "source": [
        "df.describe(include='all')"
      ]
    },
    {
      "cell_type": "code",
      "execution_count": 3,
      "metadata": {
        "colab": {
          "base_uri": "https://localhost:8080/",
          "height": 556
        },
        "id": "qNRah9R-TDbC",
        "outputId": "1f3c0119-fc4a-4c20-97b9-746e71c4aa92"
      },
      "outputs": [
        {
          "data": {
            "text/html": [
              "<div>\n",
              "<style scoped>\n",
              "    .dataframe tbody tr th:only-of-type {\n",
              "        vertical-align: middle;\n",
              "    }\n",
              "\n",
              "    .dataframe tbody tr th {\n",
              "        vertical-align: top;\n",
              "    }\n",
              "\n",
              "    .dataframe thead th {\n",
              "        text-align: right;\n",
              "    }\n",
              "</style>\n",
              "<table border=\"1\" class=\"dataframe\">\n",
              "  <thead>\n",
              "    <tr style=\"text-align: right;\">\n",
              "      <th></th>\n",
              "      <th>Timestamp</th>\n",
              "      <th>CAN ID</th>\n",
              "      <th>DLC</th>\n",
              "      <th>data1</th>\n",
              "      <th>data2</th>\n",
              "      <th>data3</th>\n",
              "      <th>data4</th>\n",
              "      <th>data5</th>\n",
              "      <th>data6</th>\n",
              "      <th>data7</th>\n",
              "      <th>data8</th>\n",
              "      <th>Label</th>\n",
              "      <th>Datetime</th>\n",
              "      <th>SecondsSinceStart</th>\n",
              "    </tr>\n",
              "  </thead>\n",
              "  <tbody>\n",
              "    <tr>\n",
              "      <th>16569465</th>\n",
              "      <td>1.478201e+09</td>\n",
              "      <td>305</td>\n",
              "      <td>8</td>\n",
              "      <td>1411</td>\n",
              "      <td>661</td>\n",
              "      <td>0</td>\n",
              "      <td>0</td>\n",
              "      <td>131</td>\n",
              "      <td>295</td>\n",
              "      <td>9</td>\n",
              "      <td>19</td>\n",
              "      <td>Normal</td>\n",
              "      <td>2016-11-03 19:26:49.053147078</td>\n",
              "      <td>10179.008033</td>\n",
              "    </tr>\n",
              "    <tr>\n",
              "      <th>16569466</th>\n",
              "      <td>1.478201e+09</td>\n",
              "      <td>320</td>\n",
              "      <td>8</td>\n",
              "      <td>0</td>\n",
              "      <td>0</td>\n",
              "      <td>0</td>\n",
              "      <td>0</td>\n",
              "      <td>34</td>\n",
              "      <td>0</td>\n",
              "      <td>65</td>\n",
              "      <td>257</td>\n",
              "      <td>Normal</td>\n",
              "      <td>2016-11-03 19:26:49.053388119</td>\n",
              "      <td>10179.008274</td>\n",
              "    </tr>\n",
              "    <tr>\n",
              "      <th>16569467</th>\n",
              "      <td>1.478201e+09</td>\n",
              "      <td>848</td>\n",
              "      <td>8</td>\n",
              "      <td>5</td>\n",
              "      <td>80</td>\n",
              "      <td>278</td>\n",
              "      <td>260</td>\n",
              "      <td>279</td>\n",
              "      <td>0</td>\n",
              "      <td>0</td>\n",
              "      <td>118</td>\n",
              "      <td>Normal</td>\n",
              "      <td>2016-11-03 19:26:49.053622007</td>\n",
              "      <td>10179.008508</td>\n",
              "    </tr>\n",
              "    <tr>\n",
              "      <th>16569468</th>\n",
              "      <td>1.478201e+09</td>\n",
              "      <td>1264</td>\n",
              "      <td>8</td>\n",
              "      <td>0</td>\n",
              "      <td>0</td>\n",
              "      <td>0</td>\n",
              "      <td>296</td>\n",
              "      <td>0</td>\n",
              "      <td>261</td>\n",
              "      <td>521</td>\n",
              "      <td>25</td>\n",
              "      <td>Normal</td>\n",
              "      <td>2016-11-03 19:26:49.056291103</td>\n",
              "      <td>10179.011177</td>\n",
              "    </tr>\n",
              "    <tr>\n",
              "      <th>16569469</th>\n",
              "      <td>1.478201e+09</td>\n",
              "      <td>790</td>\n",
              "      <td>8</td>\n",
              "      <td>5</td>\n",
              "      <td>81</td>\n",
              "      <td>72</td>\n",
              "      <td>16</td>\n",
              "      <td>51</td>\n",
              "      <td>48</td>\n",
              "      <td>0</td>\n",
              "      <td>273</td>\n",
              "      <td>Normal</td>\n",
              "      <td>2016-11-03 19:26:49.057781935</td>\n",
              "      <td>10179.012668</td>\n",
              "    </tr>\n",
              "    <tr>\n",
              "      <th>16569470</th>\n",
              "      <td>1.478201e+09</td>\n",
              "      <td>399</td>\n",
              "      <td>8</td>\n",
              "      <td>1430</td>\n",
              "      <td>311</td>\n",
              "      <td>0</td>\n",
              "      <td>0</td>\n",
              "      <td>0</td>\n",
              "      <td>101</td>\n",
              "      <td>0</td>\n",
              "      <td>0</td>\n",
              "      <td>Normal</td>\n",
              "      <td>2016-11-03 19:26:49.058007002</td>\n",
              "      <td>10179.012893</td>\n",
              "    </tr>\n",
              "    <tr>\n",
              "      <th>16569471</th>\n",
              "      <td>1.478201e+09</td>\n",
              "      <td>608</td>\n",
              "      <td>8</td>\n",
              "      <td>54</td>\n",
              "      <td>81</td>\n",
              "      <td>51</td>\n",
              "      <td>72</td>\n",
              "      <td>8</td>\n",
              "      <td>323</td>\n",
              "      <td>265</td>\n",
              "      <td>37</td>\n",
              "      <td>Normal</td>\n",
              "      <td>2016-11-03 19:26:49.058237076</td>\n",
              "      <td>10179.013123</td>\n",
              "    </tr>\n",
              "    <tr>\n",
              "      <th>16569472</th>\n",
              "      <td>1.478201e+09</td>\n",
              "      <td>672</td>\n",
              "      <td>8</td>\n",
              "      <td>84</td>\n",
              "      <td>0</td>\n",
              "      <td>340</td>\n",
              "      <td>41</td>\n",
              "      <td>337</td>\n",
              "      <td>2</td>\n",
              "      <td>393</td>\n",
              "      <td>0</td>\n",
              "      <td>Normal</td>\n",
              "      <td>2016-11-03 19:26:49.058470964</td>\n",
              "      <td>10179.013357</td>\n",
              "    </tr>\n",
              "    <tr>\n",
              "      <th>16569473</th>\n",
              "      <td>1.478201e+09</td>\n",
              "      <td>809</td>\n",
              "      <td>8</td>\n",
              "      <td>1348</td>\n",
              "      <td>903</td>\n",
              "      <td>295</td>\n",
              "      <td>32</td>\n",
              "      <td>23</td>\n",
              "      <td>50</td>\n",
              "      <td>0</td>\n",
              "      <td>32</td>\n",
              "      <td>Normal</td>\n",
              "      <td>2016-11-03 19:26:49.058702946</td>\n",
              "      <td>10179.013589</td>\n",
              "    </tr>\n",
              "    <tr>\n",
              "      <th>16569474</th>\n",
              "      <td>1.478201e+09</td>\n",
              "      <td>1349</td>\n",
              "      <td>8</td>\n",
              "      <td>1332</td>\n",
              "      <td>0</td>\n",
              "      <td>0</td>\n",
              "      <td>313</td>\n",
              "      <td>0</td>\n",
              "      <td>0</td>\n",
              "      <td>0</td>\n",
              "      <td>0</td>\n",
              "      <td>Normal</td>\n",
              "      <td>2016-11-03 19:26:49.058943987</td>\n",
              "      <td>10179.013830</td>\n",
              "    </tr>\n",
              "  </tbody>\n",
              "</table>\n",
              "</div>"
            ],
            "text/plain": [
              "             Timestamp  CAN ID  DLC  data1  data2  data3  data4  data5  data6  \\\n",
              "16569465  1.478201e+09     305    8   1411    661      0      0    131    295   \n",
              "16569466  1.478201e+09     320    8      0      0      0      0     34      0   \n",
              "16569467  1.478201e+09     848    8      5     80    278    260    279      0   \n",
              "16569468  1.478201e+09    1264    8      0      0      0    296      0    261   \n",
              "16569469  1.478201e+09     790    8      5     81     72     16     51     48   \n",
              "16569470  1.478201e+09     399    8   1430    311      0      0      0    101   \n",
              "16569471  1.478201e+09     608    8     54     81     51     72      8    323   \n",
              "16569472  1.478201e+09     672    8     84      0    340     41    337      2   \n",
              "16569473  1.478201e+09     809    8   1348    903    295     32     23     50   \n",
              "16569474  1.478201e+09    1349    8   1332      0      0    313      0      0   \n",
              "\n",
              "          data7  data8   Label                       Datetime  \\\n",
              "16569465      9     19  Normal  2016-11-03 19:26:49.053147078   \n",
              "16569466     65    257  Normal  2016-11-03 19:26:49.053388119   \n",
              "16569467      0    118  Normal  2016-11-03 19:26:49.053622007   \n",
              "16569468    521     25  Normal  2016-11-03 19:26:49.056291103   \n",
              "16569469      0    273  Normal  2016-11-03 19:26:49.057781935   \n",
              "16569470      0      0  Normal  2016-11-03 19:26:49.058007002   \n",
              "16569471    265     37  Normal  2016-11-03 19:26:49.058237076   \n",
              "16569472    393      0  Normal  2016-11-03 19:26:49.058470964   \n",
              "16569473      0     32  Normal  2016-11-03 19:26:49.058702946   \n",
              "16569474      0      0  Normal  2016-11-03 19:26:49.058943987   \n",
              "\n",
              "          SecondsSinceStart  \n",
              "16569465       10179.008033  \n",
              "16569466       10179.008274  \n",
              "16569467       10179.008508  \n",
              "16569468       10179.011177  \n",
              "16569469       10179.012668  \n",
              "16569470       10179.012893  \n",
              "16569471       10179.013123  \n",
              "16569472       10179.013357  \n",
              "16569473       10179.013589  \n",
              "16569474       10179.013830  "
            ]
          },
          "execution_count": 3,
          "metadata": {},
          "output_type": "execute_result"
        }
      ],
      "source": [
        "df.tail(10)"
      ]
    },
    {
      "cell_type": "code",
      "execution_count": 14,
      "metadata": {
        "colab": {
          "base_uri": "https://localhost:8080/",
          "height": 330
        },
        "id": "OMiYnDgzTyk9",
        "outputId": "60a8d6de-197a-4830-8f18-80de1be09acc"
      },
      "outputs": [
        {
          "data": {
            "text/html": [
              "<div>\n",
              "<style scoped>\n",
              "    .dataframe tbody tr th:only-of-type {\n",
              "        vertical-align: middle;\n",
              "    }\n",
              "\n",
              "    .dataframe tbody tr th {\n",
              "        vertical-align: top;\n",
              "    }\n",
              "\n",
              "    .dataframe thead th {\n",
              "        text-align: right;\n",
              "    }\n",
              "</style>\n",
              "<table border=\"1\" class=\"dataframe\">\n",
              "  <thead>\n",
              "    <tr style=\"text-align: right;\">\n",
              "      <th></th>\n",
              "      <th>Timestamp</th>\n",
              "      <th>CAN ID</th>\n",
              "      <th>DLC</th>\n",
              "      <th>data1</th>\n",
              "      <th>data2</th>\n",
              "      <th>data3</th>\n",
              "      <th>data4</th>\n",
              "      <th>data5</th>\n",
              "      <th>data6</th>\n",
              "      <th>data7</th>\n",
              "      <th>data8</th>\n",
              "      <th>Label</th>\n",
              "      <th>Datetime</th>\n",
              "      <th>SecondsSinceStart</th>\n",
              "      <th>EncodedLabel</th>\n",
              "    </tr>\n",
              "  </thead>\n",
              "  <tbody>\n",
              "    <tr>\n",
              "      <th>12577375</th>\n",
              "      <td>1.478191e+09</td>\n",
              "      <td>304</td>\n",
              "      <td>8</td>\n",
              "      <td>25</td>\n",
              "      <td>662</td>\n",
              "      <td>0</td>\n",
              "      <td>597</td>\n",
              "      <td>66</td>\n",
              "      <td>296</td>\n",
              "      <td>18</td>\n",
              "      <td>296</td>\n",
              "      <td>Normal</td>\n",
              "      <td>2016-11-03 16:42:47.023417950</td>\n",
              "      <td>324.727880</td>\n",
              "      <td>4</td>\n",
              "    </tr>\n",
              "    <tr>\n",
              "      <th>29483</th>\n",
              "      <td>1.478198e+09</td>\n",
              "      <td>305</td>\n",
              "      <td>8</td>\n",
              "      <td>32</td>\n",
              "      <td>662</td>\n",
              "      <td>0</td>\n",
              "      <td>0</td>\n",
              "      <td>100</td>\n",
              "      <td>295</td>\n",
              "      <td>16</td>\n",
              "      <td>325</td>\n",
              "      <td>Normal</td>\n",
              "      <td>2016-11-03 18:39:59.104393005</td>\n",
              "      <td>7356.808855</td>\n",
              "      <td>4</td>\n",
              "    </tr>\n",
              "    <tr>\n",
              "      <th>16081590</th>\n",
              "      <td>1.478201e+09</td>\n",
              "      <td>2</td>\n",
              "      <td>8</td>\n",
              "      <td>0</td>\n",
              "      <td>0</td>\n",
              "      <td>0</td>\n",
              "      <td>0</td>\n",
              "      <td>0</td>\n",
              "      <td>2</td>\n",
              "      <td>7</td>\n",
              "      <td>403</td>\n",
              "      <td>Normal</td>\n",
              "      <td>2016-11-03 19:22:25.042932987</td>\n",
              "      <td>9902.747395</td>\n",
              "      <td>4</td>\n",
              "    </tr>\n",
              "    <tr>\n",
              "      <th>421015</th>\n",
              "      <td>1.478199e+09</td>\n",
              "      <td>339</td>\n",
              "      <td>8</td>\n",
              "      <td>0</td>\n",
              "      <td>81</td>\n",
              "      <td>22</td>\n",
              "      <td>597</td>\n",
              "      <td>0</td>\n",
              "      <td>597</td>\n",
              "      <td>0</td>\n",
              "      <td>0</td>\n",
              "      <td>Normal</td>\n",
              "      <td>2016-11-03 18:45:46.588202000</td>\n",
              "      <td>7704.292664</td>\n",
              "      <td>4</td>\n",
              "    </tr>\n",
              "    <tr>\n",
              "      <th>7294338</th>\n",
              "      <td>1.478201e+09</td>\n",
              "      <td>790</td>\n",
              "      <td>8</td>\n",
              "      <td>5</td>\n",
              "      <td>81</td>\n",
              "      <td>274</td>\n",
              "      <td>9</td>\n",
              "      <td>51</td>\n",
              "      <td>51</td>\n",
              "      <td>0</td>\n",
              "      <td>273</td>\n",
              "      <td>Normal</td>\n",
              "      <td>2016-11-03 19:24:55.272306919</td>\n",
              "      <td>10052.976769</td>\n",
              "      <td>4</td>\n",
              "    </tr>\n",
              "  </tbody>\n",
              "</table>\n",
              "</div>"
            ],
            "text/plain": [
              "             Timestamp  CAN ID  DLC  data1  data2  data3  data4  data5  data6  \\\n",
              "12577375  1.478191e+09     304    8     25    662      0    597     66    296   \n",
              "29483     1.478198e+09     305    8     32    662      0      0    100    295   \n",
              "16081590  1.478201e+09       2    8      0      0      0      0      0      2   \n",
              "421015    1.478199e+09     339    8      0     81     22    597      0    597   \n",
              "7294338   1.478201e+09     790    8      5     81    274      9     51     51   \n",
              "\n",
              "          data7  data8   Label                      Datetime  \\\n",
              "12577375     18    296  Normal 2016-11-03 16:42:47.023417950   \n",
              "29483        16    325  Normal 2016-11-03 18:39:59.104393005   \n",
              "16081590      7    403  Normal 2016-11-03 19:22:25.042932987   \n",
              "421015        0      0  Normal 2016-11-03 18:45:46.588202000   \n",
              "7294338       0    273  Normal 2016-11-03 19:24:55.272306919   \n",
              "\n",
              "          SecondsSinceStart  EncodedLabel  \n",
              "12577375         324.727880             4  \n",
              "29483           7356.808855             4  \n",
              "16081590        9902.747395             4  \n",
              "421015          7704.292664             4  \n",
              "7294338        10052.976769             4  "
            ]
          },
          "execution_count": 14,
          "metadata": {},
          "output_type": "execute_result"
        }
      ],
      "source": [
        "df.head()"
      ]
    },
    {
      "cell_type": "code",
      "execution_count": null,
      "metadata": {
        "colab": {
          "base_uri": "https://localhost:8080/"
        },
        "id": "L3AlnVG4T4L7",
        "outputId": "f4f6dd04-b630-4603-93a8-fb128c2c5183"
      },
      "outputs": [
        {
          "data": {
            "text/plain": [
              "(181283, 14)"
            ]
          },
          "execution_count": 3,
          "metadata": {},
          "output_type": "execute_result"
        }
      ],
      "source": [
        "df.shape\n"
      ]
    },
    {
      "cell_type": "code",
      "execution_count": 9,
      "metadata": {
        "colab": {
          "base_uri": "https://localhost:8080/"
        },
        "id": "LQhSY5pMT538",
        "outputId": "c7acbb48-9f6d-4a78-8f32-44a8dcfb580c"
      },
      "outputs": [
        {
          "name": "stdout",
          "output_type": "stream",
          "text": [
            "<class 'pandas.core.frame.DataFrame'>\n",
            "RangeIndex: 16569475 entries, 0 to 16569474\n",
            "Data columns (total 13 columns):\n",
            " #   Column        Dtype  \n",
            "---  ------        -----  \n",
            " 0   Timestamp     float64\n",
            " 1   CAN ID        int64  \n",
            " 2   DLC           int64  \n",
            " 3   data1         int64  \n",
            " 4   data2         int64  \n",
            " 5   data3         int64  \n",
            " 6   data4         int64  \n",
            " 7   data5         int64  \n",
            " 8   data6         int64  \n",
            " 9   data7         int64  \n",
            " 10  data8         int64  \n",
            " 11  Label         object \n",
            " 12  EncodedLabel  int64  \n",
            "dtypes: float64(1), int64(11), object(1)\n",
            "memory usage: 1.6+ GB\n"
          ]
        }
      ],
      "source": [
        "df.info()"
      ]
    },
    {
      "cell_type": "code",
      "execution_count": 10,
      "metadata": {
        "colab": {
          "base_uri": "https://localhost:8080/",
          "height": 523
        },
        "id": "r_2JaX3oUfF6",
        "outputId": "8b677e04-ad90-4307-d615-7c2971988113"
      },
      "outputs": [
        {
          "data": {
            "text/plain": [
              "Timestamp       float64\n",
              "CAN ID            int64\n",
              "DLC               int64\n",
              "data1             int64\n",
              "data2             int64\n",
              "data3             int64\n",
              "data4             int64\n",
              "data5             int64\n",
              "data6             int64\n",
              "data7             int64\n",
              "data8             int64\n",
              "Label            object\n",
              "EncodedLabel      int64\n",
              "dtype: object"
            ]
          },
          "execution_count": 10,
          "metadata": {},
          "output_type": "execute_result"
        }
      ],
      "source": [
        "df.dtypes"
      ]
    },
    {
      "cell_type": "markdown",
      "metadata": {
        "id": "2uALMbpBXZVJ"
      },
      "source": [
        "# **2. Summary Statistics**"
      ]
    },
    {
      "cell_type": "code",
      "execution_count": 18,
      "metadata": {
        "colab": {
          "base_uri": "https://localhost:8080/",
          "height": 518
        },
        "id": "EK7YAJKLUkYD",
        "outputId": "476ead57-96a0-4133-d4e2-d0082057c616"
      },
      "outputs": [
        {
          "data": {
            "text/html": [
              "<div>\n",
              "<style scoped>\n",
              "    .dataframe tbody tr th:only-of-type {\n",
              "        vertical-align: middle;\n",
              "    }\n",
              "\n",
              "    .dataframe tbody tr th {\n",
              "        vertical-align: top;\n",
              "    }\n",
              "\n",
              "    .dataframe thead th {\n",
              "        text-align: right;\n",
              "    }\n",
              "</style>\n",
              "<table border=\"1\" class=\"dataframe\">\n",
              "  <thead>\n",
              "    <tr style=\"text-align: right;\">\n",
              "      <th></th>\n",
              "      <th>Timestamp</th>\n",
              "      <th>CAN ID</th>\n",
              "      <th>DLC</th>\n",
              "      <th>data1</th>\n",
              "      <th>data2</th>\n",
              "      <th>data3</th>\n",
              "      <th>data4</th>\n",
              "      <th>data5</th>\n",
              "      <th>data6</th>\n",
              "      <th>data7</th>\n",
              "      <th>data8</th>\n",
              "      <th>Label</th>\n",
              "      <th>Datetime</th>\n",
              "      <th>SecondsSinceStart</th>\n",
              "      <th>EncodedLabel</th>\n",
              "    </tr>\n",
              "  </thead>\n",
              "  <tbody>\n",
              "    <tr>\n",
              "      <th>count</th>\n",
              "      <td>1.200000e+03</td>\n",
              "      <td>1200.000000</td>\n",
              "      <td>1200.000000</td>\n",
              "      <td>1200.000000</td>\n",
              "      <td>1200.000000</td>\n",
              "      <td>1200.000000</td>\n",
              "      <td>1200.000000</td>\n",
              "      <td>1200.000000</td>\n",
              "      <td>1200.000000</td>\n",
              "      <td>1200.000000</td>\n",
              "      <td>1200.000000</td>\n",
              "      <td>1200</td>\n",
              "      <td>1200</td>\n",
              "      <td>1200.000000</td>\n",
              "      <td>1200.000000</td>\n",
              "    </tr>\n",
              "    <tr>\n",
              "      <th>unique</th>\n",
              "      <td>NaN</td>\n",
              "      <td>NaN</td>\n",
              "      <td>NaN</td>\n",
              "      <td>NaN</td>\n",
              "      <td>NaN</td>\n",
              "      <td>NaN</td>\n",
              "      <td>NaN</td>\n",
              "      <td>NaN</td>\n",
              "      <td>NaN</td>\n",
              "      <td>NaN</td>\n",
              "      <td>NaN</td>\n",
              "      <td>5</td>\n",
              "      <td>NaN</td>\n",
              "      <td>NaN</td>\n",
              "      <td>NaN</td>\n",
              "    </tr>\n",
              "    <tr>\n",
              "      <th>top</th>\n",
              "      <td>NaN</td>\n",
              "      <td>NaN</td>\n",
              "      <td>NaN</td>\n",
              "      <td>NaN</td>\n",
              "      <td>NaN</td>\n",
              "      <td>NaN</td>\n",
              "      <td>NaN</td>\n",
              "      <td>NaN</td>\n",
              "      <td>NaN</td>\n",
              "      <td>NaN</td>\n",
              "      <td>NaN</td>\n",
              "      <td>Normal</td>\n",
              "      <td>NaN</td>\n",
              "      <td>NaN</td>\n",
              "      <td>NaN</td>\n",
              "    </tr>\n",
              "    <tr>\n",
              "      <th>freq</th>\n",
              "      <td>NaN</td>\n",
              "      <td>NaN</td>\n",
              "      <td>NaN</td>\n",
              "      <td>NaN</td>\n",
              "      <td>NaN</td>\n",
              "      <td>NaN</td>\n",
              "      <td>NaN</td>\n",
              "      <td>NaN</td>\n",
              "      <td>NaN</td>\n",
              "      <td>NaN</td>\n",
              "      <td>NaN</td>\n",
              "      <td>1000</td>\n",
              "      <td>NaN</td>\n",
              "      <td>NaN</td>\n",
              "      <td>NaN</td>\n",
              "    </tr>\n",
              "    <tr>\n",
              "      <th>mean</th>\n",
              "      <td>1.478196e+09</td>\n",
              "      <td>704.009167</td>\n",
              "      <td>7.947500</td>\n",
              "      <td>294.083333</td>\n",
              "      <td>207.329167</td>\n",
              "      <td>86.610000</td>\n",
              "      <td>187.165833</td>\n",
              "      <td>118.652500</td>\n",
              "      <td>138.968333</td>\n",
              "      <td>61.855000</td>\n",
              "      <td>127.102500</td>\n",
              "      <td>NaN</td>\n",
              "      <td>2016-11-03 18:07:48.408272640</td>\n",
              "      <td>5426.112735</td>\n",
              "      <td>3.583333</td>\n",
              "    </tr>\n",
              "    <tr>\n",
              "      <th>min</th>\n",
              "      <td>1.478191e+09</td>\n",
              "      <td>0.000000</td>\n",
              "      <td>2.000000</td>\n",
              "      <td>0.000000</td>\n",
              "      <td>0.000000</td>\n",
              "      <td>0.000000</td>\n",
              "      <td>0.000000</td>\n",
              "      <td>0.000000</td>\n",
              "      <td>0.000000</td>\n",
              "      <td>0.000000</td>\n",
              "      <td>0.000000</td>\n",
              "      <td>NaN</td>\n",
              "      <td>2016-11-03 16:37:22.295537949</td>\n",
              "      <td>0.000000</td>\n",
              "      <td>0.000000</td>\n",
              "    </tr>\n",
              "    <tr>\n",
              "      <th>25%</th>\n",
              "      <td>1.478193e+09</td>\n",
              "      <td>339.000000</td>\n",
              "      <td>8.000000</td>\n",
              "      <td>0.000000</td>\n",
              "      <td>0.000000</td>\n",
              "      <td>0.000000</td>\n",
              "      <td>0.000000</td>\n",
              "      <td>0.000000</td>\n",
              "      <td>0.000000</td>\n",
              "      <td>0.000000</td>\n",
              "      <td>0.000000</td>\n",
              "      <td>NaN</td>\n",
              "      <td>2016-11-03 17:16:36.660604672</td>\n",
              "      <td>2354.365067</td>\n",
              "      <td>4.000000</td>\n",
              "    </tr>\n",
              "    <tr>\n",
              "      <th>50%</th>\n",
              "      <td>1.478196e+09</td>\n",
              "      <td>790.000000</td>\n",
              "      <td>8.000000</td>\n",
              "      <td>5.000000</td>\n",
              "      <td>80.500000</td>\n",
              "      <td>0.000000</td>\n",
              "      <td>32.000000</td>\n",
              "      <td>23.000000</td>\n",
              "      <td>50.000000</td>\n",
              "      <td>0.000000</td>\n",
              "      <td>0.000000</td>\n",
              "      <td>NaN</td>\n",
              "      <td>2016-11-03 18:06:35.102626816</td>\n",
              "      <td>5352.807089</td>\n",
              "      <td>4.000000</td>\n",
              "    </tr>\n",
              "    <tr>\n",
              "      <th>75%</th>\n",
              "      <td>1.478200e+09</td>\n",
              "      <td>1087.000000</td>\n",
              "      <td>8.000000</td>\n",
              "      <td>261.000000</td>\n",
              "      <td>261.000000</td>\n",
              "      <td>150.000000</td>\n",
              "      <td>320.000000</td>\n",
              "      <td>263.000000</td>\n",
              "      <td>295.000000</td>\n",
              "      <td>17.000000</td>\n",
              "      <td>273.000000</td>\n",
              "      <td>NaN</td>\n",
              "      <td>2016-11-03 19:07:23.439203328</td>\n",
              "      <td>9001.143666</td>\n",
              "      <td>4.000000</td>\n",
              "    </tr>\n",
              "    <tr>\n",
              "      <th>max</th>\n",
              "      <td>1.478201e+09</td>\n",
              "      <td>2039.000000</td>\n",
              "      <td>8.000000</td>\n",
              "      <td>1431.000000</td>\n",
              "      <td>1410.000000</td>\n",
              "      <td>597.000000</td>\n",
              "      <td>597.000000</td>\n",
              "      <td>597.000000</td>\n",
              "      <td>597.000000</td>\n",
              "      <td>593.000000</td>\n",
              "      <td>597.000000</td>\n",
              "      <td>NaN</td>\n",
              "      <td>2016-11-03 19:26:48.940843105</td>\n",
              "      <td>10166.645305</td>\n",
              "      <td>4.000000</td>\n",
              "    </tr>\n",
              "    <tr>\n",
              "      <th>std</th>\n",
              "      <td>3.395188e+03</td>\n",
              "      <td>398.687020</td>\n",
              "      <td>0.538503</td>\n",
              "      <td>513.670682</td>\n",
              "      <td>308.534713</td>\n",
              "      <td>132.738543</td>\n",
              "      <td>245.903987</td>\n",
              "      <td>176.351235</td>\n",
              "      <td>183.865275</td>\n",
              "      <td>137.765314</td>\n",
              "      <td>192.241344</td>\n",
              "      <td>NaN</td>\n",
              "      <td>NaN</td>\n",
              "      <td>3395.188376</td>\n",
              "      <td>1.037924</td>\n",
              "    </tr>\n",
              "  </tbody>\n",
              "</table>\n",
              "</div>"
            ],
            "text/plain": [
              "           Timestamp       CAN ID          DLC        data1        data2  \\\n",
              "count   1.200000e+03  1200.000000  1200.000000  1200.000000  1200.000000   \n",
              "unique           NaN          NaN          NaN          NaN          NaN   \n",
              "top              NaN          NaN          NaN          NaN          NaN   \n",
              "freq             NaN          NaN          NaN          NaN          NaN   \n",
              "mean    1.478196e+09   704.009167     7.947500   294.083333   207.329167   \n",
              "min     1.478191e+09     0.000000     2.000000     0.000000     0.000000   \n",
              "25%     1.478193e+09   339.000000     8.000000     0.000000     0.000000   \n",
              "50%     1.478196e+09   790.000000     8.000000     5.000000    80.500000   \n",
              "75%     1.478200e+09  1087.000000     8.000000   261.000000   261.000000   \n",
              "max     1.478201e+09  2039.000000     8.000000  1431.000000  1410.000000   \n",
              "std     3.395188e+03   398.687020     0.538503   513.670682   308.534713   \n",
              "\n",
              "              data3        data4        data5        data6        data7  \\\n",
              "count   1200.000000  1200.000000  1200.000000  1200.000000  1200.000000   \n",
              "unique          NaN          NaN          NaN          NaN          NaN   \n",
              "top             NaN          NaN          NaN          NaN          NaN   \n",
              "freq            NaN          NaN          NaN          NaN          NaN   \n",
              "mean      86.610000   187.165833   118.652500   138.968333    61.855000   \n",
              "min        0.000000     0.000000     0.000000     0.000000     0.000000   \n",
              "25%        0.000000     0.000000     0.000000     0.000000     0.000000   \n",
              "50%        0.000000    32.000000    23.000000    50.000000     0.000000   \n",
              "75%      150.000000   320.000000   263.000000   295.000000    17.000000   \n",
              "max      597.000000   597.000000   597.000000   597.000000   593.000000   \n",
              "std      132.738543   245.903987   176.351235   183.865275   137.765314   \n",
              "\n",
              "              data8   Label                       Datetime  SecondsSinceStart  \\\n",
              "count   1200.000000    1200                           1200        1200.000000   \n",
              "unique          NaN       5                            NaN                NaN   \n",
              "top             NaN  Normal                            NaN                NaN   \n",
              "freq            NaN    1000                            NaN                NaN   \n",
              "mean     127.102500     NaN  2016-11-03 18:07:48.408272640        5426.112735   \n",
              "min        0.000000     NaN  2016-11-03 16:37:22.295537949           0.000000   \n",
              "25%        0.000000     NaN  2016-11-03 17:16:36.660604672        2354.365067   \n",
              "50%        0.000000     NaN  2016-11-03 18:06:35.102626816        5352.807089   \n",
              "75%      273.000000     NaN  2016-11-03 19:07:23.439203328        9001.143666   \n",
              "max      597.000000     NaN  2016-11-03 19:26:48.940843105       10166.645305   \n",
              "std      192.241344     NaN                            NaN        3395.188376   \n",
              "\n",
              "        EncodedLabel  \n",
              "count    1200.000000  \n",
              "unique           NaN  \n",
              "top              NaN  \n",
              "freq             NaN  \n",
              "mean        3.583333  \n",
              "min         0.000000  \n",
              "25%         4.000000  \n",
              "50%         4.000000  \n",
              "75%         4.000000  \n",
              "max         4.000000  \n",
              "std         1.037924  "
            ]
          },
          "execution_count": 18,
          "metadata": {},
          "output_type": "execute_result"
        }
      ],
      "source": [
        "df.describe(include='all')"
      ]
    },
    {
      "cell_type": "markdown",
      "metadata": {
        "id": "j9ovMQn2pOBf"
      },
      "source": [
        "# **3. Missing Values**"
      ]
    },
    {
      "cell_type": "code",
      "execution_count": 6,
      "metadata": {
        "colab": {
          "base_uri": "https://localhost:8080/",
          "height": 115
        },
        "id": "cdd9hIgmXrGv",
        "outputId": "050624e8-b41b-4778-a79f-57c1d0a4eb76"
      },
      "outputs": [
        {
          "data": {
            "text/plain": [
              "Timestamp            0\n",
              "CAN ID               0\n",
              "DLC                  0\n",
              "data1                0\n",
              "data2                0\n",
              "data3                0\n",
              "data4                0\n",
              "data5                0\n",
              "data6                0\n",
              "data7                0\n",
              "data8                0\n",
              "Label                0\n",
              "Datetime             0\n",
              "SecondsSinceStart    0\n",
              "dtype: int64"
            ]
          },
          "execution_count": 6,
          "metadata": {},
          "output_type": "execute_result"
        }
      ],
      "source": [
        "df.isnull().sum()"
      ]
    },
    {
      "cell_type": "code",
      "execution_count": null,
      "metadata": {
        "id": "HKOQe6lppPlo"
      },
      "outputs": [],
      "source": [
        "df = df.dropna(subset=['Datetime', 'SecondsSinceStart'])\n"
      ]
    },
    {
      "cell_type": "code",
      "execution_count": 7,
      "metadata": {
        "colab": {
          "base_uri": "https://localhost:8080/",
          "height": 973
        },
        "id": "hN5ginBtpe30",
        "outputId": "e4b494c7-0e28-4a45-c212-68266f6f730c"
      },
      "outputs": [
        {
          "ename": "ModuleNotFoundError",
          "evalue": "No module named 'missingno'",
          "output_type": "error",
          "traceback": [
            "\u001b[31m---------------------------------------------------------------------------\u001b[39m",
            "\u001b[31mModuleNotFoundError\u001b[39m                       Traceback (most recent call last)",
            "\u001b[36mCell\u001b[39m\u001b[36m \u001b[39m\u001b[32mIn[7]\u001b[39m\u001b[32m, line 1\u001b[39m\n\u001b[32m----> \u001b[39m\u001b[32m1\u001b[39m \u001b[38;5;28;01mimport\u001b[39;00m\u001b[38;5;250m \u001b[39m\u001b[34;01mmissingno\u001b[39;00m\u001b[38;5;250m \u001b[39m\u001b[38;5;28;01mas\u001b[39;00m\u001b[38;5;250m \u001b[39m\u001b[34;01mmsno\u001b[39;00m\n\u001b[32m      2\u001b[39m msno.matrix(df)\n",
            "\u001b[31mModuleNotFoundError\u001b[39m: No module named 'missingno'"
          ]
        }
      ],
      "source": [
        "import missingno as msno\n",
        "msno.matrix(df)"
      ]
    },
    {
      "cell_type": "markdown",
      "metadata": {
        "id": "2bgYfod8p_7U"
      },
      "source": [
        "# **4. Duplicate Data**"
      ]
    },
    {
      "cell_type": "code",
      "execution_count": 8,
      "metadata": {
        "colab": {
          "base_uri": "https://localhost:8080/"
        },
        "id": "Jdmg1g-Fp4Kh",
        "outputId": "573b557e-be62-4ba4-a618-ea32c4bf9904"
      },
      "outputs": [
        {
          "data": {
            "text/plain": [
              "2673204"
            ]
          },
          "execution_count": 8,
          "metadata": {},
          "output_type": "execute_result"
        }
      ],
      "source": [
        "df.duplicated().sum() # nothing is duplicate"
      ]
    },
    {
      "cell_type": "markdown",
      "metadata": {
        "id": "KltNaMAmqqvU"
      },
      "source": [
        "# **5. Unique Values**"
      ]
    },
    {
      "cell_type": "code",
      "execution_count": 9,
      "metadata": {
        "colab": {
          "base_uri": "https://localhost:8080/",
          "height": 115
        },
        "id": "YC5I62PVqXKw",
        "outputId": "27d4e296-b976-4228-e8ea-7215467df942"
      },
      "outputs": [
        {
          "data": {
            "text/plain": [
              "Timestamp            13896271\n",
              "CAN ID                   2048\n",
              "DLC                         4\n",
              "data1                     256\n",
              "data2                     256\n",
              "data3                     256\n",
              "data4                     256\n",
              "data5                     256\n",
              "data6                     256\n",
              "data7                     256\n",
              "data8                     256\n",
              "Label                       5\n",
              "Datetime             13896271\n",
              "SecondsSinceStart    13896271\n",
              "dtype: int64"
            ]
          },
          "execution_count": 9,
          "metadata": {},
          "output_type": "execute_result"
        }
      ],
      "source": [
        "df.nunique()"
      ]
    },
    {
      "cell_type": "code",
      "execution_count": 10,
      "metadata": {
        "colab": {
          "base_uri": "https://localhost:8080/"
        },
        "id": "WM_515ms0AYp",
        "outputId": "22b5fb89-ac76-44b3-c7fb-fd4dc3752f3d"
      },
      "outputs": [
        {
          "data": {
            "text/plain": [
              "(16569475, 14)"
            ]
          },
          "execution_count": 10,
          "metadata": {},
          "output_type": "execute_result"
        }
      ],
      "source": [
        "df.shape"
      ]
    },
    {
      "cell_type": "code",
      "execution_count": null,
      "metadata": {
        "id": "ZDIXo0VtlrBH"
      },
      "outputs": [],
      "source": []
    },
    {
      "cell_type": "code",
      "execution_count": null,
      "metadata": {
        "colab": {
          "base_uri": "https://localhost:8080/",
          "height": 147
        },
        "id": "f4trRRIkq2_c",
        "outputId": "ba7f8f8d-198f-487a-8bd8-5c47bbc82031"
      },
      "outputs": [
        {
          "data": {
            "text/html": [
              "<div>\n",
              "<style scoped>\n",
              "    .dataframe tbody tr th:only-of-type {\n",
              "        vertical-align: middle;\n",
              "    }\n",
              "\n",
              "    .dataframe tbody tr th {\n",
              "        vertical-align: top;\n",
              "    }\n",
              "\n",
              "    .dataframe thead th {\n",
              "        text-align: right;\n",
              "    }\n",
              "</style>\n",
              "<table border=\"1\" class=\"dataframe\">\n",
              "  <thead>\n",
              "    <tr style=\"text-align: right;\">\n",
              "      <th></th>\n",
              "      <th></th>\n",
              "      <th></th>\n",
              "      <th>count</th>\n",
              "    </tr>\n",
              "    <tr>\n",
              "      <th>CAN ID</th>\n",
              "      <th>data1</th>\n",
              "      <th>Label</th>\n",
              "      <th></th>\n",
              "    </tr>\n",
              "  </thead>\n",
              "  <tbody>\n",
              "    <tr>\n",
              "      <th>1520.0</th>\n",
              "      <th>1.0</th>\n",
              "      <th>Normal</th>\n",
              "      <td>907</td>\n",
              "    </tr>\n",
              "  </tbody>\n",
              "</table>\n",
              "</div><br><label><b>dtype:</b> int64</label>"
            ],
            "text/plain": [
              "CAN ID  data1  Label \n",
              "1520.0  1.0    Normal    907\n",
              "Name: count, dtype: int64"
            ]
          },
          "execution_count": 50,
          "metadata": {},
          "output_type": "execute_result"
        }
      ],
      "source": [
        "df[df['DLC']==2][ ['CAN ID','data1',  'Label']].value_counts()"
      ]
    },
    {
      "cell_type": "code",
      "execution_count": null,
      "metadata": {},
      "outputs": [],
      "source": []
    },
    {
      "cell_type": "code",
      "execution_count": null,
      "metadata": {
        "colab": {
          "base_uri": "https://localhost:8080/",
          "height": 147
        },
        "id": "t5nRZM6UmaPG",
        "outputId": "fca55f38-f6b4-4739-9c24-cc2453ff121c"
      },
      "outputs": [
        {
          "data": {
            "text/html": [
              "<div>\n",
              "<style scoped>\n",
              "    .dataframe tbody tr th:only-of-type {\n",
              "        vertical-align: middle;\n",
              "    }\n",
              "\n",
              "    .dataframe tbody tr th {\n",
              "        vertical-align: top;\n",
              "    }\n",
              "\n",
              "    .dataframe thead th {\n",
              "        text-align: right;\n",
              "    }\n",
              "</style>\n",
              "<table border=\"1\" class=\"dataframe\">\n",
              "  <thead>\n",
              "    <tr style=\"text-align: right;\">\n",
              "      <th></th>\n",
              "      <th>count</th>\n",
              "    </tr>\n",
              "    <tr>\n",
              "      <th>Label</th>\n",
              "      <th></th>\n",
              "    </tr>\n",
              "  </thead>\n",
              "  <tbody>\n",
              "    <tr>\n",
              "      <th>Normal</th>\n",
              "      <td>1321</td>\n",
              "    </tr>\n",
              "  </tbody>\n",
              "</table>\n",
              "</div><br><label><b>dtype:</b> int64</label>"
            ],
            "text/plain": [
              "Label \n",
              "Normal    1321\n",
              "Name: count, dtype: int64"
            ]
          },
          "execution_count": 13,
          "metadata": {},
          "output_type": "execute_result"
        }
      ],
      "source": [
        "df[df['DLC']==2][ [ 'Label']].value_counts()"
      ]
    },
    {
      "cell_type": "code",
      "execution_count": 2,
      "metadata": {},
      "outputs": [
        {
          "data": {
            "text/plain": [
              "Label\n",
              "Normal                14237958\n",
              "Impersonation_rpm       654897\n",
              "Impersonation_gear      597252\n",
              "DoS                     587521\n",
              "Fuzzy                   491847\n",
              "Name: count, dtype: int64"
            ]
          },
          "execution_count": 2,
          "metadata": {},
          "output_type": "execute_result"
        }
      ],
      "source": [
        "df [ 'Label'].value_counts()"
      ]
    },
    {
      "cell_type": "code",
      "execution_count": null,
      "metadata": {
        "id": "-vXvFl4ypyE5"
      },
      "outputs": [],
      "source": [
        "df['Label'] = df['Label'].str.strip()\n"
      ]
    },
    {
      "cell_type": "code",
      "execution_count": 12,
      "metadata": {
        "colab": {
          "base_uri": "https://localhost:8080/",
          "height": 178
        },
        "id": "MJtHCk2cUx_z",
        "outputId": "990f3bf4-133a-44ce-897d-0e459e1006ae"
      },
      "outputs": [
        {
          "data": {
            "text/html": [
              "<div>\n",
              "<style scoped>\n",
              "    .dataframe tbody tr th:only-of-type {\n",
              "        vertical-align: middle;\n",
              "    }\n",
              "\n",
              "    .dataframe tbody tr th {\n",
              "        vertical-align: top;\n",
              "    }\n",
              "\n",
              "    .dataframe thead th {\n",
              "        text-align: right;\n",
              "    }\n",
              "</style>\n",
              "<table border=\"1\" class=\"dataframe\">\n",
              "  <thead>\n",
              "    <tr style=\"text-align: right;\">\n",
              "      <th></th>\n",
              "      <th></th>\n",
              "      <th>count</th>\n",
              "    </tr>\n",
              "    <tr>\n",
              "      <th>EncodedLabel</th>\n",
              "      <th>Label</th>\n",
              "      <th></th>\n",
              "    </tr>\n",
              "  </thead>\n",
              "  <tbody>\n",
              "    <tr>\n",
              "      <th>1</th>\n",
              "      <th>Normal</th>\n",
              "      <td>1007808</td>\n",
              "    </tr>\n",
              "    <tr>\n",
              "      <th>0</th>\n",
              "      <th>DoS</th>\n",
              "      <td>278214</td>\n",
              "    </tr>\n",
              "  </tbody>\n",
              "</table>\n",
              "</div><br><label><b>dtype:</b> int64</label>"
            ],
            "text/plain": [
              "EncodedLabel  Label \n",
              "1             Normal    1007808\n",
              "0             DoS        278214\n",
              "Name: count, dtype: int64"
            ]
          },
          "execution_count": 12,
          "metadata": {},
          "output_type": "execute_result"
        }
      ],
      "source": [
        "df[['EncodedLabel','Label']].value_counts()"
      ]
    },
    {
      "cell_type": "markdown",
      "metadata": {
        "id": "B9VgTlSoGL41"
      },
      "source": [
        "# **6. Correlation Analysis**"
      ]
    },
    {
      "cell_type": "code",
      "execution_count": 41,
      "metadata": {
        "colab": {
          "base_uri": "https://localhost:8080/",
          "height": 363
        },
        "id": "Az1DSZF3rheo",
        "outputId": "fe9a70dd-8e9e-423b-e712-be9ec2329679"
      },
      "outputs": [
        {
          "data": {
            "text/html": [
              "<div>\n",
              "<style scoped>\n",
              "    .dataframe tbody tr th:only-of-type {\n",
              "        vertical-align: middle;\n",
              "    }\n",
              "\n",
              "    .dataframe tbody tr th {\n",
              "        vertical-align: top;\n",
              "    }\n",
              "\n",
              "    .dataframe thead th {\n",
              "        text-align: right;\n",
              "    }\n",
              "</style>\n",
              "<table border=\"1\" class=\"dataframe\">\n",
              "  <thead>\n",
              "    <tr style=\"text-align: right;\">\n",
              "      <th></th>\n",
              "      <th>CAN ID</th>\n",
              "      <th>DLC</th>\n",
              "      <th>data1</th>\n",
              "      <th>data2</th>\n",
              "      <th>data3</th>\n",
              "      <th>data4</th>\n",
              "      <th>data5</th>\n",
              "      <th>data6</th>\n",
              "      <th>data7</th>\n",
              "      <th>data8</th>\n",
              "    </tr>\n",
              "  </thead>\n",
              "  <tbody>\n",
              "    <tr>\n",
              "      <th>CAN ID</th>\n",
              "      <td>1.000000</td>\n",
              "      <td>-0.170615</td>\n",
              "      <td>0.192095</td>\n",
              "      <td>-0.067636</td>\n",
              "      <td>0.209884</td>\n",
              "      <td>0.171907</td>\n",
              "      <td>0.304901</td>\n",
              "      <td>-0.009582</td>\n",
              "      <td>0.150098</td>\n",
              "      <td>-0.177796</td>\n",
              "    </tr>\n",
              "    <tr>\n",
              "      <th>DLC</th>\n",
              "      <td>-0.170615</td>\n",
              "      <td>1.000000</td>\n",
              "      <td>0.042774</td>\n",
              "      <td>0.055613</td>\n",
              "      <td>0.063666</td>\n",
              "      <td>0.073908</td>\n",
              "      <td>0.048313</td>\n",
              "      <td>0.073748</td>\n",
              "      <td>0.043809</td>\n",
              "      <td>0.064512</td>\n",
              "    </tr>\n",
              "    <tr>\n",
              "      <th>data1</th>\n",
              "      <td>0.192095</td>\n",
              "      <td>0.042774</td>\n",
              "      <td>1.000000</td>\n",
              "      <td>0.191279</td>\n",
              "      <td>-0.054218</td>\n",
              "      <td>-0.172307</td>\n",
              "      <td>0.251063</td>\n",
              "      <td>0.136182</td>\n",
              "      <td>-0.064147</td>\n",
              "      <td>-0.126601</td>\n",
              "    </tr>\n",
              "    <tr>\n",
              "      <th>data2</th>\n",
              "      <td>-0.067636</td>\n",
              "      <td>0.055613</td>\n",
              "      <td>0.191279</td>\n",
              "      <td>1.000000</td>\n",
              "      <td>0.245703</td>\n",
              "      <td>0.170835</td>\n",
              "      <td>-0.019399</td>\n",
              "      <td>0.152505</td>\n",
              "      <td>-0.069465</td>\n",
              "      <td>0.148006</td>\n",
              "    </tr>\n",
              "    <tr>\n",
              "      <th>data3</th>\n",
              "      <td>0.209884</td>\n",
              "      <td>0.063666</td>\n",
              "      <td>-0.054218</td>\n",
              "      <td>0.245703</td>\n",
              "      <td>1.000000</td>\n",
              "      <td>0.055514</td>\n",
              "      <td>0.300230</td>\n",
              "      <td>-0.134273</td>\n",
              "      <td>0.266503</td>\n",
              "      <td>0.113408</td>\n",
              "    </tr>\n",
              "    <tr>\n",
              "      <th>data4</th>\n",
              "      <td>0.171907</td>\n",
              "      <td>0.073908</td>\n",
              "      <td>-0.172307</td>\n",
              "      <td>0.170835</td>\n",
              "      <td>0.055514</td>\n",
              "      <td>1.000000</td>\n",
              "      <td>0.115669</td>\n",
              "      <td>0.409391</td>\n",
              "      <td>-0.028464</td>\n",
              "      <td>0.184337</td>\n",
              "    </tr>\n",
              "    <tr>\n",
              "      <th>data5</th>\n",
              "      <td>0.304901</td>\n",
              "      <td>0.048313</td>\n",
              "      <td>0.251063</td>\n",
              "      <td>-0.019399</td>\n",
              "      <td>0.300230</td>\n",
              "      <td>0.115669</td>\n",
              "      <td>1.000000</td>\n",
              "      <td>0.277631</td>\n",
              "      <td>0.184735</td>\n",
              "      <td>-0.061014</td>\n",
              "    </tr>\n",
              "    <tr>\n",
              "      <th>data6</th>\n",
              "      <td>-0.009582</td>\n",
              "      <td>0.073748</td>\n",
              "      <td>0.136182</td>\n",
              "      <td>0.152505</td>\n",
              "      <td>-0.134273</td>\n",
              "      <td>0.409391</td>\n",
              "      <td>0.277631</td>\n",
              "      <td>1.000000</td>\n",
              "      <td>0.123483</td>\n",
              "      <td>-0.068282</td>\n",
              "    </tr>\n",
              "    <tr>\n",
              "      <th>data7</th>\n",
              "      <td>0.150098</td>\n",
              "      <td>0.043809</td>\n",
              "      <td>-0.064147</td>\n",
              "      <td>-0.069465</td>\n",
              "      <td>0.266503</td>\n",
              "      <td>-0.028464</td>\n",
              "      <td>0.184735</td>\n",
              "      <td>0.123483</td>\n",
              "      <td>1.000000</td>\n",
              "      <td>-0.071933</td>\n",
              "    </tr>\n",
              "    <tr>\n",
              "      <th>data8</th>\n",
              "      <td>-0.177796</td>\n",
              "      <td>0.064512</td>\n",
              "      <td>-0.126601</td>\n",
              "      <td>0.148006</td>\n",
              "      <td>0.113408</td>\n",
              "      <td>0.184337</td>\n",
              "      <td>-0.061014</td>\n",
              "      <td>-0.068282</td>\n",
              "      <td>-0.071933</td>\n",
              "      <td>1.000000</td>\n",
              "    </tr>\n",
              "  </tbody>\n",
              "</table>\n",
              "</div>"
            ],
            "text/plain": [
              "          CAN ID       DLC     data1     data2     data3     data4     data5  \\\n",
              "CAN ID  1.000000 -0.170615  0.192095 -0.067636  0.209884  0.171907  0.304901   \n",
              "DLC    -0.170615  1.000000  0.042774  0.055613  0.063666  0.073908  0.048313   \n",
              "data1   0.192095  0.042774  1.000000  0.191279 -0.054218 -0.172307  0.251063   \n",
              "data2  -0.067636  0.055613  0.191279  1.000000  0.245703  0.170835 -0.019399   \n",
              "data3   0.209884  0.063666 -0.054218  0.245703  1.000000  0.055514  0.300230   \n",
              "data4   0.171907  0.073908 -0.172307  0.170835  0.055514  1.000000  0.115669   \n",
              "data5   0.304901  0.048313  0.251063 -0.019399  0.300230  0.115669  1.000000   \n",
              "data6  -0.009582  0.073748  0.136182  0.152505 -0.134273  0.409391  0.277631   \n",
              "data7   0.150098  0.043809 -0.064147 -0.069465  0.266503 -0.028464  0.184735   \n",
              "data8  -0.177796  0.064512 -0.126601  0.148006  0.113408  0.184337 -0.061014   \n",
              "\n",
              "           data6     data7     data8  \n",
              "CAN ID -0.009582  0.150098 -0.177796  \n",
              "DLC     0.073748  0.043809  0.064512  \n",
              "data1   0.136182 -0.064147 -0.126601  \n",
              "data2   0.152505 -0.069465  0.148006  \n",
              "data3  -0.134273  0.266503  0.113408  \n",
              "data4   0.409391 -0.028464  0.184337  \n",
              "data5   0.277631  0.184735 -0.061014  \n",
              "data6   1.000000  0.123483 -0.068282  \n",
              "data7   0.123483  1.000000 -0.071933  \n",
              "data8  -0.068282 -0.071933  1.000000  "
            ]
          },
          "execution_count": 41,
          "metadata": {},
          "output_type": "execute_result"
        }
      ],
      "source": [
        "df[['CAN ID','DLC','data1','data2','data3','data4','data5','data6','data7','data8']].corr()\n"
      ]
    },
    {
      "cell_type": "code",
      "execution_count": null,
      "metadata": {
        "colab": {
          "base_uri": "https://localhost:8080/",
          "height": 488
        },
        "id": "p8gWUXuLGPMl",
        "outputId": "fca56f83-a79e-437b-bdb7-cc5988ed2cfd"
      },
      "outputs": [
        {
          "data": {
            "text/plain": [
              "<Axes: >"
            ]
          },
          "execution_count": 11,
          "metadata": {},
          "output_type": "execute_result"
        },
        {
          "data": {
            "image/png": "[encoded data removed]",
            "text/plain": [
              "<Figure size 640x480 with 2 Axes>"
            ]
          },
          "metadata": {},
          "output_type": "display_data"
        }
      ],
      "source": [
        "import seaborn as sns\n",
        "sns.heatmap(df[['CAN ID','DLC','data1','data2','data3','data4','data5','data6','data7','data8']].corr(), annot=True, cmap='coolwarm')"
      ]
    },
    {
      "cell_type": "markdown",
      "metadata": {
        "id": "J1mr7OhcMv5x"
      },
      "source": [
        "# **7. Data Distribution**"
      ]
    },
    {
      "cell_type": "code",
      "execution_count": null,
      "metadata": {
        "colab": {
          "base_uri": "https://localhost:8080/",
          "height": 899
        },
        "id": "QYAHSbdlLvrz",
        "outputId": "1cb4b7b6-81e2-47d0-bead-d0abe2b5f2db"
      },
      "outputs": [
        {
          "data": {
            "text/plain": [
              "array([[<Axes: title={'center': 'Timestamp'}>,\n",
              "        <Axes: title={'center': 'CAN ID'}>,\n",
              "        <Axes: title={'center': 'DLC'}>],\n",
              "       [<Axes: title={'center': 'data1'}>,\n",
              "        <Axes: title={'center': 'data2'}>,\n",
              "        <Axes: title={'center': 'data3'}>],\n",
              "       [<Axes: title={'center': 'data4'}>,\n",
              "        <Axes: title={'center': 'data5'}>,\n",
              "        <Axes: title={'center': 'data6'}>],\n",
              "       [<Axes: title={'center': 'data7'}>,\n",
              "        <Axes: title={'center': 'data8'}>, <Axes: >]], dtype=object)"
            ]
          },
          "execution_count": 14,
          "metadata": {},
          "output_type": "execute_result"
        },
        {
          "data": {
            "image/png": "[encoded data removed]",
            "text/plain": [
              "<Figure size 1000x800 with 12 Axes>"
            ]
          },
          "metadata": {},
          "output_type": "display_data"
        }
      ],
      "source": [
        "df.hist(bins=30, figsize=(10, 8))"
      ]
    },
    {
      "cell_type": "code",
      "execution_count": null,
      "metadata": {
        "colab": {
          "base_uri": "https://localhost:8080/",
          "height": 555
        },
        "id": "DrEMTenyOLqJ",
        "outputId": "961f65d5-66f5-4ab0-d4c3-0090b6b07bad"
      },
      "outputs": [
        {
          "data": {
            "text/plain": [
              "<Axes: >"
            ]
          },
          "execution_count": 16,
          "metadata": {},
          "output_type": "execute_result"
        },
        {
          "data": {
            "image/png": "[encoded data removed]",
            "text/plain": [
              "<Figure size 1000x600 with 1 Axes>"
            ]
          },
          "metadata": {},
          "output_type": "display_data"
        }
      ],
      "source": [
        "df.boxplot(figsize=(10, 6))"
      ]
    },
    {
      "cell_type": "markdown",
      "metadata": {
        "id": "LZkBLm2ZVhsC"
      },
      "source": [
        "# **8. Categorical Data Analysis**"
      ]
    },
    {
      "cell_type": "code",
      "execution_count": 5,
      "metadata": {
        "colab": {
          "base_uri": "https://localhost:8080/",
          "height": 475
        },
        "id": "Vn2XWNusVIGD",
        "outputId": "fdbe3d97-cc21-4e07-c96f-a85228949e5d"
      },
      "outputs": [
        {
          "data": {
            "text/plain": [
              "<Axes: xlabel='DLC'>"
            ]
          },
          "execution_count": 5,
          "metadata": {},
          "output_type": "execute_result"
        },
        {
          "data": {
            "image/png": "[encoded data removed]",
            "text/plain": [
              "<Figure size 640x480 with 1 Axes>"
            ]
          },
          "metadata": {},
          "output_type": "display_data"
        }
      ],
      "source": [
        "df['DLC'].value_counts().plot(kind='bar')"
      ]
    },
    {
      "cell_type": "code",
      "execution_count": 4,
      "metadata": {
        "colab": {
          "base_uri": "https://localhost:8080/",
          "height": 519
        },
        "id": "W-Vu8D8CVwHH",
        "outputId": "a335495e-aec0-4c58-ed0d-d4c29cbcc42e"
      },
      "outputs": [
        {
          "data": {
            "text/plain": [
              "<Axes: xlabel='Label'>"
            ]
          },
          "execution_count": 4,
          "metadata": {},
          "output_type": "execute_result"
        },
        {
          "data": {
            "image/png": "[encoded data removed]",
            "text/plain": [
              "<Figure size 640x480 with 1 Axes>"
            ]
          },
          "metadata": {},
          "output_type": "display_data"
        }
      ],
      "source": [
        "df[df['CAN ID'] == 1520][['Label']].value_counts().head(10).plot(kind='bar')\n"
      ]
    },
    {
      "cell_type": "code",
      "execution_count": 11,
      "metadata": {
        "colab": {
          "base_uri": "https://localhost:8080/",
          "height": 467
        },
        "id": "PA12obeUVlmf",
        "outputId": "78a5b29e-cadb-49ae-e04e-2e06f1a83b29"
      },
      "outputs": [
        {
          "ename": "NameError",
          "evalue": "name 'sns' is not defined",
          "output_type": "error",
          "traceback": [
            "\u001b[31m---------------------------------------------------------------------------\u001b[39m",
            "\u001b[31mNameError\u001b[39m                                 Traceback (most recent call last)",
            "\u001b[36mCell\u001b[39m\u001b[36m \u001b[39m\u001b[32mIn[11]\u001b[39m\u001b[32m, line 1\u001b[39m\n\u001b[32m----> \u001b[39m\u001b[32m1\u001b[39m \u001b[43msns\u001b[49m.boxplot(x=df[\u001b[33m'\u001b[39m\u001b[33mCAN ID\u001b[39m\u001b[33m'\u001b[39m], y=df[\u001b[33m'\u001b[39m\u001b[33mDLC\u001b[39m\u001b[33m'\u001b[39m], width =\u001b[32m0.1\u001b[39m)\n",
            "\u001b[31mNameError\u001b[39m: name 'sns' is not defined"
          ]
        }
      ],
      "source": [
        "sns.boxplot(x=df['CAN ID'], y=df['DLC'], width =0.1)"
      ]
    },
    {
      "cell_type": "markdown",
      "metadata": {
        "id": "sT_xPxdnvyHi"
      },
      "source": [
        "# **adding date tiem column and relative tiem column bold text**"
      ]
    },
    {
      "cell_type": "code",
      "execution_count": 11,
      "metadata": {
        "id": "7Neatvg3jkcn"
      },
      "outputs": [],
      "source": [
        "import pandas as pd\n",
        "\n",
        "# Convert from float timestamp to datetime\n",
        "df['Datetime'] = pd.to_datetime(df['Timestamp'], unit='s')\n"
      ]
    },
    {
      "cell_type": "code",
      "execution_count": 12,
      "metadata": {
        "id": "HobJQetDv7i7"
      },
      "outputs": [],
      "source": [
        "df['SecondsSinceStart'] = df['Timestamp'] - df['Timestamp'].min()\n"
      ]
    },
    {
      "cell_type": "code",
      "execution_count": 10,
      "metadata": {
        "id": "L-E5NW7A1VRr"
      },
      "outputs": [],
      "source": [
        "# Replace 'df' with the name of your DataFrame\n",
        "df.to_csv(\"updated_can_dataset.csv\", index=False)\n"
      ]
    },
    {
      "cell_type": "code",
      "execution_count": null,
      "metadata": {
        "colab": {
          "base_uri": "https://localhost:8080/",
          "height": 17
        },
        "id": "lrHOlTMt2Mvl",
        "outputId": "163f7286-55ec-4b34-af71-329d2db4ffab"
      },
      "outputs": [
        {
          "data": {
            "application/javascript": "\n    async function download(id, filename, size) {\n      if (!google.colab.kernel.accessAllowed) {\n        return;\n      }\n      const div = document.createElement('div');\n      const label = document.createElement('label');\n      label.textContent = `Downloading \"${filename}\": `;\n      div.appendChild(label);\n      const progress = document.createElement('progress');\n      progress.max = size;\n      div.appendChild(progress);\n      document.body.appendChild(div);\n\n      const buffers = [];\n      let downloaded = 0;\n\n      const channel = await google.colab.kernel.comms.open(id);\n      // Send a message to notify the kernel that we're ready.\n      channel.send({})\n\n      for await (const message of channel.messages) {\n        // Send a message to notify the kernel that we're ready.\n        channel.send({})\n        if (message.buffers) {\n          for (const buffer of message.buffers) {\n            buffers.push(buffer);\n            downloaded += buffer.byteLength;\n            progress.value = downloaded;\n          }\n        }\n      }\n      const blob = new Blob(buffers, {type: 'application/binary'});\n      const a = document.createElement('a');\n      a.href = window.URL.createObjectURL(blob);\n      a.download = filename;\n      div.appendChild(a);\n      a.click();\n      div.remove();\n    }\n  ",
            "text/plain": [
              "<IPython.core.display.Javascript object>"
            ]
          },
          "metadata": {},
          "output_type": "display_data"
        },
        {
          "data": {
            "application/javascript": "download(\"download_d032965f-fa01-467b-b476-aef87bed0fdf\", \"updated_can_dataset.csv\", 1694966705)",
            "text/plain": [
              "<IPython.core.display.Javascript object>"
            ]
          },
          "metadata": {},
          "output_type": "display_data"
        }
      ],
      "source": [
        "from google.colab import files\n",
        "files.download(\"updated_can_dataset.csv\")\n"
      ]
    },
    {
      "cell_type": "markdown",
      "metadata": {
        "id": "TWw3Mm9n0bZd"
      },
      "source": [
        "#  Label Encoding (for Attack Labels}"
      ]
    },
    {
      "cell_type": "code",
      "execution_count": 3,
      "metadata": {
        "colab": {
          "base_uri": "https://localhost:8080/",
          "height": 182
        },
        "id": "FVyWAQag0u4K",
        "outputId": "f74ece6c-b63e-491b-83d9-5ce799399c4f"
      },
      "outputs": [],
      "source": [
        "from sklearn.preprocessing import LabelEncoder\n",
        "\n",
        "label_encoder = LabelEncoder()\n",
        "df['EncodedLabel'] = label_encoder.fit_transform(df['Label'])\n"
      ]
    },
    {
      "cell_type": "markdown",
      "metadata": {},
      "source": [
        "#**ONLY WHILE EXPERIMENTING TO REDUCE MEMORY USAGE**\n"
      ]
    },
    {
      "cell_type": "code",
      "execution_count": 22,
      "metadata": {},
      "outputs": [],
      "source": [
        "# 1. Stratified sampling\n",
        "from sklearn.model_selection import StratifiedShuffleSplit\n",
        "\n",
        "X = df[['CAN ID', 'data1', 'data2', 'data3', 'data4', 'data5', 'data6', 'data7', 'data8','SecondsSinceStart' ]]  # Features\n",
        "y = df['EncodedLabel']  # Labels\n",
        "\n",
        "strat_split = StratifiedShuffleSplit(n_splits=1, test_size=50000, random_state=42)\n",
        "for train_idx, _ in strat_split.split(X, y):\n",
        "    X_sampled = X.iloc[train_idx]\n",
        "    y_sampled = y.iloc[train_idx]\n",
        "\n",
        "# 2. Reassign to avoid rewriting rest of the code\n",
        "X = X_sampled\n",
        "y = y_sampled\n",
        "\n",
        "# 3. Proceed as usual\n",
        "# (train/test split, model training, etc.)\n"
      ]
    },
    {
      "cell_type": "markdown",
      "metadata": {
        "id": "d9lchwQ_0R7j"
      },
      "source": [
        "# **Data Splitting (Train-Test Split)**"
      ]
    },
    {
      "cell_type": "code",
      "execution_count": 4,
      "metadata": {},
      "outputs": [],
      "source": [
        "                                             \n",
        "                                             \n",
        "                                             \n",
        "                                                # **USE WHILE NOT EXPERIMENTING**\n",
        "                                                \n",
        "                                                \n",
        "                                                \n",
        "                                                \n",
        "X = df[['CAN ID','data1', 'data2', 'data3', 'data4', 'data5', 'data6', 'data7', 'data8','SecondsSinceStart' ]]  # Features\n",
        "y = df['EncodedLabel']  # Labels "
      ]
    },
    {
      "cell_type": "code",
      "execution_count": 5,
      "metadata": {
        "id": "rrpNj36av76u"
      },
      "outputs": [],
      "source": [
        "from sklearn.model_selection import train_test_split\n",
        "\n",
        "\n",
        "X_train, X_test, y_train, y_test = train_test_split(X, y, test_size=0.2, stratify=y, random_state=42)  #stratify=y\n",
        "\n"
      ]
    },
    {
      "cell_type": "markdown",
      "metadata": {
        "id": "BG1lmYWmsLd0"
      },
      "source": [
        "# **Random forest**"
      ]
    },
    {
      "cell_type": "markdown",
      "metadata": {
        "id": "cORe-ywvsZ5d"
      },
      "source": [
        "# **Finetuning hyperparameters**"
      ]
    },
    {
      "cell_type": "markdown",
      "metadata": {
        "id": "PVDpuo1OzlD_"
      },
      "source": [
        "# **1. GridSearchCV (Exhaustive Search)**"
      ]
    },
    {
      "cell_type": "code",
      "execution_count": null,
      "metadata": {
        "id": "1Av-0ymUsi3W"
      },
      "outputs": [
        {
          "name": "stdout",
          "output_type": "stream",
          "text": [
            "Fitting 3 folds for each of 432 candidates, totalling 1296 fits\n"
          ]
        },
        {
          "ename": "KeyboardInterrupt",
          "evalue": "",
          "output_type": "error",
          "traceback": [
            "\u001b[31m---------------------------------------------------------------------------\u001b[39m",
            "\u001b[31mKeyboardInterrupt\u001b[39m                         Traceback (most recent call last)",
            "\u001b[36mCell\u001b[39m\u001b[36m \u001b[39m\u001b[32mIn[13]\u001b[39m\u001b[32m, line 19\u001b[39m\n\u001b[32m     14\u001b[39m rf = RandomForestClassifier(random_state=\u001b[32m42\u001b[39m,class_weight=\u001b[33m'\u001b[39m\u001b[33mbalanced\u001b[39m\u001b[33m'\u001b[39m)   \u001b[38;5;66;03m#class_weight='balanced'#class_weight='balanced'#class_weight='balanced'\u001b[39;00m\n\u001b[32m     15\u001b[39m grid_search = GridSearchCV(estimator=rf, param_grid=param_grid,\n\u001b[32m     16\u001b[39m                            cv=\u001b[32m3\u001b[39m, n_jobs=\u001b[32m2\u001b[39m,                         \u001b[38;5;66;03m#CV=5 andreeeeeeeeeeee StratifiedKFold(n_splits=5) by default stratified k fold cross validaton ee use maadodu\u001b[39;00m\n\u001b[32m     17\u001b[39m                            scoring=\u001b[33m'\u001b[39m\u001b[33maccuracy\u001b[39m\u001b[33m'\u001b[39m, verbose=\u001b[32m2\u001b[39m)\n\u001b[32m---> \u001b[39m\u001b[32m19\u001b[39m \u001b[43mgrid_search\u001b[49m\u001b[43m.\u001b[49m\u001b[43mfit\u001b[49m\u001b[43m(\u001b[49m\u001b[43mX_train\u001b[49m\u001b[43m,\u001b[49m\u001b[43m \u001b[49m\u001b[43my_train\u001b[49m\u001b[43m)\u001b[49m\n\u001b[32m     20\u001b[39m \u001b[38;5;28mprint\u001b[39m(\u001b[33m\"\u001b[39m\u001b[33mBest Parameters:\u001b[39m\u001b[33m\"\u001b[39m, grid_search.best_params_)\n\u001b[32m     21\u001b[39m \u001b[38;5;28mprint\u001b[39m(\u001b[33m\"\u001b[39m\u001b[33mBest Score:\u001b[39m\u001b[33m\"\u001b[39m, grid_search.best_score_)\n",
            "\u001b[36mFile \u001b[39m\u001b[32mc:\\Users\\kiran\\Desktop\\os el\\myvenv\\Lib\\site-packages\\sklearn\\base.py:1389\u001b[39m, in \u001b[36m_fit_context.<locals>.decorator.<locals>.wrapper\u001b[39m\u001b[34m(estimator, *args, **kwargs)\u001b[39m\n\u001b[32m   1382\u001b[39m     estimator._validate_params()\n\u001b[32m   1384\u001b[39m \u001b[38;5;28;01mwith\u001b[39;00m config_context(\n\u001b[32m   1385\u001b[39m     skip_parameter_validation=(\n\u001b[32m   1386\u001b[39m         prefer_skip_nested_validation \u001b[38;5;129;01mor\u001b[39;00m global_skip_validation\n\u001b[32m   1387\u001b[39m     )\n\u001b[32m   1388\u001b[39m ):\n\u001b[32m-> \u001b[39m\u001b[32m1389\u001b[39m     \u001b[38;5;28;01mreturn\u001b[39;00m \u001b[43mfit_method\u001b[49m\u001b[43m(\u001b[49m\u001b[43mestimator\u001b[49m\u001b[43m,\u001b[49m\u001b[43m \u001b[49m\u001b[43m*\u001b[49m\u001b[43margs\u001b[49m\u001b[43m,\u001b[49m\u001b[43m \u001b[49m\u001b[43m*\u001b[49m\u001b[43m*\u001b[49m\u001b[43mkwargs\u001b[49m\u001b[43m)\u001b[49m\n",
            "\u001b[36mFile \u001b[39m\u001b[32mc:\\Users\\kiran\\Desktop\\os el\\myvenv\\Lib\\site-packages\\sklearn\\model_selection\\_search.py:1024\u001b[39m, in \u001b[36mBaseSearchCV.fit\u001b[39m\u001b[34m(self, X, y, **params)\u001b[39m\n\u001b[32m   1018\u001b[39m     results = \u001b[38;5;28mself\u001b[39m._format_results(\n\u001b[32m   1019\u001b[39m         all_candidate_params, n_splits, all_out, all_more_results\n\u001b[32m   1020\u001b[39m     )\n\u001b[32m   1022\u001b[39m     \u001b[38;5;28;01mreturn\u001b[39;00m results\n\u001b[32m-> \u001b[39m\u001b[32m1024\u001b[39m \u001b[38;5;28;43mself\u001b[39;49m\u001b[43m.\u001b[49m\u001b[43m_run_search\u001b[49m\u001b[43m(\u001b[49m\u001b[43mevaluate_candidates\u001b[49m\u001b[43m)\u001b[49m\n\u001b[32m   1026\u001b[39m \u001b[38;5;66;03m# multimetric is determined here because in the case of a callable\u001b[39;00m\n\u001b[32m   1027\u001b[39m \u001b[38;5;66;03m# self.scoring the return type is only known after calling\u001b[39;00m\n\u001b[32m   1028\u001b[39m first_test_score = all_out[\u001b[32m0\u001b[39m][\u001b[33m\"\u001b[39m\u001b[33mtest_scores\u001b[39m\u001b[33m\"\u001b[39m]\n",
            "\u001b[36mFile \u001b[39m\u001b[32mc:\\Users\\kiran\\Desktop\\os el\\myvenv\\Lib\\site-packages\\sklearn\\model_selection\\_search.py:1571\u001b[39m, in \u001b[36mGridSearchCV._run_search\u001b[39m\u001b[34m(self, evaluate_candidates)\u001b[39m\n\u001b[32m   1569\u001b[39m \u001b[38;5;28;01mdef\u001b[39;00m\u001b[38;5;250m \u001b[39m\u001b[34m_run_search\u001b[39m(\u001b[38;5;28mself\u001b[39m, evaluate_candidates):\n\u001b[32m   1570\u001b[39m \u001b[38;5;250m    \u001b[39m\u001b[33;03m\"\"\"Search all candidates in param_grid\"\"\"\u001b[39;00m\n\u001b[32m-> \u001b[39m\u001b[32m1571\u001b[39m     \u001b[43mevaluate_candidates\u001b[49m\u001b[43m(\u001b[49m\u001b[43mParameterGrid\u001b[49m\u001b[43m(\u001b[49m\u001b[38;5;28;43mself\u001b[39;49m\u001b[43m.\u001b[49m\u001b[43mparam_grid\u001b[49m\u001b[43m)\u001b[49m\u001b[43m)\u001b[49m\n",
            "\u001b[36mFile \u001b[39m\u001b[32mc:\\Users\\kiran\\Desktop\\os el\\myvenv\\Lib\\site-packages\\sklearn\\model_selection\\_search.py:970\u001b[39m, in \u001b[36mBaseSearchCV.fit.<locals>.evaluate_candidates\u001b[39m\u001b[34m(candidate_params, cv, more_results)\u001b[39m\n\u001b[32m    962\u001b[39m \u001b[38;5;28;01mif\u001b[39;00m \u001b[38;5;28mself\u001b[39m.verbose > \u001b[32m0\u001b[39m:\n\u001b[32m    963\u001b[39m     \u001b[38;5;28mprint\u001b[39m(\n\u001b[32m    964\u001b[39m         \u001b[33m\"\u001b[39m\u001b[33mFitting \u001b[39m\u001b[38;5;132;01m{0}\u001b[39;00m\u001b[33m folds for each of \u001b[39m\u001b[38;5;132;01m{1}\u001b[39;00m\u001b[33m candidates,\u001b[39m\u001b[33m\"\u001b[39m\n\u001b[32m    965\u001b[39m         \u001b[33m\"\u001b[39m\u001b[33m totalling \u001b[39m\u001b[38;5;132;01m{2}\u001b[39;00m\u001b[33m fits\u001b[39m\u001b[33m\"\u001b[39m.format(\n\u001b[32m    966\u001b[39m             n_splits, n_candidates, n_candidates * n_splits\n\u001b[32m    967\u001b[39m         )\n\u001b[32m    968\u001b[39m     )\n\u001b[32m--> \u001b[39m\u001b[32m970\u001b[39m out = \u001b[43mparallel\u001b[49m\u001b[43m(\u001b[49m\n\u001b[32m    971\u001b[39m \u001b[43m    \u001b[49m\u001b[43mdelayed\u001b[49m\u001b[43m(\u001b[49m\u001b[43m_fit_and_score\u001b[49m\u001b[43m)\u001b[49m\u001b[43m(\u001b[49m\n\u001b[32m    972\u001b[39m \u001b[43m        \u001b[49m\u001b[43mclone\u001b[49m\u001b[43m(\u001b[49m\u001b[43mbase_estimator\u001b[49m\u001b[43m)\u001b[49m\u001b[43m,\u001b[49m\n\u001b[32m    973\u001b[39m \u001b[43m        \u001b[49m\u001b[43mX\u001b[49m\u001b[43m,\u001b[49m\n\u001b[32m    974\u001b[39m \u001b[43m        \u001b[49m\u001b[43my\u001b[49m\u001b[43m,\u001b[49m\n\u001b[32m    975\u001b[39m \u001b[43m        \u001b[49m\u001b[43mtrain\u001b[49m\u001b[43m=\u001b[49m\u001b[43mtrain\u001b[49m\u001b[43m,\u001b[49m\n\u001b[32m    976\u001b[39m \u001b[43m        \u001b[49m\u001b[43mtest\u001b[49m\u001b[43m=\u001b[49m\u001b[43mtest\u001b[49m\u001b[43m,\u001b[49m\n\u001b[32m    977\u001b[39m \u001b[43m        \u001b[49m\u001b[43mparameters\u001b[49m\u001b[43m=\u001b[49m\u001b[43mparameters\u001b[49m\u001b[43m,\u001b[49m\n\u001b[32m    978\u001b[39m \u001b[43m        \u001b[49m\u001b[43msplit_progress\u001b[49m\u001b[43m=\u001b[49m\u001b[43m(\u001b[49m\u001b[43msplit_idx\u001b[49m\u001b[43m,\u001b[49m\u001b[43m \u001b[49m\u001b[43mn_splits\u001b[49m\u001b[43m)\u001b[49m\u001b[43m,\u001b[49m\n\u001b[32m    979\u001b[39m \u001b[43m        \u001b[49m\u001b[43mcandidate_progress\u001b[49m\u001b[43m=\u001b[49m\u001b[43m(\u001b[49m\u001b[43mcand_idx\u001b[49m\u001b[43m,\u001b[49m\u001b[43m \u001b[49m\u001b[43mn_candidates\u001b[49m\u001b[43m)\u001b[49m\u001b[43m,\u001b[49m\n\u001b[32m    980\u001b[39m \u001b[43m        \u001b[49m\u001b[43m*\u001b[49m\u001b[43m*\u001b[49m\u001b[43mfit_and_score_kwargs\u001b[49m\u001b[43m,\u001b[49m\n\u001b[32m    981\u001b[39m \u001b[43m    \u001b[49m\u001b[43m)\u001b[49m\n\u001b[32m    982\u001b[39m \u001b[43m    \u001b[49m\u001b[38;5;28;43;01mfor\u001b[39;49;00m\u001b[43m \u001b[49m\u001b[43m(\u001b[49m\u001b[43mcand_idx\u001b[49m\u001b[43m,\u001b[49m\u001b[43m \u001b[49m\u001b[43mparameters\u001b[49m\u001b[43m)\u001b[49m\u001b[43m,\u001b[49m\u001b[43m \u001b[49m\u001b[43m(\u001b[49m\u001b[43msplit_idx\u001b[49m\u001b[43m,\u001b[49m\u001b[43m \u001b[49m\u001b[43m(\u001b[49m\u001b[43mtrain\u001b[49m\u001b[43m,\u001b[49m\u001b[43m \u001b[49m\u001b[43mtest\u001b[49m\u001b[43m)\u001b[49m\u001b[43m)\u001b[49m\u001b[43m \u001b[49m\u001b[38;5;129;43;01min\u001b[39;49;00m\u001b[43m \u001b[49m\u001b[43mproduct\u001b[49m\u001b[43m(\u001b[49m\n\u001b[32m    983\u001b[39m \u001b[43m        \u001b[49m\u001b[38;5;28;43menumerate\u001b[39;49m\u001b[43m(\u001b[49m\u001b[43mcandidate_params\u001b[49m\u001b[43m)\u001b[49m\u001b[43m,\u001b[49m\n\u001b[32m    984\u001b[39m \u001b[43m        \u001b[49m\u001b[38;5;28;43menumerate\u001b[39;49m\u001b[43m(\u001b[49m\u001b[43mcv\u001b[49m\u001b[43m.\u001b[49m\u001b[43msplit\u001b[49m\u001b[43m(\u001b[49m\u001b[43mX\u001b[49m\u001b[43m,\u001b[49m\u001b[43m \u001b[49m\u001b[43my\u001b[49m\u001b[43m,\u001b[49m\u001b[43m \u001b[49m\u001b[43m*\u001b[49m\u001b[43m*\u001b[49m\u001b[43mrouted_params\u001b[49m\u001b[43m.\u001b[49m\u001b[43msplitter\u001b[49m\u001b[43m.\u001b[49m\u001b[43msplit\u001b[49m\u001b[43m)\u001b[49m\u001b[43m)\u001b[49m\u001b[43m,\u001b[49m\n\u001b[32m    985\u001b[39m \u001b[43m    \u001b[49m\u001b[43m)\u001b[49m\n\u001b[32m    986\u001b[39m \u001b[43m\u001b[49m\u001b[43m)\u001b[49m\n\u001b[32m    988\u001b[39m \u001b[38;5;28;01mif\u001b[39;00m \u001b[38;5;28mlen\u001b[39m(out) < \u001b[32m1\u001b[39m:\n\u001b[32m    989\u001b[39m     \u001b[38;5;28;01mraise\u001b[39;00m \u001b[38;5;167;01mValueError\u001b[39;00m(\n\u001b[32m    990\u001b[39m         \u001b[33m\"\u001b[39m\u001b[33mNo fits were performed. \u001b[39m\u001b[33m\"\u001b[39m\n\u001b[32m    991\u001b[39m         \u001b[33m\"\u001b[39m\u001b[33mWas the CV iterator empty? \u001b[39m\u001b[33m\"\u001b[39m\n\u001b[32m    992\u001b[39m         \u001b[33m\"\u001b[39m\u001b[33mWere there no candidates?\u001b[39m\u001b[33m\"\u001b[39m\n\u001b[32m    993\u001b[39m     )\n",
            "\u001b[36mFile \u001b[39m\u001b[32mc:\\Users\\kiran\\Desktop\\os el\\myvenv\\Lib\\site-packages\\sklearn\\utils\\parallel.py:77\u001b[39m, in \u001b[36mParallel.__call__\u001b[39m\u001b[34m(self, iterable)\u001b[39m\n\u001b[32m     72\u001b[39m config = get_config()\n\u001b[32m     73\u001b[39m iterable_with_config = (\n\u001b[32m     74\u001b[39m     (_with_config(delayed_func, config), args, kwargs)\n\u001b[32m     75\u001b[39m     \u001b[38;5;28;01mfor\u001b[39;00m delayed_func, args, kwargs \u001b[38;5;129;01min\u001b[39;00m iterable\n\u001b[32m     76\u001b[39m )\n\u001b[32m---> \u001b[39m\u001b[32m77\u001b[39m \u001b[38;5;28;01mreturn\u001b[39;00m \u001b[38;5;28;43msuper\u001b[39;49m\u001b[43m(\u001b[49m\u001b[43m)\u001b[49m\u001b[43m.\u001b[49m\u001b[34;43m__call__\u001b[39;49m\u001b[43m(\u001b[49m\u001b[43miterable_with_config\u001b[49m\u001b[43m)\u001b[49m\n",
            "\u001b[36mFile \u001b[39m\u001b[32mc:\\Users\\kiran\\Desktop\\os el\\myvenv\\Lib\\site-packages\\joblib\\parallel.py:2071\u001b[39m, in \u001b[36mParallel.__call__\u001b[39m\u001b[34m(self, iterable)\u001b[39m\n\u001b[32m   2065\u001b[39m \u001b[38;5;66;03m# The first item from the output is blank, but it makes the interpreter\u001b[39;00m\n\u001b[32m   2066\u001b[39m \u001b[38;5;66;03m# progress until it enters the Try/Except block of the generator and\u001b[39;00m\n\u001b[32m   2067\u001b[39m \u001b[38;5;66;03m# reaches the first `yield` statement. This starts the asynchronous\u001b[39;00m\n\u001b[32m   2068\u001b[39m \u001b[38;5;66;03m# dispatch of the tasks to the workers.\u001b[39;00m\n\u001b[32m   2069\u001b[39m \u001b[38;5;28mnext\u001b[39m(output)\n\u001b[32m-> \u001b[39m\u001b[32m2071\u001b[39m \u001b[38;5;28;01mreturn\u001b[39;00m output \u001b[38;5;28;01mif\u001b[39;00m \u001b[38;5;28mself\u001b[39m.return_generator \u001b[38;5;28;01melse\u001b[39;00m \u001b[38;5;28;43mlist\u001b[39;49m\u001b[43m(\u001b[49m\u001b[43moutput\u001b[49m\u001b[43m)\u001b[49m\n",
            "\u001b[36mFile \u001b[39m\u001b[32mc:\\Users\\kiran\\Desktop\\os el\\myvenv\\Lib\\site-packages\\joblib\\parallel.py:1681\u001b[39m, in \u001b[36mParallel._get_outputs\u001b[39m\u001b[34m(self, iterator, pre_dispatch)\u001b[39m\n\u001b[32m   1678\u001b[39m     \u001b[38;5;28;01myield\u001b[39;00m\n\u001b[32m   1680\u001b[39m     \u001b[38;5;28;01mwith\u001b[39;00m \u001b[38;5;28mself\u001b[39m._backend.retrieval_context():\n\u001b[32m-> \u001b[39m\u001b[32m1681\u001b[39m         \u001b[38;5;28;01myield from\u001b[39;00m \u001b[38;5;28mself\u001b[39m._retrieve()\n\u001b[32m   1683\u001b[39m \u001b[38;5;28;01mexcept\u001b[39;00m \u001b[38;5;167;01mGeneratorExit\u001b[39;00m:\n\u001b[32m   1684\u001b[39m     \u001b[38;5;66;03m# The generator has been garbage collected before being fully\u001b[39;00m\n\u001b[32m   1685\u001b[39m     \u001b[38;5;66;03m# consumed. This aborts the remaining tasks if possible and warn\u001b[39;00m\n\u001b[32m   1686\u001b[39m     \u001b[38;5;66;03m# the user if necessary.\u001b[39;00m\n\u001b[32m   1687\u001b[39m     \u001b[38;5;28mself\u001b[39m._exception = \u001b[38;5;28;01mTrue\u001b[39;00m\n",
            "\u001b[36mFile \u001b[39m\u001b[32mc:\\Users\\kiran\\Desktop\\os el\\myvenv\\Lib\\site-packages\\joblib\\parallel.py:1799\u001b[39m, in \u001b[36mParallel._retrieve\u001b[39m\u001b[34m(self)\u001b[39m\n\u001b[32m   1788\u001b[39m \u001b[38;5;28;01mif\u001b[39;00m \u001b[38;5;28mself\u001b[39m.return_ordered:\n\u001b[32m   1789\u001b[39m     \u001b[38;5;66;03m# Case ordered: wait for completion (or error) of the next job\u001b[39;00m\n\u001b[32m   1790\u001b[39m     \u001b[38;5;66;03m# that have been dispatched and not retrieved yet. If no job\u001b[39;00m\n\u001b[32m   (...)\u001b[39m\u001b[32m   1794\u001b[39m     \u001b[38;5;66;03m# control only have to be done on the amount of time the next\u001b[39;00m\n\u001b[32m   1795\u001b[39m     \u001b[38;5;66;03m# dispatched job is pending.\u001b[39;00m\n\u001b[32m   1796\u001b[39m     \u001b[38;5;28;01mif\u001b[39;00m (nb_jobs == \u001b[32m0\u001b[39m) \u001b[38;5;129;01mor\u001b[39;00m (\n\u001b[32m   1797\u001b[39m         \u001b[38;5;28mself\u001b[39m._jobs[\u001b[32m0\u001b[39m].get_status(timeout=\u001b[38;5;28mself\u001b[39m.timeout) == TASK_PENDING\n\u001b[32m   1798\u001b[39m     ):\n\u001b[32m-> \u001b[39m\u001b[32m1799\u001b[39m         time.sleep(\u001b[32m0.01\u001b[39m)\n\u001b[32m   1800\u001b[39m         \u001b[38;5;28;01mcontinue\u001b[39;00m\n\u001b[32m   1802\u001b[39m \u001b[38;5;28;01melif\u001b[39;00m nb_jobs == \u001b[32m0\u001b[39m:\n\u001b[32m   1803\u001b[39m     \u001b[38;5;66;03m# Case unordered: jobs are added to the list of jobs to\u001b[39;00m\n\u001b[32m   1804\u001b[39m     \u001b[38;5;66;03m# retrieve `self._jobs` only once completed or in error, which\u001b[39;00m\n\u001b[32m   (...)\u001b[39m\u001b[32m   1810\u001b[39m     \u001b[38;5;66;03m# timeouts before any other dispatched job has completed and\u001b[39;00m\n\u001b[32m   1811\u001b[39m     \u001b[38;5;66;03m# been added to `self._jobs` to be retrieved.\u001b[39;00m\n",
            "\u001b[31mKeyboardInterrupt\u001b[39m: "
          ]
        }
      ],
      "source": [
        "from sklearn.ensemble import RandomForestClassifier\n",
        "from sklearn.model_selection import GridSearchCV\n",
        "from sklearn.ensemble import RandomForestClassifier # Ensure this line is present and executed\n",
        "\n",
        "param_grid = {\n",
        "    'n_estimators': [100, 200, 300],       # number of trees\n",
        "    'max_depth': [None, 10, 20, 30],       # tree depth\n",
        "    'min_samples_split': [2, 5, 10],       # min samples to split\n",
        "    'min_samples_leaf': [1, 2, 4],         # min samples per leaf\n",
        "    'max_features': ['sqrt', 'log2'],     # number of features to consider\n",
        "    'bootstrap': [True, False]            # sampling method\n",
        "}\n",
        "\n",
        "rf = RandomForestClassifier(random_state=42,class_weight='balanced')   #class_weight='balanced'#class_weight='balanced'#class_weight='balanced'\n",
        "grid_search = GridSearchCV(estimator=rf, param_grid=param_grid,\n",
        "                           cv=3, n_jobs=2,                         #CV=5 andreeeeeeeeeeee StratifiedKFold(n_splits=5) by default stratified k fold cross validaton ee use maadodu\n",
        "                           scoring='f1_macro', verbose=2)\n",
        "\n",
        "grid_search.fit(X_train, y_train)\n",
        "print(\"Best Parameters:\", grid_search.best_params_)\n",
        "print(\"Best Score:\", grid_search.best_score_)\n"
      ]
    },
    {
      "cell_type": "markdown",
      "metadata": {
        "id": "JKNsdpbhzvez"
      },
      "source": [
        "# **2. Using RandomizedSearchCV (Faster, Random Sampling)**"
      ]
    },
    {
      "cell_type": "code",
      "execution_count": null,
      "metadata": {
        "colab": {
          "base_uri": "https://localhost:8080/",
          "height": 219
        },
        "id": "8-BqAkxEsizx",
        "outputId": "05003d03-4eed-44fa-8839-14eb380c9ba2"
      },
      "outputs": [
        {
          "name": "stdout",
          "output_type": "stream",
          "text": [
            "Fitting 2 folds for each of 5 candidates, totalling 10 fits\n"
          ]
        }
      ],
      "source": [
        "from sklearn.model_selection import RandomizedSearchCV\n",
        "from scipy.stats import randint\n",
        "from sklearn.ensemble import RandomForestClassifier # Ensure this line is present and executed\n",
        "\n",
        "\n",
        "param_dist = {\n",
        "    'n_estimators': randint(100, 500),\n",
        "    'max_depth': [None] + list(range(10, 50, 10)),\n",
        "    'min_samples_split': randint(2, 11),\n",
        "    'min_samples_leaf': randint(1, 5),\n",
        "    'max_features': ['sqrt', 'log2'],\n",
        "    'bootstrap': [True, False]\n",
        "}\n",
        "\n",
        "rf = RandomForestClassifier(random_state=42,class_weight='balanced')        #class_weight='balanced'#class_weight='balanced'#class_weight='balanced'\n",
        "random_search = RandomizedSearchCV(estimator=rf, param_distributions=param_dist,\n",
        "                                   n_iter=5, cv=2, verbose=2, n_jobs=4, scoring='f1_macro')     #CV=5 andreeeeeeeeeeee StratifiedKFold(n_splits=5) by default stratified k fold cross validaton ee use maadodu\n",
        "\n",
        "# since n_jobs was -1 which would use all the cores paralelly the memory for each core would get added causing to fill the RAM and crashing the code or giving the memory error so to solve muutliple core problem i gave only 1 core to run by saying n_jobs=1\n",
        "\n",
        "\n",
        "random_search.fit(X_train, y_train)\n",
        "print(\"Best Parameters:\", random_search.best_params_)\n"
      ]
    },
    {
      "cell_type": "code",
      "execution_count": 6,
      "metadata": {},
      "outputs": [
        {
          "ename": "KeyboardInterrupt",
          "evalue": "",
          "output_type": "error",
          "traceback": [
            "\u001b[31m---------------------------------------------------------------------------\u001b[39m",
            "\u001b[31mKeyboardInterrupt\u001b[39m                         Traceback (most recent call last)",
            "\u001b[36mCell\u001b[39m\u001b[36m \u001b[39m\u001b[32mIn[6]\u001b[39m\u001b[32m, line 21\u001b[39m\n\u001b[32m     19\u001b[39m \u001b[38;5;28;01mfor\u001b[39;00m i, params \u001b[38;5;129;01min\u001b[39;00m \u001b[38;5;28menumerate\u001b[39m(param_list):\n\u001b[32m     20\u001b[39m     rf = RandomForestClassifier(**params, class_weight=\u001b[33m'\u001b[39m\u001b[33mbalanced\u001b[39m\u001b[33m'\u001b[39m, random_state=\u001b[32m42\u001b[39m)\n\u001b[32m---> \u001b[39m\u001b[32m21\u001b[39m     scores = \u001b[43mcross_val_score\u001b[49m\u001b[43m(\u001b[49m\u001b[43mrf\u001b[49m\u001b[43m,\u001b[49m\u001b[43m \u001b[49m\u001b[43mX_train\u001b[49m\u001b[43m,\u001b[49m\u001b[43m \u001b[49m\u001b[43my_train\u001b[49m\u001b[43m,\u001b[49m\u001b[43m \u001b[49m\u001b[43mcv\u001b[49m\u001b[43m=\u001b[49m\u001b[32;43m2\u001b[39;49m\u001b[43m,\u001b[49m\u001b[43m \u001b[49m\u001b[43mscoring\u001b[49m\u001b[43m=\u001b[49m\u001b[33;43m'\u001b[39;49m\u001b[33;43mf1_macro\u001b[39;49m\u001b[33;43m'\u001b[39;49m\u001b[43m)\u001b[49m\n\u001b[32m     22\u001b[39m     \u001b[38;5;28mprint\u001b[39m(\u001b[33mf\u001b[39m\u001b[33m\"\u001b[39m\u001b[33mIteration \u001b[39m\u001b[38;5;132;01m{\u001b[39;00mi+\u001b[32m1\u001b[39m\u001b[38;5;132;01m}\u001b[39;00m\u001b[33m\"\u001b[39m)\n\u001b[32m     23\u001b[39m     \u001b[38;5;28mprint\u001b[39m(\u001b[33mf\u001b[39m\u001b[33m\"\u001b[39m\u001b[33mParams: \u001b[39m\u001b[38;5;132;01m{\u001b[39;00mparams\u001b[38;5;132;01m}\u001b[39;00m\u001b[33m\"\u001b[39m)\n",
            "\u001b[36mFile \u001b[39m\u001b[32mc:\\Users\\kiran\\Desktop\\os el\\myvenv\\Lib\\site-packages\\sklearn\\utils\\_param_validation.py:216\u001b[39m, in \u001b[36mvalidate_params.<locals>.decorator.<locals>.wrapper\u001b[39m\u001b[34m(*args, **kwargs)\u001b[39m\n\u001b[32m    210\u001b[39m \u001b[38;5;28;01mtry\u001b[39;00m:\n\u001b[32m    211\u001b[39m     \u001b[38;5;28;01mwith\u001b[39;00m config_context(\n\u001b[32m    212\u001b[39m         skip_parameter_validation=(\n\u001b[32m    213\u001b[39m             prefer_skip_nested_validation \u001b[38;5;129;01mor\u001b[39;00m global_skip_validation\n\u001b[32m    214\u001b[39m         )\n\u001b[32m    215\u001b[39m     ):\n\u001b[32m--> \u001b[39m\u001b[32m216\u001b[39m         \u001b[38;5;28;01mreturn\u001b[39;00m \u001b[43mfunc\u001b[49m\u001b[43m(\u001b[49m\u001b[43m*\u001b[49m\u001b[43margs\u001b[49m\u001b[43m,\u001b[49m\u001b[43m \u001b[49m\u001b[43m*\u001b[49m\u001b[43m*\u001b[49m\u001b[43mkwargs\u001b[49m\u001b[43m)\u001b[49m\n\u001b[32m    217\u001b[39m \u001b[38;5;28;01mexcept\u001b[39;00m InvalidParameterError \u001b[38;5;28;01mas\u001b[39;00m e:\n\u001b[32m    218\u001b[39m     \u001b[38;5;66;03m# When the function is just a wrapper around an estimator, we allow\u001b[39;00m\n\u001b[32m    219\u001b[39m     \u001b[38;5;66;03m# the function to delegate validation to the estimator, but we replace\u001b[39;00m\n\u001b[32m    220\u001b[39m     \u001b[38;5;66;03m# the name of the estimator by the name of the function in the error\u001b[39;00m\n\u001b[32m    221\u001b[39m     \u001b[38;5;66;03m# message to avoid confusion.\u001b[39;00m\n\u001b[32m    222\u001b[39m     msg = re.sub(\n\u001b[32m    223\u001b[39m         \u001b[33mr\u001b[39m\u001b[33m\"\u001b[39m\u001b[33mparameter of \u001b[39m\u001b[33m\\\u001b[39m\u001b[33mw+ must be\u001b[39m\u001b[33m\"\u001b[39m,\n\u001b[32m    224\u001b[39m         \u001b[33mf\u001b[39m\u001b[33m\"\u001b[39m\u001b[33mparameter of \u001b[39m\u001b[38;5;132;01m{\u001b[39;00mfunc.\u001b[34m__qualname__\u001b[39m\u001b[38;5;132;01m}\u001b[39;00m\u001b[33m must be\u001b[39m\u001b[33m\"\u001b[39m,\n\u001b[32m    225\u001b[39m         \u001b[38;5;28mstr\u001b[39m(e),\n\u001b[32m    226\u001b[39m     )\n",
            "\u001b[36mFile \u001b[39m\u001b[32mc:\\Users\\kiran\\Desktop\\os el\\myvenv\\Lib\\site-packages\\sklearn\\model_selection\\_validation.py:684\u001b[39m, in \u001b[36mcross_val_score\u001b[39m\u001b[34m(estimator, X, y, groups, scoring, cv, n_jobs, verbose, params, pre_dispatch, error_score)\u001b[39m\n\u001b[32m    681\u001b[39m \u001b[38;5;66;03m# To ensure multimetric format is not supported\u001b[39;00m\n\u001b[32m    682\u001b[39m scorer = check_scoring(estimator, scoring=scoring)\n\u001b[32m--> \u001b[39m\u001b[32m684\u001b[39m cv_results = \u001b[43mcross_validate\u001b[49m\u001b[43m(\u001b[49m\n\u001b[32m    685\u001b[39m \u001b[43m    \u001b[49m\u001b[43mestimator\u001b[49m\u001b[43m=\u001b[49m\u001b[43mestimator\u001b[49m\u001b[43m,\u001b[49m\n\u001b[32m    686\u001b[39m \u001b[43m    \u001b[49m\u001b[43mX\u001b[49m\u001b[43m=\u001b[49m\u001b[43mX\u001b[49m\u001b[43m,\u001b[49m\n\u001b[32m    687\u001b[39m \u001b[43m    \u001b[49m\u001b[43my\u001b[49m\u001b[43m=\u001b[49m\u001b[43my\u001b[49m\u001b[43m,\u001b[49m\n\u001b[32m    688\u001b[39m \u001b[43m    \u001b[49m\u001b[43mgroups\u001b[49m\u001b[43m=\u001b[49m\u001b[43mgroups\u001b[49m\u001b[43m,\u001b[49m\n\u001b[32m    689\u001b[39m \u001b[43m    \u001b[49m\u001b[43mscoring\u001b[49m\u001b[43m=\u001b[49m\u001b[43m{\u001b[49m\u001b[33;43m\"\u001b[39;49m\u001b[33;43mscore\u001b[39;49m\u001b[33;43m\"\u001b[39;49m\u001b[43m:\u001b[49m\u001b[43m \u001b[49m\u001b[43mscorer\u001b[49m\u001b[43m}\u001b[49m\u001b[43m,\u001b[49m\n\u001b[32m    690\u001b[39m \u001b[43m    \u001b[49m\u001b[43mcv\u001b[49m\u001b[43m=\u001b[49m\u001b[43mcv\u001b[49m\u001b[43m,\u001b[49m\n\u001b[32m    691\u001b[39m \u001b[43m    \u001b[49m\u001b[43mn_jobs\u001b[49m\u001b[43m=\u001b[49m\u001b[43mn_jobs\u001b[49m\u001b[43m,\u001b[49m\n\u001b[32m    692\u001b[39m \u001b[43m    \u001b[49m\u001b[43mverbose\u001b[49m\u001b[43m=\u001b[49m\u001b[43mverbose\u001b[49m\u001b[43m,\u001b[49m\n\u001b[32m    693\u001b[39m \u001b[43m    \u001b[49m\u001b[43mparams\u001b[49m\u001b[43m=\u001b[49m\u001b[43mparams\u001b[49m\u001b[43m,\u001b[49m\n\u001b[32m    694\u001b[39m \u001b[43m    \u001b[49m\u001b[43mpre_dispatch\u001b[49m\u001b[43m=\u001b[49m\u001b[43mpre_dispatch\u001b[49m\u001b[43m,\u001b[49m\n\u001b[32m    695\u001b[39m \u001b[43m    \u001b[49m\u001b[43merror_score\u001b[49m\u001b[43m=\u001b[49m\u001b[43merror_score\u001b[49m\u001b[43m,\u001b[49m\n\u001b[32m    696\u001b[39m \u001b[43m\u001b[49m\u001b[43m)\u001b[49m\n\u001b[32m    697\u001b[39m \u001b[38;5;28;01mreturn\u001b[39;00m cv_results[\u001b[33m\"\u001b[39m\u001b[33mtest_score\u001b[39m\u001b[33m\"\u001b[39m]\n",
            "\u001b[36mFile \u001b[39m\u001b[32mc:\\Users\\kiran\\Desktop\\os el\\myvenv\\Lib\\site-packages\\sklearn\\utils\\_param_validation.py:216\u001b[39m, in \u001b[36mvalidate_params.<locals>.decorator.<locals>.wrapper\u001b[39m\u001b[34m(*args, **kwargs)\u001b[39m\n\u001b[32m    210\u001b[39m \u001b[38;5;28;01mtry\u001b[39;00m:\n\u001b[32m    211\u001b[39m     \u001b[38;5;28;01mwith\u001b[39;00m config_context(\n\u001b[32m    212\u001b[39m         skip_parameter_validation=(\n\u001b[32m    213\u001b[39m             prefer_skip_nested_validation \u001b[38;5;129;01mor\u001b[39;00m global_skip_validation\n\u001b[32m    214\u001b[39m         )\n\u001b[32m    215\u001b[39m     ):\n\u001b[32m--> \u001b[39m\u001b[32m216\u001b[39m         \u001b[38;5;28;01mreturn\u001b[39;00m \u001b[43mfunc\u001b[49m\u001b[43m(\u001b[49m\u001b[43m*\u001b[49m\u001b[43margs\u001b[49m\u001b[43m,\u001b[49m\u001b[43m \u001b[49m\u001b[43m*\u001b[49m\u001b[43m*\u001b[49m\u001b[43mkwargs\u001b[49m\u001b[43m)\u001b[49m\n\u001b[32m    217\u001b[39m \u001b[38;5;28;01mexcept\u001b[39;00m InvalidParameterError \u001b[38;5;28;01mas\u001b[39;00m e:\n\u001b[32m    218\u001b[39m     \u001b[38;5;66;03m# When the function is just a wrapper around an estimator, we allow\u001b[39;00m\n\u001b[32m    219\u001b[39m     \u001b[38;5;66;03m# the function to delegate validation to the estimator, but we replace\u001b[39;00m\n\u001b[32m    220\u001b[39m     \u001b[38;5;66;03m# the name of the estimator by the name of the function in the error\u001b[39;00m\n\u001b[32m    221\u001b[39m     \u001b[38;5;66;03m# message to avoid confusion.\u001b[39;00m\n\u001b[32m    222\u001b[39m     msg = re.sub(\n\u001b[32m    223\u001b[39m         \u001b[33mr\u001b[39m\u001b[33m\"\u001b[39m\u001b[33mparameter of \u001b[39m\u001b[33m\\\u001b[39m\u001b[33mw+ must be\u001b[39m\u001b[33m\"\u001b[39m,\n\u001b[32m    224\u001b[39m         \u001b[33mf\u001b[39m\u001b[33m\"\u001b[39m\u001b[33mparameter of \u001b[39m\u001b[38;5;132;01m{\u001b[39;00mfunc.\u001b[34m__qualname__\u001b[39m\u001b[38;5;132;01m}\u001b[39;00m\u001b[33m must be\u001b[39m\u001b[33m\"\u001b[39m,\n\u001b[32m    225\u001b[39m         \u001b[38;5;28mstr\u001b[39m(e),\n\u001b[32m    226\u001b[39m     )\n",
            "\u001b[36mFile \u001b[39m\u001b[32mc:\\Users\\kiran\\Desktop\\os el\\myvenv\\Lib\\site-packages\\sklearn\\model_selection\\_validation.py:411\u001b[39m, in \u001b[36mcross_validate\u001b[39m\u001b[34m(estimator, X, y, groups, scoring, cv, n_jobs, verbose, params, pre_dispatch, return_train_score, return_estimator, return_indices, error_score)\u001b[39m\n\u001b[32m    408\u001b[39m \u001b[38;5;66;03m# We clone the estimator to make sure that all the folds are\u001b[39;00m\n\u001b[32m    409\u001b[39m \u001b[38;5;66;03m# independent, and that it is pickle-able.\u001b[39;00m\n\u001b[32m    410\u001b[39m parallel = Parallel(n_jobs=n_jobs, verbose=verbose, pre_dispatch=pre_dispatch)\n\u001b[32m--> \u001b[39m\u001b[32m411\u001b[39m results = \u001b[43mparallel\u001b[49m\u001b[43m(\u001b[49m\n\u001b[32m    412\u001b[39m \u001b[43m    \u001b[49m\u001b[43mdelayed\u001b[49m\u001b[43m(\u001b[49m\u001b[43m_fit_and_score\u001b[49m\u001b[43m)\u001b[49m\u001b[43m(\u001b[49m\n\u001b[32m    413\u001b[39m \u001b[43m        \u001b[49m\u001b[43mclone\u001b[49m\u001b[43m(\u001b[49m\u001b[43mestimator\u001b[49m\u001b[43m)\u001b[49m\u001b[43m,\u001b[49m\n\u001b[32m    414\u001b[39m \u001b[43m        \u001b[49m\u001b[43mX\u001b[49m\u001b[43m,\u001b[49m\n\u001b[32m    415\u001b[39m \u001b[43m        \u001b[49m\u001b[43my\u001b[49m\u001b[43m,\u001b[49m\n\u001b[32m    416\u001b[39m \u001b[43m        \u001b[49m\u001b[43mscorer\u001b[49m\u001b[43m=\u001b[49m\u001b[43mscorers\u001b[49m\u001b[43m,\u001b[49m\n\u001b[32m    417\u001b[39m \u001b[43m        \u001b[49m\u001b[43mtrain\u001b[49m\u001b[43m=\u001b[49m\u001b[43mtrain\u001b[49m\u001b[43m,\u001b[49m\n\u001b[32m    418\u001b[39m \u001b[43m        \u001b[49m\u001b[43mtest\u001b[49m\u001b[43m=\u001b[49m\u001b[43mtest\u001b[49m\u001b[43m,\u001b[49m\n\u001b[32m    419\u001b[39m \u001b[43m        \u001b[49m\u001b[43mverbose\u001b[49m\u001b[43m=\u001b[49m\u001b[43mverbose\u001b[49m\u001b[43m,\u001b[49m\n\u001b[32m    420\u001b[39m \u001b[43m        \u001b[49m\u001b[43mparameters\u001b[49m\u001b[43m=\u001b[49m\u001b[38;5;28;43;01mNone\u001b[39;49;00m\u001b[43m,\u001b[49m\n\u001b[32m    421\u001b[39m \u001b[43m        \u001b[49m\u001b[43mfit_params\u001b[49m\u001b[43m=\u001b[49m\u001b[43mrouted_params\u001b[49m\u001b[43m.\u001b[49m\u001b[43mestimator\u001b[49m\u001b[43m.\u001b[49m\u001b[43mfit\u001b[49m\u001b[43m,\u001b[49m\n\u001b[32m    422\u001b[39m \u001b[43m        \u001b[49m\u001b[43mscore_params\u001b[49m\u001b[43m=\u001b[49m\u001b[43mrouted_params\u001b[49m\u001b[43m.\u001b[49m\u001b[43mscorer\u001b[49m\u001b[43m.\u001b[49m\u001b[43mscore\u001b[49m\u001b[43m,\u001b[49m\n\u001b[32m    423\u001b[39m \u001b[43m        \u001b[49m\u001b[43mreturn_train_score\u001b[49m\u001b[43m=\u001b[49m\u001b[43mreturn_train_score\u001b[49m\u001b[43m,\u001b[49m\n\u001b[32m    424\u001b[39m \u001b[43m        \u001b[49m\u001b[43mreturn_times\u001b[49m\u001b[43m=\u001b[49m\u001b[38;5;28;43;01mTrue\u001b[39;49;00m\u001b[43m,\u001b[49m\n\u001b[32m    425\u001b[39m \u001b[43m        \u001b[49m\u001b[43mreturn_estimator\u001b[49m\u001b[43m=\u001b[49m\u001b[43mreturn_estimator\u001b[49m\u001b[43m,\u001b[49m\n\u001b[32m    426\u001b[39m \u001b[43m        \u001b[49m\u001b[43merror_score\u001b[49m\u001b[43m=\u001b[49m\u001b[43merror_score\u001b[49m\u001b[43m,\u001b[49m\n\u001b[32m    427\u001b[39m \u001b[43m    \u001b[49m\u001b[43m)\u001b[49m\n\u001b[32m    428\u001b[39m \u001b[43m    \u001b[49m\u001b[38;5;28;43;01mfor\u001b[39;49;00m\u001b[43m \u001b[49m\u001b[43mtrain\u001b[49m\u001b[43m,\u001b[49m\u001b[43m \u001b[49m\u001b[43mtest\u001b[49m\u001b[43m \u001b[49m\u001b[38;5;129;43;01min\u001b[39;49;00m\u001b[43m \u001b[49m\u001b[43mindices\u001b[49m\n\u001b[32m    429\u001b[39m \u001b[43m\u001b[49m\u001b[43m)\u001b[49m\n\u001b[32m    431\u001b[39m _warn_or_raise_about_fit_failures(results, error_score)\n\u001b[32m    433\u001b[39m \u001b[38;5;66;03m# For callable scoring, the return type is only know after calling. If the\u001b[39;00m\n\u001b[32m    434\u001b[39m \u001b[38;5;66;03m# return type is a dictionary, the error scores can now be inserted with\u001b[39;00m\n\u001b[32m    435\u001b[39m \u001b[38;5;66;03m# the correct key.\u001b[39;00m\n",
            "\u001b[36mFile \u001b[39m\u001b[32mc:\\Users\\kiran\\Desktop\\os el\\myvenv\\Lib\\site-packages\\sklearn\\utils\\parallel.py:77\u001b[39m, in \u001b[36mParallel.__call__\u001b[39m\u001b[34m(self, iterable)\u001b[39m\n\u001b[32m     72\u001b[39m config = get_config()\n\u001b[32m     73\u001b[39m iterable_with_config = (\n\u001b[32m     74\u001b[39m     (_with_config(delayed_func, config), args, kwargs)\n\u001b[32m     75\u001b[39m     \u001b[38;5;28;01mfor\u001b[39;00m delayed_func, args, kwargs \u001b[38;5;129;01min\u001b[39;00m iterable\n\u001b[32m     76\u001b[39m )\n\u001b[32m---> \u001b[39m\u001b[32m77\u001b[39m \u001b[38;5;28;01mreturn\u001b[39;00m \u001b[38;5;28;43msuper\u001b[39;49m\u001b[43m(\u001b[49m\u001b[43m)\u001b[49m\u001b[43m.\u001b[49m\u001b[34;43m__call__\u001b[39;49m\u001b[43m(\u001b[49m\u001b[43miterable_with_config\u001b[49m\u001b[43m)\u001b[49m\n",
            "\u001b[36mFile \u001b[39m\u001b[32mc:\\Users\\kiran\\Desktop\\os el\\myvenv\\Lib\\site-packages\\joblib\\parallel.py:1985\u001b[39m, in \u001b[36mParallel.__call__\u001b[39m\u001b[34m(self, iterable)\u001b[39m\n\u001b[32m   1983\u001b[39m     output = \u001b[38;5;28mself\u001b[39m._get_sequential_output(iterable)\n\u001b[32m   1984\u001b[39m     \u001b[38;5;28mnext\u001b[39m(output)\n\u001b[32m-> \u001b[39m\u001b[32m1985\u001b[39m     \u001b[38;5;28;01mreturn\u001b[39;00m output \u001b[38;5;28;01mif\u001b[39;00m \u001b[38;5;28mself\u001b[39m.return_generator \u001b[38;5;28;01melse\u001b[39;00m \u001b[38;5;28;43mlist\u001b[39;49m\u001b[43m(\u001b[49m\u001b[43moutput\u001b[49m\u001b[43m)\u001b[49m\n\u001b[32m   1987\u001b[39m \u001b[38;5;66;03m# Let's create an ID that uniquely identifies the current call. If the\u001b[39;00m\n\u001b[32m   1988\u001b[39m \u001b[38;5;66;03m# call is interrupted early and that the same instance is immediately\u001b[39;00m\n\u001b[32m   1989\u001b[39m \u001b[38;5;66;03m# reused, this id will be used to prevent workers that were\u001b[39;00m\n\u001b[32m   1990\u001b[39m \u001b[38;5;66;03m# concurrently finalizing a task from the previous call to run the\u001b[39;00m\n\u001b[32m   1991\u001b[39m \u001b[38;5;66;03m# callback.\u001b[39;00m\n\u001b[32m   1992\u001b[39m \u001b[38;5;28;01mwith\u001b[39;00m \u001b[38;5;28mself\u001b[39m._lock:\n",
            "\u001b[36mFile \u001b[39m\u001b[32mc:\\Users\\kiran\\Desktop\\os el\\myvenv\\Lib\\site-packages\\joblib\\parallel.py:1913\u001b[39m, in \u001b[36mParallel._get_sequential_output\u001b[39m\u001b[34m(self, iterable)\u001b[39m\n\u001b[32m   1911\u001b[39m \u001b[38;5;28mself\u001b[39m.n_dispatched_batches += \u001b[32m1\u001b[39m\n\u001b[32m   1912\u001b[39m \u001b[38;5;28mself\u001b[39m.n_dispatched_tasks += \u001b[32m1\u001b[39m\n\u001b[32m-> \u001b[39m\u001b[32m1913\u001b[39m res = \u001b[43mfunc\u001b[49m\u001b[43m(\u001b[49m\u001b[43m*\u001b[49m\u001b[43margs\u001b[49m\u001b[43m,\u001b[49m\u001b[43m \u001b[49m\u001b[43m*\u001b[49m\u001b[43m*\u001b[49m\u001b[43mkwargs\u001b[49m\u001b[43m)\u001b[49m\n\u001b[32m   1914\u001b[39m \u001b[38;5;28mself\u001b[39m.n_completed_tasks += \u001b[32m1\u001b[39m\n\u001b[32m   1915\u001b[39m \u001b[38;5;28mself\u001b[39m.print_progress()\n",
            "\u001b[36mFile \u001b[39m\u001b[32mc:\\Users\\kiran\\Desktop\\os el\\myvenv\\Lib\\site-packages\\sklearn\\utils\\parallel.py:139\u001b[39m, in \u001b[36m_FuncWrapper.__call__\u001b[39m\u001b[34m(self, *args, **kwargs)\u001b[39m\n\u001b[32m    137\u001b[39m     config = {}\n\u001b[32m    138\u001b[39m \u001b[38;5;28;01mwith\u001b[39;00m config_context(**config):\n\u001b[32m--> \u001b[39m\u001b[32m139\u001b[39m     \u001b[38;5;28;01mreturn\u001b[39;00m \u001b[38;5;28;43mself\u001b[39;49m\u001b[43m.\u001b[49m\u001b[43mfunction\u001b[49m\u001b[43m(\u001b[49m\u001b[43m*\u001b[49m\u001b[43margs\u001b[49m\u001b[43m,\u001b[49m\u001b[43m \u001b[49m\u001b[43m*\u001b[49m\u001b[43m*\u001b[49m\u001b[43mkwargs\u001b[49m\u001b[43m)\u001b[49m\n",
            "\u001b[36mFile \u001b[39m\u001b[32mc:\\Users\\kiran\\Desktop\\os el\\myvenv\\Lib\\site-packages\\sklearn\\model_selection\\_validation.py:866\u001b[39m, in \u001b[36m_fit_and_score\u001b[39m\u001b[34m(estimator, X, y, scorer, train, test, verbose, parameters, fit_params, score_params, return_train_score, return_parameters, return_n_test_samples, return_times, return_estimator, split_progress, candidate_progress, error_score)\u001b[39m\n\u001b[32m    864\u001b[39m         estimator.fit(X_train, **fit_params)\n\u001b[32m    865\u001b[39m     \u001b[38;5;28;01melse\u001b[39;00m:\n\u001b[32m--> \u001b[39m\u001b[32m866\u001b[39m         \u001b[43mestimator\u001b[49m\u001b[43m.\u001b[49m\u001b[43mfit\u001b[49m\u001b[43m(\u001b[49m\u001b[43mX_train\u001b[49m\u001b[43m,\u001b[49m\u001b[43m \u001b[49m\u001b[43my_train\u001b[49m\u001b[43m,\u001b[49m\u001b[43m \u001b[49m\u001b[43m*\u001b[49m\u001b[43m*\u001b[49m\u001b[43mfit_params\u001b[49m\u001b[43m)\u001b[49m\n\u001b[32m    868\u001b[39m \u001b[38;5;28;01mexcept\u001b[39;00m \u001b[38;5;167;01mException\u001b[39;00m:\n\u001b[32m    869\u001b[39m     \u001b[38;5;66;03m# Note fit time as time until error\u001b[39;00m\n\u001b[32m    870\u001b[39m     fit_time = time.time() - start_time\n",
            "\u001b[36mFile \u001b[39m\u001b[32mc:\\Users\\kiran\\Desktop\\os el\\myvenv\\Lib\\site-packages\\sklearn\\base.py:1389\u001b[39m, in \u001b[36m_fit_context.<locals>.decorator.<locals>.wrapper\u001b[39m\u001b[34m(estimator, *args, **kwargs)\u001b[39m\n\u001b[32m   1382\u001b[39m     estimator._validate_params()\n\u001b[32m   1384\u001b[39m \u001b[38;5;28;01mwith\u001b[39;00m config_context(\n\u001b[32m   1385\u001b[39m     skip_parameter_validation=(\n\u001b[32m   1386\u001b[39m         prefer_skip_nested_validation \u001b[38;5;129;01mor\u001b[39;00m global_skip_validation\n\u001b[32m   1387\u001b[39m     )\n\u001b[32m   1388\u001b[39m ):\n\u001b[32m-> \u001b[39m\u001b[32m1389\u001b[39m     \u001b[38;5;28;01mreturn\u001b[39;00m \u001b[43mfit_method\u001b[49m\u001b[43m(\u001b[49m\u001b[43mestimator\u001b[49m\u001b[43m,\u001b[49m\u001b[43m \u001b[49m\u001b[43m*\u001b[49m\u001b[43margs\u001b[49m\u001b[43m,\u001b[49m\u001b[43m \u001b[49m\u001b[43m*\u001b[49m\u001b[43m*\u001b[49m\u001b[43mkwargs\u001b[49m\u001b[43m)\u001b[49m\n",
            "\u001b[36mFile \u001b[39m\u001b[32mc:\\Users\\kiran\\Desktop\\os el\\myvenv\\Lib\\site-packages\\sklearn\\ensemble\\_forest.py:487\u001b[39m, in \u001b[36mBaseForest.fit\u001b[39m\u001b[34m(self, X, y, sample_weight)\u001b[39m\n\u001b[32m    476\u001b[39m trees = [\n\u001b[32m    477\u001b[39m     \u001b[38;5;28mself\u001b[39m._make_estimator(append=\u001b[38;5;28;01mFalse\u001b[39;00m, random_state=random_state)\n\u001b[32m    478\u001b[39m     \u001b[38;5;28;01mfor\u001b[39;00m i \u001b[38;5;129;01min\u001b[39;00m \u001b[38;5;28mrange\u001b[39m(n_more_estimators)\n\u001b[32m    479\u001b[39m ]\n\u001b[32m    481\u001b[39m \u001b[38;5;66;03m# Parallel loop: we prefer the threading backend as the Cython code\u001b[39;00m\n\u001b[32m    482\u001b[39m \u001b[38;5;66;03m# for fitting the trees is internally releasing the Python GIL\u001b[39;00m\n\u001b[32m    483\u001b[39m \u001b[38;5;66;03m# making threading more efficient than multiprocessing in\u001b[39;00m\n\u001b[32m    484\u001b[39m \u001b[38;5;66;03m# that case. However, for joblib 0.12+ we respect any\u001b[39;00m\n\u001b[32m    485\u001b[39m \u001b[38;5;66;03m# parallel_backend contexts set at a higher level,\u001b[39;00m\n\u001b[32m    486\u001b[39m \u001b[38;5;66;03m# since correctness does not rely on using threads.\u001b[39;00m\n\u001b[32m--> \u001b[39m\u001b[32m487\u001b[39m trees = \u001b[43mParallel\u001b[49m\u001b[43m(\u001b[49m\n\u001b[32m    488\u001b[39m \u001b[43m    \u001b[49m\u001b[43mn_jobs\u001b[49m\u001b[43m=\u001b[49m\u001b[38;5;28;43mself\u001b[39;49m\u001b[43m.\u001b[49m\u001b[43mn_jobs\u001b[49m\u001b[43m,\u001b[49m\n\u001b[32m    489\u001b[39m \u001b[43m    \u001b[49m\u001b[43mverbose\u001b[49m\u001b[43m=\u001b[49m\u001b[38;5;28;43mself\u001b[39;49m\u001b[43m.\u001b[49m\u001b[43mverbose\u001b[49m\u001b[43m,\u001b[49m\n\u001b[32m    490\u001b[39m \u001b[43m    \u001b[49m\u001b[43mprefer\u001b[49m\u001b[43m=\u001b[49m\u001b[33;43m\"\u001b[39;49m\u001b[33;43mthreads\u001b[39;49m\u001b[33;43m\"\u001b[39;49m\u001b[43m,\u001b[49m\n\u001b[32m    491\u001b[39m \u001b[43m\u001b[49m\u001b[43m)\u001b[49m\u001b[43m(\u001b[49m\n\u001b[32m    492\u001b[39m \u001b[43m    \u001b[49m\u001b[43mdelayed\u001b[49m\u001b[43m(\u001b[49m\u001b[43m_parallel_build_trees\u001b[49m\u001b[43m)\u001b[49m\u001b[43m(\u001b[49m\n\u001b[32m    493\u001b[39m \u001b[43m        \u001b[49m\u001b[43mt\u001b[49m\u001b[43m,\u001b[49m\n\u001b[32m    494\u001b[39m \u001b[43m        \u001b[49m\u001b[38;5;28;43mself\u001b[39;49m\u001b[43m.\u001b[49m\u001b[43mbootstrap\u001b[49m\u001b[43m,\u001b[49m\n\u001b[32m    495\u001b[39m \u001b[43m        \u001b[49m\u001b[43mX\u001b[49m\u001b[43m,\u001b[49m\n\u001b[32m    496\u001b[39m \u001b[43m        \u001b[49m\u001b[43my\u001b[49m\u001b[43m,\u001b[49m\n\u001b[32m    497\u001b[39m \u001b[43m        \u001b[49m\u001b[43msample_weight\u001b[49m\u001b[43m,\u001b[49m\n\u001b[32m    498\u001b[39m \u001b[43m        \u001b[49m\u001b[43mi\u001b[49m\u001b[43m,\u001b[49m\n\u001b[32m    499\u001b[39m \u001b[43m        \u001b[49m\u001b[38;5;28;43mlen\u001b[39;49m\u001b[43m(\u001b[49m\u001b[43mtrees\u001b[49m\u001b[43m)\u001b[49m\u001b[43m,\u001b[49m\n\u001b[32m    500\u001b[39m \u001b[43m        \u001b[49m\u001b[43mverbose\u001b[49m\u001b[43m=\u001b[49m\u001b[38;5;28;43mself\u001b[39;49m\u001b[43m.\u001b[49m\u001b[43mverbose\u001b[49m\u001b[43m,\u001b[49m\n\u001b[32m    501\u001b[39m \u001b[43m        \u001b[49m\u001b[43mclass_weight\u001b[49m\u001b[43m=\u001b[49m\u001b[38;5;28;43mself\u001b[39;49m\u001b[43m.\u001b[49m\u001b[43mclass_weight\u001b[49m\u001b[43m,\u001b[49m\n\u001b[32m    502\u001b[39m \u001b[43m        \u001b[49m\u001b[43mn_samples_bootstrap\u001b[49m\u001b[43m=\u001b[49m\u001b[43mn_samples_bootstrap\u001b[49m\u001b[43m,\u001b[49m\n\u001b[32m    503\u001b[39m \u001b[43m        \u001b[49m\u001b[43mmissing_values_in_feature_mask\u001b[49m\u001b[43m=\u001b[49m\u001b[43mmissing_values_in_feature_mask\u001b[49m\u001b[43m,\u001b[49m\n\u001b[32m    504\u001b[39m \u001b[43m    \u001b[49m\u001b[43m)\u001b[49m\n\u001b[32m    505\u001b[39m \u001b[43m    \u001b[49m\u001b[38;5;28;43;01mfor\u001b[39;49;00m\u001b[43m \u001b[49m\u001b[43mi\u001b[49m\u001b[43m,\u001b[49m\u001b[43m \u001b[49m\u001b[43mt\u001b[49m\u001b[43m \u001b[49m\u001b[38;5;129;43;01min\u001b[39;49;00m\u001b[43m \u001b[49m\u001b[38;5;28;43menumerate\u001b[39;49m\u001b[43m(\u001b[49m\u001b[43mtrees\u001b[49m\u001b[43m)\u001b[49m\n\u001b[32m    506\u001b[39m \u001b[43m\u001b[49m\u001b[43m)\u001b[49m\n\u001b[32m    508\u001b[39m \u001b[38;5;66;03m# Collect newly grown trees\u001b[39;00m\n\u001b[32m    509\u001b[39m \u001b[38;5;28mself\u001b[39m.estimators_.extend(trees)\n",
            "\u001b[36mFile \u001b[39m\u001b[32mc:\\Users\\kiran\\Desktop\\os el\\myvenv\\Lib\\site-packages\\sklearn\\utils\\parallel.py:77\u001b[39m, in \u001b[36mParallel.__call__\u001b[39m\u001b[34m(self, iterable)\u001b[39m\n\u001b[32m     72\u001b[39m config = get_config()\n\u001b[32m     73\u001b[39m iterable_with_config = (\n\u001b[32m     74\u001b[39m     (_with_config(delayed_func, config), args, kwargs)\n\u001b[32m     75\u001b[39m     \u001b[38;5;28;01mfor\u001b[39;00m delayed_func, args, kwargs \u001b[38;5;129;01min\u001b[39;00m iterable\n\u001b[32m     76\u001b[39m )\n\u001b[32m---> \u001b[39m\u001b[32m77\u001b[39m \u001b[38;5;28;01mreturn\u001b[39;00m \u001b[38;5;28;43msuper\u001b[39;49m\u001b[43m(\u001b[49m\u001b[43m)\u001b[49m\u001b[43m.\u001b[49m\u001b[34;43m__call__\u001b[39;49m\u001b[43m(\u001b[49m\u001b[43miterable_with_config\u001b[49m\u001b[43m)\u001b[49m\n",
            "\u001b[36mFile \u001b[39m\u001b[32mc:\\Users\\kiran\\Desktop\\os el\\myvenv\\Lib\\site-packages\\joblib\\parallel.py:1985\u001b[39m, in \u001b[36mParallel.__call__\u001b[39m\u001b[34m(self, iterable)\u001b[39m\n\u001b[32m   1983\u001b[39m     output = \u001b[38;5;28mself\u001b[39m._get_sequential_output(iterable)\n\u001b[32m   1984\u001b[39m     \u001b[38;5;28mnext\u001b[39m(output)\n\u001b[32m-> \u001b[39m\u001b[32m1985\u001b[39m     \u001b[38;5;28;01mreturn\u001b[39;00m output \u001b[38;5;28;01mif\u001b[39;00m \u001b[38;5;28mself\u001b[39m.return_generator \u001b[38;5;28;01melse\u001b[39;00m \u001b[38;5;28;43mlist\u001b[39;49m\u001b[43m(\u001b[49m\u001b[43moutput\u001b[49m\u001b[43m)\u001b[49m\n\u001b[32m   1987\u001b[39m \u001b[38;5;66;03m# Let's create an ID that uniquely identifies the current call. If the\u001b[39;00m\n\u001b[32m   1988\u001b[39m \u001b[38;5;66;03m# call is interrupted early and that the same instance is immediately\u001b[39;00m\n\u001b[32m   1989\u001b[39m \u001b[38;5;66;03m# reused, this id will be used to prevent workers that were\u001b[39;00m\n\u001b[32m   1990\u001b[39m \u001b[38;5;66;03m# concurrently finalizing a task from the previous call to run the\u001b[39;00m\n\u001b[32m   1991\u001b[39m \u001b[38;5;66;03m# callback.\u001b[39;00m\n\u001b[32m   1992\u001b[39m \u001b[38;5;28;01mwith\u001b[39;00m \u001b[38;5;28mself\u001b[39m._lock:\n",
            "\u001b[36mFile \u001b[39m\u001b[32mc:\\Users\\kiran\\Desktop\\os el\\myvenv\\Lib\\site-packages\\joblib\\parallel.py:1913\u001b[39m, in \u001b[36mParallel._get_sequential_output\u001b[39m\u001b[34m(self, iterable)\u001b[39m\n\u001b[32m   1911\u001b[39m \u001b[38;5;28mself\u001b[39m.n_dispatched_batches += \u001b[32m1\u001b[39m\n\u001b[32m   1912\u001b[39m \u001b[38;5;28mself\u001b[39m.n_dispatched_tasks += \u001b[32m1\u001b[39m\n\u001b[32m-> \u001b[39m\u001b[32m1913\u001b[39m res = \u001b[43mfunc\u001b[49m\u001b[43m(\u001b[49m\u001b[43m*\u001b[49m\u001b[43margs\u001b[49m\u001b[43m,\u001b[49m\u001b[43m \u001b[49m\u001b[43m*\u001b[49m\u001b[43m*\u001b[49m\u001b[43mkwargs\u001b[49m\u001b[43m)\u001b[49m\n\u001b[32m   1914\u001b[39m \u001b[38;5;28mself\u001b[39m.n_completed_tasks += \u001b[32m1\u001b[39m\n\u001b[32m   1915\u001b[39m \u001b[38;5;28mself\u001b[39m.print_progress()\n",
            "\u001b[36mFile \u001b[39m\u001b[32mc:\\Users\\kiran\\Desktop\\os el\\myvenv\\Lib\\site-packages\\sklearn\\utils\\parallel.py:139\u001b[39m, in \u001b[36m_FuncWrapper.__call__\u001b[39m\u001b[34m(self, *args, **kwargs)\u001b[39m\n\u001b[32m    137\u001b[39m     config = {}\n\u001b[32m    138\u001b[39m \u001b[38;5;28;01mwith\u001b[39;00m config_context(**config):\n\u001b[32m--> \u001b[39m\u001b[32m139\u001b[39m     \u001b[38;5;28;01mreturn\u001b[39;00m \u001b[38;5;28;43mself\u001b[39;49m\u001b[43m.\u001b[49m\u001b[43mfunction\u001b[49m\u001b[43m(\u001b[49m\u001b[43m*\u001b[49m\u001b[43margs\u001b[49m\u001b[43m,\u001b[49m\u001b[43m \u001b[49m\u001b[43m*\u001b[49m\u001b[43m*\u001b[49m\u001b[43mkwargs\u001b[49m\u001b[43m)\u001b[49m\n",
            "\u001b[36mFile \u001b[39m\u001b[32mc:\\Users\\kiran\\Desktop\\os el\\myvenv\\Lib\\site-packages\\sklearn\\ensemble\\_forest.py:197\u001b[39m, in \u001b[36m_parallel_build_trees\u001b[39m\u001b[34m(tree, bootstrap, X, y, sample_weight, tree_idx, n_trees, verbose, class_weight, n_samples_bootstrap, missing_values_in_feature_mask)\u001b[39m\n\u001b[32m    189\u001b[39m     tree._fit(\n\u001b[32m    190\u001b[39m         X,\n\u001b[32m    191\u001b[39m         y,\n\u001b[32m   (...)\u001b[39m\u001b[32m    194\u001b[39m         missing_values_in_feature_mask=missing_values_in_feature_mask,\n\u001b[32m    195\u001b[39m     )\n\u001b[32m    196\u001b[39m \u001b[38;5;28;01melse\u001b[39;00m:\n\u001b[32m--> \u001b[39m\u001b[32m197\u001b[39m     \u001b[43mtree\u001b[49m\u001b[43m.\u001b[49m\u001b[43m_fit\u001b[49m\u001b[43m(\u001b[49m\n\u001b[32m    198\u001b[39m \u001b[43m        \u001b[49m\u001b[43mX\u001b[49m\u001b[43m,\u001b[49m\n\u001b[32m    199\u001b[39m \u001b[43m        \u001b[49m\u001b[43my\u001b[49m\u001b[43m,\u001b[49m\n\u001b[32m    200\u001b[39m \u001b[43m        \u001b[49m\u001b[43msample_weight\u001b[49m\u001b[43m=\u001b[49m\u001b[43msample_weight\u001b[49m\u001b[43m,\u001b[49m\n\u001b[32m    201\u001b[39m \u001b[43m        \u001b[49m\u001b[43mcheck_input\u001b[49m\u001b[43m=\u001b[49m\u001b[38;5;28;43;01mFalse\u001b[39;49;00m\u001b[43m,\u001b[49m\n\u001b[32m    202\u001b[39m \u001b[43m        \u001b[49m\u001b[43mmissing_values_in_feature_mask\u001b[49m\u001b[43m=\u001b[49m\u001b[43mmissing_values_in_feature_mask\u001b[49m\u001b[43m,\u001b[49m\n\u001b[32m    203\u001b[39m \u001b[43m    \u001b[49m\u001b[43m)\u001b[49m\n\u001b[32m    205\u001b[39m \u001b[38;5;28;01mreturn\u001b[39;00m tree\n",
            "\u001b[36mFile \u001b[39m\u001b[32mc:\\Users\\kiran\\Desktop\\os el\\myvenv\\Lib\\site-packages\\sklearn\\tree\\_classes.py:472\u001b[39m, in \u001b[36mBaseDecisionTree._fit\u001b[39m\u001b[34m(self, X, y, sample_weight, check_input, missing_values_in_feature_mask)\u001b[39m\n\u001b[32m    461\u001b[39m \u001b[38;5;28;01melse\u001b[39;00m:\n\u001b[32m    462\u001b[39m     builder = BestFirstTreeBuilder(\n\u001b[32m    463\u001b[39m         splitter,\n\u001b[32m    464\u001b[39m         min_samples_split,\n\u001b[32m   (...)\u001b[39m\u001b[32m    469\u001b[39m         \u001b[38;5;28mself\u001b[39m.min_impurity_decrease,\n\u001b[32m    470\u001b[39m     )\n\u001b[32m--> \u001b[39m\u001b[32m472\u001b[39m \u001b[43mbuilder\u001b[49m\u001b[43m.\u001b[49m\u001b[43mbuild\u001b[49m\u001b[43m(\u001b[49m\u001b[38;5;28;43mself\u001b[39;49m\u001b[43m.\u001b[49m\u001b[43mtree_\u001b[49m\u001b[43m,\u001b[49m\u001b[43m \u001b[49m\u001b[43mX\u001b[49m\u001b[43m,\u001b[49m\u001b[43m \u001b[49m\u001b[43my\u001b[49m\u001b[43m,\u001b[49m\u001b[43m \u001b[49m\u001b[43msample_weight\u001b[49m\u001b[43m,\u001b[49m\u001b[43m \u001b[49m\u001b[43mmissing_values_in_feature_mask\u001b[49m\u001b[43m)\u001b[49m\n\u001b[32m    474\u001b[39m \u001b[38;5;28;01mif\u001b[39;00m \u001b[38;5;28mself\u001b[39m.n_outputs_ == \u001b[32m1\u001b[39m \u001b[38;5;129;01mand\u001b[39;00m is_classifier(\u001b[38;5;28mself\u001b[39m):\n\u001b[32m    475\u001b[39m     \u001b[38;5;28mself\u001b[39m.n_classes_ = \u001b[38;5;28mself\u001b[39m.n_classes_[\u001b[32m0\u001b[39m]\n",
            "\u001b[31mKeyboardInterrupt\u001b[39m: "
          ]
        }
      ],
      "source": [
        "from sklearn.model_selection import ParameterSampler\n",
        "from sklearn.metrics import f1_score\n",
        "from sklearn.model_selection import cross_val_score\n",
        "import numpy as np\n",
        "from sklearn.ensemble import RandomForestClassifier # Ensure this line is present and executed\n",
        "\n",
        "param_dist = {\n",
        "    'n_estimators': [100, 200, 300],\n",
        "    'max_depth': [10, 20],\n",
        "    'min_samples_split': [2, 5],\n",
        "    'min_samples_leaf': [1, 2],\n",
        "    'max_features': ['sqrt', 'log2'],\n",
        "    'bootstrap': [True, False]\n",
        "}\n",
        "\n",
        "# Sample 10 random combinations\n",
        "param_list = list(ParameterSampler(param_dist, n_iter=10, random_state=42))\n",
        "\n",
        "for i, params in enumerate(param_list):\n",
        "    rf = RandomForestClassifier(**params, class_weight='balanced', random_state=42)\n",
        "    scores = cross_val_score(rf, X_train, y_train, cv=2, scoring='f1_macro')\n",
        "    print(f\"Iteration {i+1}\")\n",
        "    print(f\"Params: {params}\")\n",
        "    print(f\"F1 Scores: {scores}\")\n",
        "    print(f\"Mean F1 Score: {np.mean(scores):.4f}\")\n",
        "    print(\"-\" * 40)\n"
      ]
    },
    {
      "cell_type": "code",
      "execution_count": null,
      "metadata": {},
      "outputs": [],
      "source": [
        "from joblib import Parallel, delayed\n",
        "from sklearn.model_selection import cross_val_score\n",
        "import numpy as np\n",
        "from sklearn.ensemble import RandomForestClassifier\n",
        "from sklearn.utils import all_estimators\n",
        "\n",
        "\n",
        "param_dist = {\n",
        "    'n_estimators': [100, 200, 300],\n",
        "    'max_depth': [10, 20],\n",
        "    'min_samples_split': [2, 5],\n",
        "    'min_samples_leaf': [1, 2],\n",
        "    'max_features': ['sqrt', 'log2'],\n",
        "    'bootstrap': [True, False]\n",
        "}\n",
        "\n",
        "\n",
        "def evaluate_model(params):\n",
        "    rf = RandomForestClassifier(\n",
        "                                **params,\n",
        "                                class_weight='balanced',\n",
        "                                random_state=42,\n",
        "                               \n",
        "\n",
        "                                )\n",
        "    scores = cross_val_score(rf, X_train, y_train, cv=2, scoring='f1', n_jobs=1)\n",
        "    mean_score = np.mean(scores)\n",
        "    print(f\"Params: {params}\")\n",
        "    print(f\"F1 Scores: {scores}\")\n",
        "    print(f\"Mean F1 Score: {mean_score:.4f}\")\n",
        "    print(\"-\" * 40)\n",
        "    return {'params': params, 'mean_f1': mean_score}\n",
        "\n",
        "# Sample 10 random hyperparameter sets\n",
        "from sklearn.model_selection import ParameterSampler\n",
        "param_list = list(ParameterSampler(param_dist, n_iter=10, random_state=42))\n",
        "\n",
        "# Run in parallel using all CPU cores\n",
        "results = Parallel(n_jobs=2)(delayed(evaluate_model)(params) for params in param_list)\n"
      ]
    },
    {
      "cell_type": "markdown",
      "metadata": {
        "id": "GMY553kTsjoy"
      },
      "source": [
        "# **Random forest training**"
      ]
    },
    {
      "cell_type": "code",
      "execution_count": null,
      "metadata": {
        "id": "66Hsrqczgi4D"
      },
      "outputs": [],
      "source": [
        "\n",
        "from sklearn.ensemble import RandomForestClassifier\n",
        "from sklearn.metrics import accuracy_score, classification_report\n",
        "\n"
      ]
    },
    {
      "cell_type": "code",
      "execution_count": 9,
      "metadata": {
        "colab": {
          "base_uri": "https://localhost:8080/",
          "height": 219
        },
        "id": "IizgOB9csJXP",
        "outputId": "7a11ce29-9ea0-4f25-83a1-43ed863dddef"
      },
      "outputs": [
        {
          "data": {
            "text/html": [
              "<style>#sk-container-id-1 {\n",
              "  /* Definition of color scheme common for light and dark mode */\n",
              "  --sklearn-color-text: #000;\n",
              "  --sklearn-color-text-muted: #666;\n",
              "  --sklearn-color-line: gray;\n",
              "  /* Definition of color scheme for unfitted estimators */\n",
              "  --sklearn-color-unfitted-level-0: #fff5e6;\n",
              "  --sklearn-color-unfitted-level-1: #f6e4d2;\n",
              "  --sklearn-color-unfitted-level-2: #ffe0b3;\n",
              "  --sklearn-color-unfitted-level-3: chocolate;\n",
              "  /* Definition of color scheme for fitted estimators */\n",
              "  --sklearn-color-fitted-level-0: #f0f8ff;\n",
              "  --sklearn-color-fitted-level-1: #d4ebff;\n",
              "  --sklearn-color-fitted-level-2: #b3dbfd;\n",
              "  --sklearn-color-fitted-level-3: cornflowerblue;\n",
              "\n",
              "  /* Specific color for light theme */\n",
              "  --sklearn-color-text-on-default-background: var(--sg-text-color, var(--theme-code-foreground, var(--jp-content-font-color1, black)));\n",
              "  --sklearn-color-background: var(--sg-background-color, var(--theme-background, var(--jp-layout-color0, white)));\n",
              "  --sklearn-color-border-box: var(--sg-text-color, var(--theme-code-foreground, var(--jp-content-font-color1, black)));\n",
              "  --sklearn-color-icon: #696969;\n",
              "\n",
              "  @media (prefers-color-scheme: dark) {\n",
              "    /* Redefinition of color scheme for dark theme */\n",
              "    --sklearn-color-text-on-default-background: var(--sg-text-color, var(--theme-code-foreground, var(--jp-content-font-color1, white)));\n",
              "    --sklearn-color-background: var(--sg-background-color, var(--theme-background, var(--jp-layout-color0, #111)));\n",
              "    --sklearn-color-border-box: var(--sg-text-color, var(--theme-code-foreground, var(--jp-content-font-color1, white)));\n",
              "    --sklearn-color-icon: #878787;\n",
              "  }\n",
              "}\n",
              "\n",
              "#sk-container-id-1 {\n",
              "  color: var(--sklearn-color-text);\n",
              "}\n",
              "\n",
              "#sk-container-id-1 pre {\n",
              "  padding: 0;\n",
              "}\n",
              "\n",
              "#sk-container-id-1 input.sk-hidden--visually {\n",
              "  border: 0;\n",
              "  clip: rect(1px 1px 1px 1px);\n",
              "  clip: rect(1px, 1px, 1px, 1px);\n",
              "  height: 1px;\n",
              "  margin: -1px;\n",
              "  overflow: hidden;\n",
              "  padding: 0;\n",
              "  position: absolute;\n",
              "  width: 1px;\n",
              "}\n",
              "\n",
              "#sk-container-id-1 div.sk-dashed-wrapped {\n",
              "  border: 1px dashed var(--sklearn-color-line);\n",
              "  margin: 0 0.4em 0.5em 0.4em;\n",
              "  box-sizing: border-box;\n",
              "  padding-bottom: 0.4em;\n",
              "  background-color: var(--sklearn-color-background);\n",
              "}\n",
              "\n",
              "#sk-container-id-1 div.sk-container {\n",
              "  /* jupyter's `normalize.less` sets `[hidden] { display: none; }`\n",
              "     but bootstrap.min.css set `[hidden] { display: none !important; }`\n",
              "     so we also need the `!important` here to be able to override the\n",
              "     default hidden behavior on the sphinx rendered scikit-learn.org.\n",
              "     See: https://github.com/scikit-learn/scikit-learn/issues/21755 */\n",
              "  display: inline-block !important;\n",
              "  position: relative;\n",
              "}\n",
              "\n",
              "#sk-container-id-1 div.sk-text-repr-fallback {\n",
              "  display: none;\n",
              "}\n",
              "\n",
              "div.sk-parallel-item,\n",
              "div.sk-serial,\n",
              "div.sk-item {\n",
              "  /* draw centered vertical line to link estimators */\n",
              "  background-image: linear-gradient(var(--sklearn-color-text-on-default-background), var(--sklearn-color-text-on-default-background));\n",
              "  background-size: 2px 100%;\n",
              "  background-repeat: no-repeat;\n",
              "  background-position: center center;\n",
              "}\n",
              "\n",
              "/* Parallel-specific style estimator block */\n",
              "\n",
              "#sk-container-id-1 div.sk-parallel-item::after {\n",
              "  content: \"\";\n",
              "  width: 100%;\n",
              "  border-bottom: 2px solid var(--sklearn-color-text-on-default-background);\n",
              "  flex-grow: 1;\n",
              "}\n",
              "\n",
              "#sk-container-id-1 div.sk-parallel {\n",
              "  display: flex;\n",
              "  align-items: stretch;\n",
              "  justify-content: center;\n",
              "  background-color: var(--sklearn-color-background);\n",
              "  position: relative;\n",
              "}\n",
              "\n",
              "#sk-container-id-1 div.sk-parallel-item {\n",
              "  display: flex;\n",
              "  flex-direction: column;\n",
              "}\n",
              "\n",
              "#sk-container-id-1 div.sk-parallel-item:first-child::after {\n",
              "  align-self: flex-end;\n",
              "  width: 50%;\n",
              "}\n",
              "\n",
              "#sk-container-id-1 div.sk-parallel-item:last-child::after {\n",
              "  align-self: flex-start;\n",
              "  width: 50%;\n",
              "}\n",
              "\n",
              "#sk-container-id-1 div.sk-parallel-item:only-child::after {\n",
              "  width: 0;\n",
              "}\n",
              "\n",
              "/* Serial-specific style estimator block */\n",
              "\n",
              "#sk-container-id-1 div.sk-serial {\n",
              "  display: flex;\n",
              "  flex-direction: column;\n",
              "  align-items: center;\n",
              "  background-color: var(--sklearn-color-background);\n",
              "  padding-right: 1em;\n",
              "  padding-left: 1em;\n",
              "}\n",
              "\n",
              "\n",
              "/* Toggleable style: style used for estimator/Pipeline/ColumnTransformer box that is\n",
              "clickable and can be expanded/collapsed.\n",
              "- Pipeline and ColumnTransformer use this feature and define the default style\n",
              "- Estimators will overwrite some part of the style using the `sk-estimator` class\n",
              "*/\n",
              "\n",
              "/* Pipeline and ColumnTransformer style (default) */\n",
              "\n",
              "#sk-container-id-1 div.sk-toggleable {\n",
              "  /* Default theme specific background. It is overwritten whether we have a\n",
              "  specific estimator or a Pipeline/ColumnTransformer */\n",
              "  background-color: var(--sklearn-color-background);\n",
              "}\n",
              "\n",
              "/* Toggleable label */\n",
              "#sk-container-id-1 label.sk-toggleable__label {\n",
              "  cursor: pointer;\n",
              "  display: flex;\n",
              "  width: 100%;\n",
              "  margin-bottom: 0;\n",
              "  padding: 0.5em;\n",
              "  box-sizing: border-box;\n",
              "  text-align: center;\n",
              "  align-items: start;\n",
              "  justify-content: space-between;\n",
              "  gap: 0.5em;\n",
              "}\n",
              "\n",
              "#sk-container-id-1 label.sk-toggleable__label .caption {\n",
              "  font-size: 0.6rem;\n",
              "  font-weight: lighter;\n",
              "  color: var(--sklearn-color-text-muted);\n",
              "}\n",
              "\n",
              "#sk-container-id-1 label.sk-toggleable__label-arrow:before {\n",
              "  /* Arrow on the left of the label */\n",
              "  content: \"▸\";\n",
              "  float: left;\n",
              "  margin-right: 0.25em;\n",
              "  color: var(--sklearn-color-icon);\n",
              "}\n",
              "\n",
              "#sk-container-id-1 label.sk-toggleable__label-arrow:hover:before {\n",
              "  color: var(--sklearn-color-text);\n",
              "}\n",
              "\n",
              "/* Toggleable content - dropdown */\n",
              "\n",
              "#sk-container-id-1 div.sk-toggleable__content {\n",
              "  max-height: 0;\n",
              "  max-width: 0;\n",
              "  overflow: hidden;\n",
              "  text-align: left;\n",
              "  /* unfitted */\n",
              "  background-color: var(--sklearn-color-unfitted-level-0);\n",
              "}\n",
              "\n",
              "#sk-container-id-1 div.sk-toggleable__content.fitted {\n",
              "  /* fitted */\n",
              "  background-color: var(--sklearn-color-fitted-level-0);\n",
              "}\n",
              "\n",
              "#sk-container-id-1 div.sk-toggleable__content pre {\n",
              "  margin: 0.2em;\n",
              "  border-radius: 0.25em;\n",
              "  color: var(--sklearn-color-text);\n",
              "  /* unfitted */\n",
              "  background-color: var(--sklearn-color-unfitted-level-0);\n",
              "}\n",
              "\n",
              "#sk-container-id-1 div.sk-toggleable__content.fitted pre {\n",
              "  /* unfitted */\n",
              "  background-color: var(--sklearn-color-fitted-level-0);\n",
              "}\n",
              "\n",
              "#sk-container-id-1 input.sk-toggleable__control:checked~div.sk-toggleable__content {\n",
              "  /* Expand drop-down */\n",
              "  max-height: 200px;\n",
              "  max-width: 100%;\n",
              "  overflow: auto;\n",
              "}\n",
              "\n",
              "#sk-container-id-1 input.sk-toggleable__control:checked~label.sk-toggleable__label-arrow:before {\n",
              "  content: \"▾\";\n",
              "}\n",
              "\n",
              "/* Pipeline/ColumnTransformer-specific style */\n",
              "\n",
              "#sk-container-id-1 div.sk-label input.sk-toggleable__control:checked~label.sk-toggleable__label {\n",
              "  color: var(--sklearn-color-text);\n",
              "  background-color: var(--sklearn-color-unfitted-level-2);\n",
              "}\n",
              "\n",
              "#sk-container-id-1 div.sk-label.fitted input.sk-toggleable__control:checked~label.sk-toggleable__label {\n",
              "  background-color: var(--sklearn-color-fitted-level-2);\n",
              "}\n",
              "\n",
              "/* Estimator-specific style */\n",
              "\n",
              "/* Colorize estimator box */\n",
              "#sk-container-id-1 div.sk-estimator input.sk-toggleable__control:checked~label.sk-toggleable__label {\n",
              "  /* unfitted */\n",
              "  background-color: var(--sklearn-color-unfitted-level-2);\n",
              "}\n",
              "\n",
              "#sk-container-id-1 div.sk-estimator.fitted input.sk-toggleable__control:checked~label.sk-toggleable__label {\n",
              "  /* fitted */\n",
              "  background-color: var(--sklearn-color-fitted-level-2);\n",
              "}\n",
              "\n",
              "#sk-container-id-1 div.sk-label label.sk-toggleable__label,\n",
              "#sk-container-id-1 div.sk-label label {\n",
              "  /* The background is the default theme color */\n",
              "  color: var(--sklearn-color-text-on-default-background);\n",
              "}\n",
              "\n",
              "/* On hover, darken the color of the background */\n",
              "#sk-container-id-1 div.sk-label:hover label.sk-toggleable__label {\n",
              "  color: var(--sklearn-color-text);\n",
              "  background-color: var(--sklearn-color-unfitted-level-2);\n",
              "}\n",
              "\n",
              "/* Label box, darken color on hover, fitted */\n",
              "#sk-container-id-1 div.sk-label.fitted:hover label.sk-toggleable__label.fitted {\n",
              "  color: var(--sklearn-color-text);\n",
              "  background-color: var(--sklearn-color-fitted-level-2);\n",
              "}\n",
              "\n",
              "/* Estimator label */\n",
              "\n",
              "#sk-container-id-1 div.sk-label label {\n",
              "  font-family: monospace;\n",
              "  font-weight: bold;\n",
              "  display: inline-block;\n",
              "  line-height: 1.2em;\n",
              "}\n",
              "\n",
              "#sk-container-id-1 div.sk-label-container {\n",
              "  text-align: center;\n",
              "}\n",
              "\n",
              "/* Estimator-specific */\n",
              "#sk-container-id-1 div.sk-estimator {\n",
              "  font-family: monospace;\n",
              "  border: 1px dotted var(--sklearn-color-border-box);\n",
              "  border-radius: 0.25em;\n",
              "  box-sizing: border-box;\n",
              "  margin-bottom: 0.5em;\n",
              "  /* unfitted */\n",
              "  background-color: var(--sklearn-color-unfitted-level-0);\n",
              "}\n",
              "\n",
              "#sk-container-id-1 div.sk-estimator.fitted {\n",
              "  /* fitted */\n",
              "  background-color: var(--sklearn-color-fitted-level-0);\n",
              "}\n",
              "\n",
              "/* on hover */\n",
              "#sk-container-id-1 div.sk-estimator:hover {\n",
              "  /* unfitted */\n",
              "  background-color: var(--sklearn-color-unfitted-level-2);\n",
              "}\n",
              "\n",
              "#sk-container-id-1 div.sk-estimator.fitted:hover {\n",
              "  /* fitted */\n",
              "  background-color: var(--sklearn-color-fitted-level-2);\n",
              "}\n",
              "\n",
              "/* Specification for estimator info (e.g. \"i\" and \"?\") */\n",
              "\n",
              "/* Common style for \"i\" and \"?\" */\n",
              "\n",
              ".sk-estimator-doc-link,\n",
              "a:link.sk-estimator-doc-link,\n",
              "a:visited.sk-estimator-doc-link {\n",
              "  float: right;\n",
              "  font-size: smaller;\n",
              "  line-height: 1em;\n",
              "  font-family: monospace;\n",
              "  background-color: var(--sklearn-color-background);\n",
              "  border-radius: 1em;\n",
              "  height: 1em;\n",
              "  width: 1em;\n",
              "  text-decoration: none !important;\n",
              "  margin-left: 0.5em;\n",
              "  text-align: center;\n",
              "  /* unfitted */\n",
              "  border: var(--sklearn-color-unfitted-level-1) 1pt solid;\n",
              "  color: var(--sklearn-color-unfitted-level-1);\n",
              "}\n",
              "\n",
              ".sk-estimator-doc-link.fitted,\n",
              "a:link.sk-estimator-doc-link.fitted,\n",
              "a:visited.sk-estimator-doc-link.fitted {\n",
              "  /* fitted */\n",
              "  border: var(--sklearn-color-fitted-level-1) 1pt solid;\n",
              "  color: var(--sklearn-color-fitted-level-1);\n",
              "}\n",
              "\n",
              "/* On hover */\n",
              "div.sk-estimator:hover .sk-estimator-doc-link:hover,\n",
              ".sk-estimator-doc-link:hover,\n",
              "div.sk-label-container:hover .sk-estimator-doc-link:hover,\n",
              ".sk-estimator-doc-link:hover {\n",
              "  /* unfitted */\n",
              "  background-color: var(--sklearn-color-unfitted-level-3);\n",
              "  color: var(--sklearn-color-background);\n",
              "  text-decoration: none;\n",
              "}\n",
              "\n",
              "div.sk-estimator.fitted:hover .sk-estimator-doc-link.fitted:hover,\n",
              ".sk-estimator-doc-link.fitted:hover,\n",
              "div.sk-label-container:hover .sk-estimator-doc-link.fitted:hover,\n",
              ".sk-estimator-doc-link.fitted:hover {\n",
              "  /* fitted */\n",
              "  background-color: var(--sklearn-color-fitted-level-3);\n",
              "  color: var(--sklearn-color-background);\n",
              "  text-decoration: none;\n",
              "}\n",
              "\n",
              "/* Span, style for the box shown on hovering the info icon */\n",
              ".sk-estimator-doc-link span {\n",
              "  display: none;\n",
              "  z-index: 9999;\n",
              "  position: relative;\n",
              "  font-weight: normal;\n",
              "  right: .2ex;\n",
              "  padding: .5ex;\n",
              "  margin: .5ex;\n",
              "  width: min-content;\n",
              "  min-width: 20ex;\n",
              "  max-width: 50ex;\n",
              "  color: var(--sklearn-color-text);\n",
              "  box-shadow: 2pt 2pt 4pt #999;\n",
              "  /* unfitted */\n",
              "  background: var(--sklearn-color-unfitted-level-0);\n",
              "  border: .5pt solid var(--sklearn-color-unfitted-level-3);\n",
              "}\n",
              "\n",
              ".sk-estimator-doc-link.fitted span {\n",
              "  /* fitted */\n",
              "  background: var(--sklearn-color-fitted-level-0);\n",
              "  border: var(--sklearn-color-fitted-level-3);\n",
              "}\n",
              "\n",
              ".sk-estimator-doc-link:hover span {\n",
              "  display: block;\n",
              "}\n",
              "\n",
              "/* \"?\"-specific style due to the `<a>` HTML tag */\n",
              "\n",
              "#sk-container-id-1 a.estimator_doc_link {\n",
              "  float: right;\n",
              "  font-size: 1rem;\n",
              "  line-height: 1em;\n",
              "  font-family: monospace;\n",
              "  background-color: var(--sklearn-color-background);\n",
              "  border-radius: 1rem;\n",
              "  height: 1rem;\n",
              "  width: 1rem;\n",
              "  text-decoration: none;\n",
              "  /* unfitted */\n",
              "  color: var(--sklearn-color-unfitted-level-1);\n",
              "  border: var(--sklearn-color-unfitted-level-1) 1pt solid;\n",
              "}\n",
              "\n",
              "#sk-container-id-1 a.estimator_doc_link.fitted {\n",
              "  /* fitted */\n",
              "  border: var(--sklearn-color-fitted-level-1) 1pt solid;\n",
              "  color: var(--sklearn-color-fitted-level-1);\n",
              "}\n",
              "\n",
              "/* On hover */\n",
              "#sk-container-id-1 a.estimator_doc_link:hover {\n",
              "  /* unfitted */\n",
              "  background-color: var(--sklearn-color-unfitted-level-3);\n",
              "  color: var(--sklearn-color-background);\n",
              "  text-decoration: none;\n",
              "}\n",
              "\n",
              "#sk-container-id-1 a.estimator_doc_link.fitted:hover {\n",
              "  /* fitted */\n",
              "  background-color: var(--sklearn-color-fitted-level-3);\n",
              "}\n",
              "</style><div id=\"sk-container-id-1\" class=\"sk-top-container\"><div class=\"sk-text-repr-fallback\"><pre>RandomForestClassifier(class_weight=&#x27;balanced&#x27;, oob_score=True, random_state=42)</pre><b>In a Jupyter environment, please rerun this cell to show the HTML representation or trust the notebook. <br />On GitHub, the HTML representation is unable to render, please try loading this page with nbviewer.org.</b></div><div class=\"sk-container\" hidden><div class=\"sk-item\"><div class=\"sk-estimator fitted sk-toggleable\"><input class=\"sk-toggleable__control sk-hidden--visually\" id=\"sk-estimator-id-1\" type=\"checkbox\" checked><label for=\"sk-estimator-id-1\" class=\"sk-toggleable__label fitted sk-toggleable__label-arrow\"><div><div>RandomForestClassifier</div></div><div><a class=\"sk-estimator-doc-link fitted\" rel=\"noreferrer\" target=\"_blank\" href=\"https://scikit-learn.org/1.6/modules/generated/sklearn.ensemble.RandomForestClassifier.html\">?<span>Documentation for RandomForestClassifier</span></a><span class=\"sk-estimator-doc-link fitted\">i<span>Fitted</span></span></div></label><div class=\"sk-toggleable__content fitted\"><pre>RandomForestClassifier(class_weight=&#x27;balanced&#x27;, oob_score=True, random_state=42)</pre></div> </div></div></div></div>"
            ],
            "text/plain": [
              "RandomForestClassifier(class_weight='balanced', oob_score=True, random_state=42)"
            ]
          },
          "execution_count": 9,
          "metadata": {},
          "output_type": "execute_result"
        }
      ],
      "source": [
        "# Use the best parameters obtained from RandomizedSearchCV\n",
        "# best_params = random_search.best_params_\n",
        "\n",
        "# Initialize the Random Forest Classifier\n",
        "rf_model = RandomForestClassifier(\n",
        "    # **best_params,           # Inject the best hyperparameters\n",
        "    random_state=42,         # Ensures reproducibility\n",
        "    class_weight='balanced', # Adjusts weights inversely proportional to class frequencies\n",
        "    oob_score=True,         # Set to True only if using out-of-bag samples for validation\n",
        "    \n",
        "     \n",
        "                                n_estimators = 100,\n",
        "                                max_depth = None,\n",
        "                                min_samples_split = 2,\n",
        "                                min_samples_leaf = 1\n",
        ")\n",
        "\n",
        "# Train the model\n",
        "rf_model.fit(X_train, y_train)\n"
      ]
    },
    {
      "cell_type": "code",
      "execution_count": 10,
      "metadata": {
        "id": "CLLIytGMsJhH"
      },
      "outputs": [],
      "source": [
        "# Make predictions on the test set\n",
        "y_pred_rf = rf_model.predict(X_test)\n",
        "\n"
      ]
    },
    {
      "cell_type": "code",
      "execution_count": 12,
      "metadata": {
        "id": "VLKCLAMZsJjz"
      },
      "outputs": [
        {
          "name": "stdout",
          "output_type": "stream",
          "text": [
            "Random Forest Classifier Accuracy: 1.0\n",
            "Random Forest Classifier Report:\n",
            "                    precision    recall  f1-score   support\n",
            "\n",
            "               DoS       1.00      1.00      1.00    117504\n",
            "             Fuzzy       1.00      1.00      1.00     98369\n",
            "Impersonation_gear       1.00      1.00      1.00    119451\n",
            " Impersonation_rpm       1.00      1.00      1.00    130979\n",
            "            Normal       1.00      1.00      1.00   2847592\n",
            "\n",
            "          accuracy                           1.00   3313895\n",
            "         macro avg       1.00      1.00      1.00   3313895\n",
            "      weighted avg       1.00      1.00      1.00   3313895\n",
            "\n"
          ]
        }
      ],
      "source": [
        "# Evaluate the model\n",
        "from sklearn.metrics import accuracy_score, classification_report\n",
        "\n",
        "accuracy_rf = accuracy_score(y_test, y_pred_rf)\n",
        "report_rf = classification_report(y_test, y_pred_rf, target_names=label_encoder.classes_)  #target_names=label_encoder.classes_✅ This shows class names like 'normal', 'spoofing', etc., instead of integers.\n",
        "\n",
        "print(f\"Random Forest Classifier Accuracy: {accuracy_rf}\")\n",
        "print(\"Random Forest Classifier Report:\")\n",
        "print(report_rf)"
      ]
    },
    {
      "cell_type": "markdown",
      "metadata": {
        "id": "0xgR9tTcxhKj"
      },
      "source": [
        "# **Extra Trees**"
      ]
    },
    {
      "cell_type": "markdown",
      "metadata": {
        "id": "c8pEj8p0ySn0"
      },
      "source": [
        "# **RandomizedSearchCV hyperparametrs tuning**"
      ]
    },
    {
      "cell_type": "code",
      "execution_count": null,
      "metadata": {
        "id": "MHjOvYJzxmKl"
      },
      "outputs": [
        {
          "name": "stdout",
          "output_type": "stream",
          "text": [
            "Fitting 5 folds for each of 50 candidates, totalling 250 fits\n",
            "Best Parameters: {'bootstrap': False, 'max_depth': 20, 'max_features': 'sqrt', 'min_samples_leaf': 1, 'min_samples_split': 10, 'n_estimators': 161}\n",
            "Best Score: 0.994417445482866\n"
          ]
        }
      ],
      "source": [
        "from sklearn.ensemble import ExtraTreesClassifier\n",
        "from sklearn.model_selection import RandomizedSearchCV\n",
        "from scipy.stats import randint\n",
        "\n",
        "param_dist = {\n",
        "    'n_estimators': randint(100, 500),\n",
        "    'max_depth': [None] + list(range(10, 50, 10)),\n",
        "    'min_samples_split': randint(2, 11),\n",
        "    'min_samples_leaf': randint(1, 5),\n",
        "    'max_features': ['sqrt', 'log2'],\n",
        "    'bootstrap': [False],  # ExtraTrees typically uses bootstrap=False\n",
        "}\n",
        "\n",
        "et = ExtraTreesClassifier(random_state=42, class_weight='balanced')\n",
        "\n",
        "random_search = RandomizedSearchCV(\n",
        "    estimator=et,\n",
        "    param_distributions=param_dist,\n",
        "    n_iter=50,  # Try 50 random combinations\n",
        "    cv=1,\n",
        "    n_jobs=2,\n",
        "    verbose=2,\n",
        "    scoring='f1_macro'  # Better for imbalanced datasets\n",
        "\n",
        ")\n",
        "\n",
        "random_search.fit(X_train, y_train)\n",
        "\n",
        "print(\"Best Parameters:\", random_search.best_params_)\n",
        "print(\"Best Score:\", random_search.best_score_)\n",
        "#better for large datasets as searching whole dtaset will take time"
      ]
    },
    {
      "cell_type": "markdown",
      "metadata": {
        "id": "22aq1ZUXzTiN"
      },
      "source": [
        "# **implementing extra Trees**"
      ]
    },
    {
      "cell_type": "code",
      "execution_count": null,
      "metadata": {
        "id": "UWCcr1VGzYXR"
      },
      "outputs": [
        {
          "name": "stdout",
          "output_type": "stream",
          "text": [
            "Accuracy: 0.9999921542474942\n",
            "\n",
            "Classification Report:\n",
            "                     precision    recall  f1-score   support\n",
            "\n",
            "               DoS       1.00      1.00      1.00    117504\n",
            "             Fuzzy       1.00      1.00      1.00     98369\n",
            "Impersonation_gear       1.00      1.00      1.00    119451\n",
            " Impersonation_rpm       1.00      1.00      1.00    130979\n",
            "            Normal       1.00      1.00      1.00   2847592\n",
            "\n",
            "          accuracy                           1.00   3313895\n",
            "         macro avg       1.00      1.00      1.00   3313895\n",
            "      weighted avg       1.00      1.00      1.00   3313895\n",
            "\n"
          ]
        }
      ],
      "source": [
        "from sklearn.ensemble import ExtraTreesClassifier\n",
        "from sklearn.metrics import classification_report, accuracy_score\n",
        "\n",
        "# Initialize model\n",
        "et_model = ExtraTreesClassifier(\n",
        "    #  **random_search.best_params_,\n",
        "      random_state=42 ,\n",
        "     class_weight='balanced',\n",
        "     \n",
        "                      n_estimators = 161, \n",
        "                      max_depth = 20,\n",
        "                      min_samples_split = 10, \n",
        "                      min_samples_leaf = 1,\n",
        "                      bootstrap=False,\n",
        "                      max_features='sqrt',\n",
        "                      n_jobs=-1\n",
        "\n",
        "  )\n",
        "\n",
        "# Train\n",
        "et_model.fit(X_train, y_train)\n",
        "\n",
        "# Predict\n",
        "y_pred = et_model.predict(X_test)\n",
        "\n",
        "# Evaluate\n",
        "print(\"Accuracy:\", accuracy_score(y_test, y_pred))\n",
        "print(\"\\nClassification Report:\\n\", classification_report(y_test, y_pred,target_names=label_encoder.classes_))\n",
        "#instead of encoded label to print the the actual label use (target_names=label_encoder.classes_)\n"
      ]
    },
    {
      "cell_type": "markdown",
      "metadata": {
        "id": "hPwe0RyeNp3F"
      },
      "source": [
        "# **LightGBM**"
      ]
    },
    {
      "cell_type": "code",
      "execution_count": null,
      "metadata": {},
      "outputs": [
        {
          "name": "stdout",
          "output_type": "stream",
          "text": [
            "Requirement already satisfied: scikit-learn in c:\\users\\kiran\\desktop\\os el\\myvenv\\lib\\site-packages (1.5.2)\n",
            "Collecting scikit-learn\n",
            "  Using cached scikit_learn-1.6.1-cp311-cp311-win_amd64.whl.metadata (15 kB)\n",
            "Requirement already satisfied: joblib in c:\\users\\kiran\\desktop\\os el\\myvenv\\lib\\site-packages (1.5.0)\n",
            "Requirement already satisfied: numpy>=1.19.5 in c:\\users\\kiran\\desktop\\os el\\myvenv\\lib\\site-packages (from scikit-learn) (1.26.4)\n",
            "Requirement already satisfied: scipy>=1.6.0 in c:\\users\\kiran\\desktop\\os el\\myvenv\\lib\\site-packages (from scikit-learn) (1.15.3)\n",
            "Requirement already satisfied: threadpoolctl>=3.1.0 in c:\\users\\kiran\\desktop\\os el\\myvenv\\lib\\site-packages (from scikit-learn) (3.6.0)\n",
            "Using cached scikit_learn-1.6.1-cp311-cp311-win_amd64.whl (11.1 MB)\n",
            "Installing collected packages: scikit-learn\n",
            "  Attempting uninstall: scikit-learn\n",
            "    Found existing installation: scikit-learn 1.5.2\n",
            "    Uninstalling scikit-learn-1.5.2:\n",
            "      Successfully uninstalled scikit-learn-1.5.2\n",
            "Successfully installed scikit-learn-1.6.1\n",
            "Note: you may need to restart the kernel to use updated packages.\n"
          ]
        },
        {
          "name": "stderr",
          "output_type": "stream",
          "text": [
            "  WARNING: Failed to remove contents in a temporary directory 'C:\\Users\\kiran\\Desktop\\os el\\myvenv\\Lib\\site-packages\\~-learn'.\n",
            "  You can safely remove it manually.\n",
            "\n",
            "[notice] A new release of pip is available: 24.0 -> 25.1.1\n",
            "[notice] To update, run: python.exe -m pip install --upgrade pip\n"
          ]
        }
      ],
      "source": [
        "pip install --upgrade scikit-learn joblib"
      ]
    },
    {
      "cell_type": "code",
      "execution_count": 6,
      "metadata": {
        "id": "pHNsZ-YIjyig"
      },
      "outputs": [
        {
          "name": "stdout",
          "output_type": "stream",
          "text": [
            "Fitting 5 folds for each of 1 candidates, totalling 5 fits\n",
            "[LightGBM] [Warning] Found whitespace in feature_names, replace with underlines\n",
            "[LightGBM] [Info] Auto-choosing row-wise multi-threading, the overhead of testing was 0.192540 seconds.\n",
            "You can set `force_row_wise=true` to remove the overhead.\n",
            "And if memory is not enough, you can set `force_col_wise=true`.\n",
            "[LightGBM] [Info] Total Bins 2167\n",
            "[LightGBM] [Info] Number of data points in the train set: 13255580, number of used features: 10\n",
            "[LightGBM] [Info] Start training from score -1.609438\n",
            "[LightGBM] [Info] Start training from score -1.609438\n",
            "[LightGBM] [Info] Start training from score -1.609438\n",
            "[LightGBM] [Info] Start training from score -1.609438\n",
            "[LightGBM] [Info] Start training from score -1.609438\n",
            "[LightGBM] [Warning] No further splits with positive gain, best gain: -inf\n",
            "[LightGBM] [Warning] No further splits with positive gain, best gain: -inf\n",
            "[LightGBM] [Warning] No further splits with positive gain, best gain: -inf\n",
            "[LightGBM] [Warning] No further splits with positive gain, best gain: -inf\n",
            "[LightGBM] [Warning] No further splits with positive gain, best gain: -inf\n",
            "[LightGBM] [Warning] No further splits with positive gain, best gain: -inf\n",
            "[LightGBM] [Warning] No further splits with positive gain, best gain: -inf\n",
            "[LightGBM] [Warning] No further splits with positive gain, best gain: -inf\n",
            "[LightGBM] [Warning] No further splits with positive gain, best gain: -inf\n",
            "[LightGBM] [Warning] No further splits with positive gain, best gain: -inf\n",
            "[LightGBM] [Warning] No further splits with positive gain, best gain: -inf\n",
            "[LightGBM] [Warning] No further splits with positive gain, best gain: -inf\n",
            "[LightGBM] [Warning] No further splits with positive gain, best gain: -inf\n",
            "[LightGBM] [Warning] No further splits with positive gain, best gain: -inf\n",
            "[LightGBM] [Warning] No further splits with positive gain, best gain: -inf\n",
            "[LightGBM] [Warning] No further splits with positive gain, best gain: -inf\n",
            "[LightGBM] [Warning] No further splits with positive gain, best gain: -inf\n",
            "[LightGBM] [Warning] No further splits with positive gain, best gain: -inf\n",
            "[LightGBM] [Warning] No further splits with positive gain, best gain: -inf\n",
            "[LightGBM] [Warning] No further splits with positive gain, best gain: -inf\n",
            "[LightGBM] [Warning] No further splits with positive gain, best gain: -inf\n",
            "[LightGBM] [Warning] No further splits with positive gain, best gain: -inf\n",
            "[LightGBM] [Warning] No further splits with positive gain, best gain: -inf\n",
            "[LightGBM] [Warning] No further splits with positive gain, best gain: -inf\n",
            "Best LGBM params: {'class_weight': 'balanced', 'colsample_bytree': 1.0, 'learning_rate': 0.1, 'min_child_samples': 56, 'n_estimators': 100, 'num_leaves': 108, 'subsample': 1.0}\n",
            "LGBM CV f1_macro: 0.9999937521928237\n",
            "                    precision    recall  f1-score   support\n",
            "\n",
            "               DoS       1.00      1.00      1.00    117504\n",
            "             Fuzzy       1.00      1.00      1.00     98369\n",
            "Impersonation_gear       1.00      1.00      1.00    119451\n",
            " Impersonation_rpm       1.00      1.00      1.00    130979\n",
            "            Normal       1.00      1.00      1.00   2847592\n",
            "\n",
            "          accuracy                           1.00   3313895\n",
            "         macro avg       1.00      1.00      1.00   3313895\n",
            "      weighted avg       1.00      1.00      1.00   3313895\n",
            "\n"
          ]
        }
      ],
      "source": [
        "import lightgbm as lgb\n",
        "from sklearn.model_selection import StratifiedKFold\n",
        "from sklearn.model_selection import RandomizedSearchCV\n",
        "from scipy.stats import randint\n",
        "\n",
        "\n",
        "# 1. Define search space\n",
        "lgb_param_dist = {\n",
        "    'num_leaves': randint(16, 128),\n",
        "    'learning_rate': [ 0.1],   #//0.1    [0.01, 0.05, 0.1],  \n",
        "    'n_estimators': [100],     #//100    randint(50, 500)\n",
        "    'min_child_samples': randint(5, 100),\n",
        "    'subsample': [0.6, 0.8, 1.0],\n",
        "    'colsample_bytree': [0.6, 0.8, 1.0],\n",
        "    'class_weight': ['balanced']\n",
        "}\n",
        "\n",
        "\n",
        "\n",
        "# 2. Instantiate model & CV strategy\n",
        "lgbm = lgb.LGBMClassifier(\n",
        "    objective='multiclass',\n",
        "    num_class=len(label_encoder.classes_),\n",
        "    random_state=42,\n",
        "    n_jobs=2\n",
        ")\n",
        "cv = StratifiedKFold(n_splits=5, shuffle=True, random_state=42)\n",
        "#    → Stratified folds preserve class balance for each CV split\n",
        "\n",
        "# 3. Randomized search\n",
        "rs_lgbm = RandomizedSearchCV(\n",
        "    estimator=lgbm,\n",
        "    param_distributions=lgb_param_dist,\n",
        "    n_iter=1,                         # Try 40 random combos\n",
        "    scoring='f1_macro',                # Macro‐F1 treats all classes equally\n",
        "    cv=cv,\n",
        "    verbose=2,\n",
        "    n_jobs=2,\n",
        "    random_state=42,\n",
        "    force_col_wise=True\n",
        ")\n",
        "rs_lgbm.fit(X_train, y_train)\n",
        "\n",
        "print(\"Best LGBM params:\", rs_lgbm.best_params_)\n",
        "print(\"LGBM CV f1_macro:\", rs_lgbm.best_score_)\n",
        "\n",
        "# 4. Final train & evaluate\n",
        "best_lgbm = rs_lgbm.best_estimator_\n",
        "y_pred_lgbm = best_lgbm.predict(X_test)\n",
        "print(classification_report(y_test, y_pred_lgbm, target_names=label_encoder.classes_))"
      ]
    },
    {
      "cell_type": "markdown",
      "metadata": {
        "id": "tBZC1F4Ss9lY"
      },
      "source": [
        "# ** 1D-CNN with Keras-Tuner**"
      ]
    },
    {
      "cell_type": "code",
      "execution_count": 6,
      "metadata": {},
      "outputs": [],
      "source": [
        "from sklearn.preprocessing import StandardScaler\n",
        "import numpy as np\n",
        "from sklearn.utils import class_weight\n",
        "# 4. Scale features for DL (tree-based models are scale-invariant so raw X is OK)\n",
        "scaler = StandardScaler().fit(X_train)\n",
        "X_train_scaled = scaler.transform(X_train)\n",
        "X_test_scaled  = scaler.transform(X_test)\n",
        "\n",
        "# 5. Compute class weights once (used by CNN/DNN)\n",
        "cw_vals = class_weight.compute_class_weight(\n",
        "    'balanced',\n",
        "    classes=np.unique(y_train),\n",
        "    y=y_train\n",
        ")\n",
        "class_weights = dict(enumerate(cw_vals))"
      ]
    },
    {
      "cell_type": "code",
      "execution_count": 6,
      "metadata": {},
      "outputs": [
        {
          "name": "stderr",
          "output_type": "stream",
          "text": [
            "Access is denied.\n"
          ]
        }
      ],
      "source": [
        "!pip install tensorflow"
      ]
    },
    {
      "cell_type": "code",
      "execution_count": 11,
      "metadata": {
        "id": "GW0xufRtvAXJ"
      },
      "outputs": [
        {
          "name": "stdout",
          "output_type": "stream",
          "text": [
            "Reloading Tuner from cnn_tuning\\can_cnn\\tuner0.json\n"
          ]
        },
        {
          "name": "stderr",
          "output_type": "stream",
          "text": [
            "c:\\Users\\kiran\\Desktop\\os el\\myvenv\\Lib\\site-packages\\keras\\src\\layers\\convolutional\\base_conv.py:107: UserWarning: Do not pass an `input_shape`/`input_dim` argument to a layer. When using Sequential models, prefer using an `Input(shape)` object as the first layer in the model instead.\n",
            "  super().__init__(activity_regularizer=activity_regularizer, **kwargs)\n",
            "c:\\Users\\kiran\\Desktop\\os el\\myvenv\\Lib\\site-packages\\keras\\src\\saving\\saving_lib.py:757: UserWarning: Skipping variable loading for optimizer 'adam', because it has 2 variables whereas the saved optimizer has 18 variables. \n",
            "  saveable.load_own_variables(weights_store.get(inner_path))\n"
          ]
        },
        {
          "name": "stdout",
          "output_type": "stream",
          "text": [
            "\u001b[1m103560/103560\u001b[0m \u001b[32m━━━━━━━━━━━━━━━━━━━━\u001b[0m\u001b[37m\u001b[0m \u001b[1m119s\u001b[0m 1ms/step\n",
            "                    precision    recall  f1-score   support\n",
            "\n",
            "               DoS       0.94      1.00      0.97    117504\n",
            "             Fuzzy       0.98      0.90      0.94     98369\n",
            "Impersonation_gear       0.86      1.00      0.93    119451\n",
            " Impersonation_rpm       1.00      1.00      1.00    130979\n",
            "            Normal       1.00      0.99      0.99   2847592\n",
            "\n",
            "          accuracy                           0.99   3313895\n",
            "         macro avg       0.95      0.98      0.96   3313895\n",
            "      weighted avg       0.99      0.99      0.99   3313895\n",
            "\n"
          ]
        }
      ],
      "source": [
        "import numpy as np\n",
        "import keras_tuner as kt\n",
        "from tensorflow.keras import Sequential\n",
        "from tensorflow.keras.layers import Conv1D, MaxPooling1D, Flatten, Dense, Dropout\n",
        "from tensorflow.keras.callbacks import EarlyStopping\n",
        "from tensorflow.keras.utils import to_categorical\n",
        "from sklearn.metrics import classification_report\n",
        "from tensorflow.keras.optimizers import Adam\n",
        "\n",
        "\n",
        "# ─── 1. Prepare your data (assumes X_train_scaled, X_test_scaled, y_train, y_test, label_encoder exist) ───\n",
        "# Add the “channel” dimension for Conv1D:\n",
        "X_tr_cnn = X_train_scaled.reshape(-1, X_train_scaled.shape[1], 1)\n",
        "X_te_cnn = X_test_scaled .reshape(-1, X_test_scaled .shape[1], 1)\n",
        "\n",
        "# One-hot encode labels for training:\n",
        "num_classes = len(label_encoder.classes_)\n",
        "y_tr_cat   = to_categorical(y_train, num_classes)\n",
        "# Note: at prediction time we’ll compare argmax back to y_test (which is integer-encoded)\n",
        "\n",
        "# If you have class imbalance, compute class_weights dict here:\n",
        "from sklearn.utils.class_weight import compute_class_weight\n",
        "class_weights = dict(\n",
        "    zip(np.unique(y_train),\n",
        "        compute_class_weight('balanced', classes=np.unique(y_train), y=y_train))\n",
        ")\n",
        "\n",
        "# ─── 2. Model‐builder for Keras-Tuner ─────────────────────────────────────────────────────────────────────\n",
        "def build_cnn(hp):\n",
        "    seq_len = X_tr_cnn.shape[1]\n",
        "    m = Sequential()\n",
        "    # First Conv + Safe Pooling\n",
        "    m.add(Conv1D(\n",
        "        filters=hp.Choice('f1', [32, 64, 128]),\n",
        "        kernel_size=hp.Choice('k1', [3, 5]),\n",
        "        activation='relu',\n",
        "        input_shape=(seq_len, 1)\n",
        "    ))\n",
        "    m.add(MaxPooling1D(pool_size=2, padding='same'))\n",
        "    # Second Conv + Safe Pooling\n",
        "    m.add(Conv1D(\n",
        "        filters=hp.Choice('f2', [64, 128]),\n",
        "        kernel_size=3,\n",
        "        activation='relu'\n",
        "    ))\n",
        "    m.add(MaxPooling1D(pool_size=2, padding='same'))\n",
        "\n",
        "    m.add(Flatten())\n",
        "    m.add(Dense(\n",
        "        units=hp.Int('dense_units', 64, 256, step=64),\n",
        "        activation='relu'\n",
        "    ))\n",
        "    m.add(Dropout(rate=hp.Float('dropout', 0.3, 0.7, step=0.2)))\n",
        "    m.add(Dense(num_classes, activation='softmax'))\n",
        "\n",
        "    m.compile(\n",
        "        optimizer=Adam(), \n",
        "        loss='categorical_crossentropy', \n",
        "        metrics=['accuracy']\n",
        "    )\n",
        "    return m\n",
        "\n",
        "# ─── 3. Instantiate Hyperband tuner ─────────────────────────────────────────────────────────────────────\n",
        "tuner = kt.Hyperband(\n",
        "    build_cnn,\n",
        "    objective='val_accuracy',\n",
        "    max_epochs=30,\n",
        "    factor=3,\n",
        "    directory='cnn_tuning',\n",
        "    project_name='can_cnn',\n",
        "    max_consecutive_failed_trials=10   # allow more bad builds\n",
        ")\n",
        "\n",
        "# ─── 4. Run the search with early stopping ─────────────────────────────────────────────────────────────\n",
        "es = EarlyStopping(monitor='val_loss', patience=5, restore_best_weights=True)\n",
        "tuner.search(\n",
        "    X_tr_cnn,\n",
        "    y_tr_cat,\n",
        "    epochs=50,\n",
        "    validation_split=0.1,\n",
        "    #class_weight=class_weights,   # uncomment if you computed class_weights\n",
        "    callbacks=[es],\n",
        "    verbose=2\n",
        ")\n",
        "\n",
        "# ─── 5. Retrieve the best model & evaluate ──────────────────────────────────────────────────────────────\n",
        "best_cnn = tuner.get_best_models(1)[0]\n",
        "\n",
        "# Predict & decode back to integer labels\n",
        "y_pred_proba = best_cnn.predict(X_te_cnn)\n",
        "y_pred       = np.argmax(y_pred_proba, axis=1)\n",
        "print(classification_report(y_test, y_pred, target_names=label_encoder.classes_))\n"
      ]
    },
    {
      "cell_type": "markdown",
      "metadata": {
        "id": "oUNq7BfjtPcf"
      },
      "source": [
        "# **Fully-Connected DNN **"
      ]
    },
    {
      "cell_type": "code",
      "execution_count": 8,
      "metadata": {},
      "outputs": [
        {
          "name": "stdout",
          "output_type": "stream",
          "text": [
            "Reloading Tuner from dnn_tuning\\dnn_project\\tuner0.json\n",
            "WARNING:tensorflow:From c:\\Users\\kiran\\Desktop\\os el\\myvenv\\Lib\\site-packages\\keras\\src\\backend\\common\\global_state.py:82: The name tf.reset_default_graph is deprecated. Please use tf.compat.v1.reset_default_graph instead.\n",
            "\n"
          ]
        },
        {
          "name": "stderr",
          "output_type": "stream",
          "text": [
            "c:\\Users\\kiran\\Desktop\\os el\\myvenv\\Lib\\site-packages\\keras\\src\\layers\\core\\dense.py:87: UserWarning: Do not pass an `input_shape`/`input_dim` argument to a layer. When using Sequential models, prefer using an `Input(shape)` object as the first layer in the model instead.\n",
            "  super().__init__(activity_regularizer=activity_regularizer, **kwargs)\n",
            "c:\\Users\\kiran\\Desktop\\os el\\myvenv\\Lib\\site-packages\\keras\\src\\saving\\saving_lib.py:757: UserWarning: Skipping variable loading for optimizer 'adam', because it has 2 variables whereas the saved optimizer has 14 variables. \n",
            "  saveable.load_own_variables(weights_store.get(inner_path))\n"
          ]
        },
        {
          "name": "stdout",
          "output_type": "stream",
          "text": [
            "\u001b[1m 75414/103560\u001b[0m \u001b[32m━━━━━━━━━━━━━━\u001b[0m\u001b[37m━━━━━━\u001b[0m \u001b[1m33s\u001b[0m 1ms/step"
          ]
        },
        {
          "ename": "KeyboardInterrupt",
          "evalue": "",
          "output_type": "error",
          "traceback": [
            "\u001b[31m---------------------------------------------------------------------------\u001b[39m",
            "\u001b[31mKeyboardInterrupt\u001b[39m                         Traceback (most recent call last)",
            "\u001b[36mCell\u001b[39m\u001b[36m \u001b[39m\u001b[32mIn[8]\u001b[39m\u001b[32m, line 71\u001b[39m\n\u001b[32m     68\u001b[39m \u001b[38;5;66;03m# Get best model and evaluate\u001b[39;00m\n\u001b[32m     69\u001b[39m best_dnn = tuner.get_best_models(num_models=\u001b[32m1\u001b[39m)[\u001b[32m0\u001b[39m]\n\u001b[32m---> \u001b[39m\u001b[32m71\u001b[39m y_pred_prob = \u001b[43mbest_dnn\u001b[49m\u001b[43m.\u001b[49m\u001b[43mpredict\u001b[49m\u001b[43m(\u001b[49m\u001b[43mX_test_scaled\u001b[49m\u001b[43m)\u001b[49m\n\u001b[32m     72\u001b[39m y_pred = np.argmax(y_pred_prob, axis=\u001b[32m1\u001b[39m)\n\u001b[32m     74\u001b[39m \u001b[38;5;28;01mfrom\u001b[39;00m\u001b[38;5;250m \u001b[39m\u001b[34;01msklearn\u001b[39;00m\u001b[34;01m.\u001b[39;00m\u001b[34;01mmetrics\u001b[39;00m\u001b[38;5;250m \u001b[39m\u001b[38;5;28;01mimport\u001b[39;00m classification_report\n",
            "\u001b[36mFile \u001b[39m\u001b[32mc:\\Users\\kiran\\Desktop\\os el\\myvenv\\Lib\\site-packages\\keras\\src\\utils\\traceback_utils.py:117\u001b[39m, in \u001b[36mfilter_traceback.<locals>.error_handler\u001b[39m\u001b[34m(*args, **kwargs)\u001b[39m\n\u001b[32m    115\u001b[39m filtered_tb = \u001b[38;5;28;01mNone\u001b[39;00m\n\u001b[32m    116\u001b[39m \u001b[38;5;28;01mtry\u001b[39;00m:\n\u001b[32m--> \u001b[39m\u001b[32m117\u001b[39m     \u001b[38;5;28;01mreturn\u001b[39;00m \u001b[43mfn\u001b[49m\u001b[43m(\u001b[49m\u001b[43m*\u001b[49m\u001b[43margs\u001b[49m\u001b[43m,\u001b[49m\u001b[43m \u001b[49m\u001b[43m*\u001b[49m\u001b[43m*\u001b[49m\u001b[43mkwargs\u001b[49m\u001b[43m)\u001b[49m\n\u001b[32m    118\u001b[39m \u001b[38;5;28;01mexcept\u001b[39;00m \u001b[38;5;167;01mException\u001b[39;00m \u001b[38;5;28;01mas\u001b[39;00m e:\n\u001b[32m    119\u001b[39m     filtered_tb = _process_traceback_frames(e.__traceback__)\n",
            "\u001b[36mFile \u001b[39m\u001b[32mc:\\Users\\kiran\\Desktop\\os el\\myvenv\\Lib\\site-packages\\keras\\src\\backend\\tensorflow\\trainer.py:559\u001b[39m, in \u001b[36mTensorFlowTrainer.predict\u001b[39m\u001b[34m(self, x, batch_size, verbose, steps, callbacks)\u001b[39m\n\u001b[32m    557\u001b[39m \u001b[38;5;28;01mfor\u001b[39;00m step, iterator \u001b[38;5;129;01min\u001b[39;00m epoch_iterator:\n\u001b[32m    558\u001b[39m     callbacks.on_predict_batch_begin(step)\n\u001b[32m--> \u001b[39m\u001b[32m559\u001b[39m     data = \u001b[43mget_data\u001b[49m\u001b[43m(\u001b[49m\u001b[43miterator\u001b[49m\u001b[43m)\u001b[49m\n\u001b[32m    560\u001b[39m     batch_outputs = \u001b[38;5;28mself\u001b[39m.predict_function(data)\n\u001b[32m    561\u001b[39m     outputs = append_to_outputs(batch_outputs, outputs)\n",
            "\u001b[36mFile \u001b[39m\u001b[32mc:\\Users\\kiran\\Desktop\\os el\\myvenv\\Lib\\site-packages\\keras\\src\\backend\\tensorflow\\trainer.py:539\u001b[39m, in \u001b[36mTensorFlowTrainer.predict.<locals>.get_data\u001b[39m\u001b[34m(iterator)\u001b[39m\n\u001b[32m    537\u001b[39m \u001b[38;5;28;01mfor\u001b[39;00m _ \u001b[38;5;129;01min\u001b[39;00m \u001b[38;5;28mrange\u001b[39m(\u001b[38;5;28mself\u001b[39m.steps_per_execution):\n\u001b[32m    538\u001b[39m     \u001b[38;5;28;01mtry\u001b[39;00m:\n\u001b[32m--> \u001b[39m\u001b[32m539\u001b[39m         single_step_data = \u001b[38;5;28mnext\u001b[39m(iterator)\n\u001b[32m    540\u001b[39m     \u001b[38;5;28;01mexcept\u001b[39;00m (\u001b[38;5;167;01mStopIteration\u001b[39;00m, tf.errors.OutOfRangeError) \u001b[38;5;28;01mas\u001b[39;00m e:\n\u001b[32m    541\u001b[39m         \u001b[38;5;28;01mif\u001b[39;00m \u001b[38;5;28mhasattr\u001b[39m(data, \u001b[33m\"\u001b[39m\u001b[33m__len__\u001b[39m\u001b[33m\"\u001b[39m) \u001b[38;5;129;01mand\u001b[39;00m \u001b[38;5;28mlen\u001b[39m(data) > \u001b[32m0\u001b[39m:\n\u001b[32m    542\u001b[39m             \u001b[38;5;66;03m# Suppress the error when still have remaining data.\u001b[39;00m\n",
            "\u001b[36mFile \u001b[39m\u001b[32mc:\\Users\\kiran\\Desktop\\os el\\myvenv\\Lib\\site-packages\\tensorflow\\python\\data\\ops\\iterator_ops.py:826\u001b[39m, in \u001b[36mOwnedIterator.__next__\u001b[39m\u001b[34m(self)\u001b[39m\n\u001b[32m    824\u001b[39m \u001b[38;5;28;01mdef\u001b[39;00m\u001b[38;5;250m \u001b[39m\u001b[34m__next__\u001b[39m(\u001b[38;5;28mself\u001b[39m):\n\u001b[32m    825\u001b[39m   \u001b[38;5;28;01mtry\u001b[39;00m:\n\u001b[32m--> \u001b[39m\u001b[32m826\u001b[39m     \u001b[38;5;28;01mreturn\u001b[39;00m \u001b[38;5;28;43mself\u001b[39;49m\u001b[43m.\u001b[49m\u001b[43m_next_internal\u001b[49m\u001b[43m(\u001b[49m\u001b[43m)\u001b[49m\n\u001b[32m    827\u001b[39m   \u001b[38;5;28;01mexcept\u001b[39;00m errors.OutOfRangeError:\n\u001b[32m    828\u001b[39m     \u001b[38;5;28;01mraise\u001b[39;00m \u001b[38;5;167;01mStopIteration\u001b[39;00m\n",
            "\u001b[36mFile \u001b[39m\u001b[32mc:\\Users\\kiran\\Desktop\\os el\\myvenv\\Lib\\site-packages\\tensorflow\\python\\data\\ops\\iterator_ops.py:776\u001b[39m, in \u001b[36mOwnedIterator._next_internal\u001b[39m\u001b[34m(self)\u001b[39m\n\u001b[32m    773\u001b[39m \u001b[38;5;66;03m# TODO(b/77291417): This runs in sync mode as iterators use an error status\u001b[39;00m\n\u001b[32m    774\u001b[39m \u001b[38;5;66;03m# to communicate that there is no more data to iterate over.\u001b[39;00m\n\u001b[32m    775\u001b[39m \u001b[38;5;28;01mwith\u001b[39;00m context.execution_mode(context.SYNC):\n\u001b[32m--> \u001b[39m\u001b[32m776\u001b[39m   ret = \u001b[43mgen_dataset_ops\u001b[49m\u001b[43m.\u001b[49m\u001b[43miterator_get_next\u001b[49m\u001b[43m(\u001b[49m\n\u001b[32m    777\u001b[39m \u001b[43m      \u001b[49m\u001b[38;5;28;43mself\u001b[39;49m\u001b[43m.\u001b[49m\u001b[43m_iterator_resource\u001b[49m\u001b[43m,\u001b[49m\n\u001b[32m    778\u001b[39m \u001b[43m      \u001b[49m\u001b[43moutput_types\u001b[49m\u001b[43m=\u001b[49m\u001b[38;5;28;43mself\u001b[39;49m\u001b[43m.\u001b[49m\u001b[43m_flat_output_types\u001b[49m\u001b[43m,\u001b[49m\n\u001b[32m    779\u001b[39m \u001b[43m      \u001b[49m\u001b[43moutput_shapes\u001b[49m\u001b[43m=\u001b[49m\u001b[38;5;28;43mself\u001b[39;49m\u001b[43m.\u001b[49m\u001b[43m_flat_output_shapes\u001b[49m\u001b[43m)\u001b[49m\n\u001b[32m    781\u001b[39m   \u001b[38;5;28;01mtry\u001b[39;00m:\n\u001b[32m    782\u001b[39m     \u001b[38;5;66;03m# Fast path for the case `self._structure` is not a nested structure.\u001b[39;00m\n\u001b[32m    783\u001b[39m     \u001b[38;5;28;01mreturn\u001b[39;00m \u001b[38;5;28mself\u001b[39m._element_spec._from_compatible_tensor_list(ret)  \u001b[38;5;66;03m# pylint: disable=protected-access\u001b[39;00m\n",
            "\u001b[36mFile \u001b[39m\u001b[32mc:\\Users\\kiran\\Desktop\\os el\\myvenv\\Lib\\site-packages\\tensorflow\\python\\ops\\gen_dataset_ops.py:3081\u001b[39m, in \u001b[36miterator_get_next\u001b[39m\u001b[34m(iterator, output_types, output_shapes, name)\u001b[39m\n\u001b[32m   3079\u001b[39m \u001b[38;5;28;01mif\u001b[39;00m tld.is_eager:\n\u001b[32m   3080\u001b[39m   \u001b[38;5;28;01mtry\u001b[39;00m:\n\u001b[32m-> \u001b[39m\u001b[32m3081\u001b[39m     _result = \u001b[43mpywrap_tfe\u001b[49m\u001b[43m.\u001b[49m\u001b[43mTFE_Py_FastPathExecute\u001b[49m\u001b[43m(\u001b[49m\n\u001b[32m   3082\u001b[39m \u001b[43m      \u001b[49m\u001b[43m_ctx\u001b[49m\u001b[43m,\u001b[49m\u001b[43m \u001b[49m\u001b[33;43m\"\u001b[39;49m\u001b[33;43mIteratorGetNext\u001b[39;49m\u001b[33;43m\"\u001b[39;49m\u001b[43m,\u001b[49m\u001b[43m \u001b[49m\u001b[43mname\u001b[49m\u001b[43m,\u001b[49m\u001b[43m \u001b[49m\u001b[43miterator\u001b[49m\u001b[43m,\u001b[49m\u001b[43m \u001b[49m\u001b[33;43m\"\u001b[39;49m\u001b[33;43moutput_types\u001b[39;49m\u001b[33;43m\"\u001b[39;49m\u001b[43m,\u001b[49m\u001b[43m \u001b[49m\u001b[43moutput_types\u001b[49m\u001b[43m,\u001b[49m\n\u001b[32m   3083\u001b[39m \u001b[43m      \u001b[49m\u001b[33;43m\"\u001b[39;49m\u001b[33;43moutput_shapes\u001b[39;49m\u001b[33;43m\"\u001b[39;49m\u001b[43m,\u001b[49m\u001b[43m \u001b[49m\u001b[43moutput_shapes\u001b[49m\u001b[43m)\u001b[49m\n\u001b[32m   3084\u001b[39m     \u001b[38;5;28;01mreturn\u001b[39;00m _result\n\u001b[32m   3085\u001b[39m   \u001b[38;5;28;01mexcept\u001b[39;00m _core._NotOkStatusException \u001b[38;5;28;01mas\u001b[39;00m e:\n",
            "\u001b[31mKeyboardInterrupt\u001b[39m: "
          ]
        }
      ],
      "source": [
        "import numpy as np\n",
        "from tensorflow.keras.models import Sequential\n",
        "from tensorflow.keras.layers import Dense, Dropout\n",
        "from tensorflow.keras.optimizers import Adam\n",
        "from tensorflow.keras.utils import to_categorical\n",
        "from tensorflow.keras.callbacks import EarlyStopping\n",
        "import keras_tuner as kt\n",
        "\n",
        "# Assume these already exist from your preprocessing step:\n",
        "# X_train_scaled, X_test_scaled, y_train, y_test, class_weights, num_classes\n",
        "num_classes = len(np.unique(y_train))\n",
        "\n",
        "# If y_train is integer encoded, convert to categorical for multi-class classification\n",
        "y_train_cat = to_categorical(y_train, num_classes)\n",
        "\n",
        "input_dim = X_train_scaled.shape[1]\n",
        "\n",
        "def build_dnn(hp):\n",
        "    model = Sequential()\n",
        "    model.add(Dense(\n",
        "        units=hp.Int('units', min_value=32, max_value=256, step=32),\n",
        "        activation='relu',\n",
        "        input_shape=(input_dim,)\n",
        "    ))\n",
        "    model.add(Dropout(rate=hp.Float('dropout', 0.2, 0.6, step=0.1)))\n",
        "    \n",
        "    # Optionally add a second dense layer\n",
        "    if hp.Boolean(\"second_layer\"):\n",
        "        model.add(Dense(\n",
        "            units=hp.Int('units_2', min_value=32, max_value=128, step=32),\n",
        "            activation='relu'\n",
        "        ))\n",
        "        model.add(Dropout(rate=hp.Float('dropout_2', 0.2, 0.6, step=0.1)))\n",
        "\n",
        "    model.add(Dense(num_classes, activation='softmax'))\n",
        "\n",
        "    model.compile(\n",
        "        optimizer=Adam(learning_rate=hp.Choice('lr', [1e-2, 1e-3, 1e-4])),\n",
        "        loss='categorical_crossentropy',\n",
        "        metrics=['accuracy']\n",
        "    )\n",
        "    return model\n",
        "\n",
        "# Instantiate the tuner\n",
        "tuner = kt.Hyperband(\n",
        "    build_dnn,\n",
        "    objective='val_accuracy',\n",
        "    max_epochs=50,\n",
        "    factor=3,\n",
        "    directory='dnn_tuning',\n",
        "    project_name='dnn_project'\n",
        ")\n",
        "\n",
        "# Early stopping callback\n",
        "es = EarlyStopping(monitor='val_loss', patience=5, restore_best_weights=True)\n",
        "\n",
        "# Run the tuner search using the scaled data and class weights\n",
        "tuner.search(\n",
        "    X_train_scaled,\n",
        "    y_train_cat,\n",
        "    epochs=50,\n",
        "    validation_split=0.2,\n",
        "    class_weight=class_weights,\n",
        "    callbacks=[es],\n",
        "    verbose=2\n",
        ")\n",
        "\n",
        "# Get best model and evaluate\n",
        "best_dnn = tuner.get_best_models(num_models=1)[0]\n",
        "\n",
        "y_pred_prob = best_dnn.predict(X_test_scaled)\n",
        "y_pred = np.argmax(y_pred_prob, axis=1)\n",
        "\n",
        "from sklearn.metrics import classification_report\n",
        "print(classification_report(y_test, y_pred, target_names=label_encoder.classes_))\n",
        "\n"
      ]
    },
    {
      "cell_type": "code",
      "execution_count": 32,
      "metadata": {},
      "outputs": [
        {
          "name": "stdout",
          "output_type": "stream",
          "text": [
            "Collecting matplotlib\n",
            "  Downloading matplotlib-3.10.3-cp311-cp311-win_amd64.whl.metadata (11 kB)\n",
            "Collecting contourpy>=1.0.1 (from matplotlib)\n",
            "  Downloading contourpy-1.3.2-cp311-cp311-win_amd64.whl.metadata (5.5 kB)\n",
            "Collecting cycler>=0.10 (from matplotlib)\n",
            "  Using cached cycler-0.12.1-py3-none-any.whl.metadata (3.8 kB)\n",
            "Collecting fonttools>=4.22.0 (from matplotlib)\n",
            "  Downloading fonttools-4.58.0-cp311-cp311-win_amd64.whl.metadata (106 kB)\n",
            "     ---------------------------------------- 0.0/106.6 kB ? eta -:--:--\n",
            "     ------- -------------------------------- 20.5/106.6 kB ? eta -:--:--\n",
            "     ------------------------ ------------ 71.7/106.6 kB 975.2 kB/s eta 0:00:01\n",
            "     ------------------------------------ 106.6/106.6 kB 875.8 kB/s eta 0:00:00\n",
            "Collecting kiwisolver>=1.3.1 (from matplotlib)\n",
            "  Using cached kiwisolver-1.4.8-cp311-cp311-win_amd64.whl.metadata (6.3 kB)\n",
            "Requirement already satisfied: numpy>=1.23 in c:\\users\\kiran\\desktop\\os el\\myvenv\\lib\\site-packages (from matplotlib) (1.26.4)\n",
            "Requirement already satisfied: packaging>=20.0 in c:\\users\\kiran\\desktop\\os el\\myvenv\\lib\\site-packages (from matplotlib) (25.0)\n",
            "Collecting pillow>=8 (from matplotlib)\n",
            "  Downloading pillow-11.2.1-cp311-cp311-win_amd64.whl.metadata (9.1 kB)\n",
            "Collecting pyparsing>=2.3.1 (from matplotlib)\n",
            "  Downloading pyparsing-3.2.3-py3-none-any.whl.metadata (5.0 kB)\n",
            "Requirement already satisfied: python-dateutil>=2.7 in c:\\users\\kiran\\desktop\\os el\\myvenv\\lib\\site-packages (from matplotlib) (2.9.0.post0)\n",
            "Requirement already satisfied: six>=1.5 in c:\\users\\kiran\\desktop\\os el\\myvenv\\lib\\site-packages (from python-dateutil>=2.7->matplotlib) (1.17.0)\n",
            "Downloading matplotlib-3.10.3-cp311-cp311-win_amd64.whl (8.1 MB)\n",
            "   ---------------------------------------- 0.0/8.1 MB ? eta -:--:--\n",
            "    --------------------------------------- 0.1/8.1 MB 3.5 MB/s eta 0:00:03\n",
            "   - -------------------------------------- 0.2/8.1 MB 2.2 MB/s eta 0:00:04\n",
            "   - -------------------------------------- 0.4/8.1 MB 2.5 MB/s eta 0:00:04\n",
            "   -- ------------------------------------- 0.5/8.1 MB 2.7 MB/s eta 0:00:03\n",
            "   -- ------------------------------------- 0.5/8.1 MB 2.6 MB/s eta 0:00:03\n",
            "   --- ------------------------------------ 0.7/8.1 MB 2.8 MB/s eta 0:00:03\n",
            "   --- ------------------------------------ 0.8/8.1 MB 2.5 MB/s eta 0:00:03\n",
            "   ---- ----------------------------------- 0.9/8.1 MB 2.6 MB/s eta 0:00:03\n",
            "   ----- ---------------------------------- 1.0/8.1 MB 2.6 MB/s eta 0:00:03\n",
            "   ----- ---------------------------------- 1.1/8.1 MB 2.6 MB/s eta 0:00:03\n",
            "   ------ --------------------------------- 1.3/8.1 MB 2.7 MB/s eta 0:00:03\n",
            "   ------- -------------------------------- 1.5/8.1 MB 2.8 MB/s eta 0:00:03\n",
            "   -------- ------------------------------- 1.7/8.1 MB 2.8 MB/s eta 0:00:03\n",
            "   --------- ------------------------------ 1.8/8.1 MB 2.9 MB/s eta 0:00:03\n",
            "   ---------- ----------------------------- 2.0/8.1 MB 2.9 MB/s eta 0:00:03\n",
            "   ----------- ---------------------------- 2.2/8.1 MB 3.0 MB/s eta 0:00:02\n",
            "   ------------ --------------------------- 2.4/8.1 MB 3.1 MB/s eta 0:00:02\n",
            "   ------------ --------------------------- 2.6/8.1 MB 3.1 MB/s eta 0:00:02\n",
            "   -------------- ------------------------- 2.8/8.1 MB 3.2 MB/s eta 0:00:02\n",
            "   -------------- ------------------------- 3.0/8.1 MB 3.2 MB/s eta 0:00:02\n",
            "   --------------- ------------------------ 3.2/8.1 MB 3.2 MB/s eta 0:00:02\n",
            "   ---------------- ----------------------- 3.3/8.1 MB 3.2 MB/s eta 0:00:02\n",
            "   ----------------- ---------------------- 3.6/8.1 MB 3.3 MB/s eta 0:00:02\n",
            "   ------------------ --------------------- 3.8/8.1 MB 3.3 MB/s eta 0:00:02\n",
            "   -------------------- ------------------- 4.1/8.1 MB 3.5 MB/s eta 0:00:02\n",
            "   -------------------- ------------------- 4.2/8.1 MB 3.4 MB/s eta 0:00:02\n",
            "   ---------------------- ----------------- 4.5/8.1 MB 3.5 MB/s eta 0:00:02\n",
            "   ----------------------- ---------------- 4.7/8.1 MB 3.6 MB/s eta 0:00:01\n",
            "   ------------------------ --------------- 5.0/8.1 MB 3.6 MB/s eta 0:00:01\n",
            "   -------------------------- ------------- 5.4/8.1 MB 3.8 MB/s eta 0:00:01\n",
            "   --------------------------- ------------ 5.5/8.1 MB 3.8 MB/s eta 0:00:01\n",
            "   ---------------------------- ----------- 5.8/8.1 MB 3.8 MB/s eta 0:00:01\n",
            "   ---------------------------- ----------- 5.8/8.1 MB 3.7 MB/s eta 0:00:01\n",
            "   ----------------------------- ---------- 5.9/8.1 MB 3.6 MB/s eta 0:00:01\n",
            "   ------------------------------ --------- 6.1/8.1 MB 3.7 MB/s eta 0:00:01\n",
            "   ------------------------------- -------- 6.4/8.1 MB 3.7 MB/s eta 0:00:01\n",
            "   --------------------------------- ------ 6.7/8.1 MB 3.8 MB/s eta 0:00:01\n",
            "   ---------------------------------- ----- 6.9/8.1 MB 3.8 MB/s eta 0:00:01\n",
            "   ----------------------------------- ---- 7.2/8.1 MB 3.9 MB/s eta 0:00:01\n",
            "   ------------------------------------ --- 7.4/8.1 MB 3.9 MB/s eta 0:00:01\n",
            "   -------------------------------------- - 7.7/8.1 MB 4.0 MB/s eta 0:00:01\n",
            "   -------------------------------------- - 7.7/8.1 MB 3.9 MB/s eta 0:00:01\n",
            "   ---------------------------------------  8.0/8.1 MB 3.9 MB/s eta 0:00:01\n",
            "   ---------------------------------------- 8.1/8.1 MB 3.9 MB/s eta 0:00:00\n",
            "Downloading contourpy-1.3.2-cp311-cp311-win_amd64.whl (222 kB)\n",
            "   ---------------------------------------- 0.0/222.0 kB ? eta -:--:--\n",
            "   ------------------------------------ --- 204.8/222.0 kB 6.3 MB/s eta 0:00:01\n",
            "   ---------------------------------------- 222.0/222.0 kB 3.4 MB/s eta 0:00:00\n",
            "Using cached cycler-0.12.1-py3-none-any.whl (8.3 kB)\n",
            "Downloading fonttools-4.58.0-cp311-cp311-win_amd64.whl (2.2 MB)\n",
            "   ---------------------------------------- 0.0/2.2 MB ? eta -:--:--\n",
            "   ---- ----------------------------------- 0.3/2.2 MB 7.9 MB/s eta 0:00:01\n",
            "   ---------- ----------------------------- 0.6/2.2 MB 7.2 MB/s eta 0:00:01\n",
            "   ----------- ---------------------------- 0.7/2.2 MB 8.3 MB/s eta 0:00:01\n",
            "   --------------- ------------------------ 0.8/2.2 MB 5.4 MB/s eta 0:00:01\n",
            "   --------------------- ------------------ 1.2/2.2 MB 5.8 MB/s eta 0:00:01\n",
            "   --------------------------- ------------ 1.5/2.2 MB 5.7 MB/s eta 0:00:01\n",
            "   --------------------------------- ------ 1.9/2.2 MB 6.2 MB/s eta 0:00:01\n",
            "   ---------------------------------------  2.2/2.2 MB 6.1 MB/s eta 0:00:01\n",
            "   ---------------------------------------- 2.2/2.2 MB 5.9 MB/s eta 0:00:00\n",
            "Using cached kiwisolver-1.4.8-cp311-cp311-win_amd64.whl (71 kB)\n",
            "Downloading pillow-11.2.1-cp311-cp311-win_amd64.whl (2.7 MB)\n",
            "   ---------------------------------------- 0.0/2.7 MB ? eta -:--:--\n",
            "   - -------------------------------------- 0.1/2.7 MB 3.5 MB/s eta 0:00:01\n",
            "   ------ --------------------------------- 0.4/2.7 MB 5.3 MB/s eta 0:00:01\n",
            "   --------- ------------------------------ 0.6/2.7 MB 6.4 MB/s eta 0:00:01\n",
            "   ----------- ---------------------------- 0.8/2.7 MB 4.5 MB/s eta 0:00:01\n",
            "   -------------- ------------------------- 1.0/2.7 MB 4.5 MB/s eta 0:00:01\n",
            "   ------------------- -------------------- 1.3/2.7 MB 4.6 MB/s eta 0:00:01\n",
            "   ------------------------ --------------- 1.6/2.7 MB 5.1 MB/s eta 0:00:01\n",
            "   ---------------------------- ----------- 1.9/2.7 MB 5.3 MB/s eta 0:00:01\n",
            "   --------------------------------- ------ 2.3/2.7 MB 5.6 MB/s eta 0:00:01\n",
            "   ---------------------------------------  2.6/2.7 MB 5.6 MB/s eta 0:00:01\n",
            "   ---------------------------------------- 2.7/2.7 MB 5.3 MB/s eta 0:00:00\n",
            "Downloading pyparsing-3.2.3-py3-none-any.whl (111 kB)\n",
            "   ---------------------------------------- 0.0/111.1 kB ? eta -:--:--\n",
            "   --------------------------------- ------ 92.2/111.1 kB 2.6 MB/s eta 0:00:01\n",
            "   ---------------------------------------- 111.1/111.1 kB 1.6 MB/s eta 0:00:00\n",
            "Installing collected packages: pyparsing, pillow, kiwisolver, fonttools, cycler, contourpy, matplotlib\n",
            "Successfully installed contourpy-1.3.2 cycler-0.12.1 fonttools-4.58.0 kiwisolver-1.4.8 matplotlib-3.10.3 pillow-11.2.1 pyparsing-3.2.3\n"
          ]
        },
        {
          "name": "stderr",
          "output_type": "stream",
          "text": [
            "\n",
            "[notice] A new release of pip is available: 24.0 -> 25.1.1\n",
            "[notice] To update, run: python.exe -m pip install --upgrade pip\n"
          ]
        }
      ],
      "source": [
        "!pip install matplotlib\n"
      ]
    },
    {
      "cell_type": "code",
      "execution_count": 33,
      "metadata": {},
      "outputs": [
        {
          "name": "stdout",
          "output_type": "stream",
          "text": [
            "Trial 40 Complete [00h 48m 30s]\n",
            "val_accuracy: 0.9997835159301758\n",
            "\n",
            "Best val_accuracy So Far: 0.9999110102653503\n",
            "Total elapsed time: 21h 36m 08s\n",
            "\n",
            "Search: Running Trial #41\n",
            "\n",
            "Value             |Best Value So Far |Hyperparameter\n",
            "2                 |3                 |num_layers\n",
            "224               |64                |units_0\n",
            "0.4               |0.2               |dropout_0\n",
            "nadam             |nadam             |optimizer\n",
            "0.0001            |0.0001            |lr\n",
            "32                |224               |units_1\n",
            "0.4               |0.2               |dropout_1\n",
            "96                |192               |units_2\n",
            "0.4               |0.3               |dropout_2\n",
            "64                |128               |units_3\n",
            "0.3               |0.3               |dropout_3\n",
            "6                 |6                 |tuner/epochs\n",
            "2                 |2                 |tuner/initial_epoch\n",
            "3                 |3                 |tuner/bracket\n",
            "1                 |1                 |tuner/round\n",
            "0033              |0018              |tuner/trial_id\n",
            "\n",
            "Epoch 3/6\n"
          ]
        },
        {
          "ename": "KeyboardInterrupt",
          "evalue": "",
          "output_type": "error",
          "traceback": [
            "\u001b[31m---------------------------------------------------------------------------\u001b[39m",
            "\u001b[31mKeyboardInterrupt\u001b[39m                         Traceback (most recent call last)",
            "\u001b[36mCell\u001b[39m\u001b[36m \u001b[39m\u001b[32mIn[33]\u001b[39m\u001b[32m, line 62\u001b[39m\n\u001b[32m     59\u001b[39m es = EarlyStopping(monitor=\u001b[33m'\u001b[39m\u001b[33mval_loss\u001b[39m\u001b[33m'\u001b[39m, patience=\u001b[32m5\u001b[39m, restore_best_weights=\u001b[38;5;28;01mTrue\u001b[39;00m)\n\u001b[32m     61\u001b[39m \u001b[38;5;66;03m# Search\u001b[39;00m\n\u001b[32m---> \u001b[39m\u001b[32m62\u001b[39m history = \u001b[43mtuner\u001b[49m\u001b[43m.\u001b[49m\u001b[43msearch\u001b[49m\u001b[43m(\u001b[49m\n\u001b[32m     63\u001b[39m \u001b[43m    \u001b[49m\u001b[43mX_train_scaled\u001b[49m\u001b[43m,\u001b[49m\u001b[43m \u001b[49m\u001b[43my_train_cat\u001b[49m\u001b[43m,\u001b[49m\n\u001b[32m     64\u001b[39m \u001b[43m    \u001b[49m\u001b[43mepochs\u001b[49m\u001b[43m=\u001b[49m\u001b[32;43m50\u001b[39;49m\u001b[43m,\u001b[49m\n\u001b[32m     65\u001b[39m \u001b[43m    \u001b[49m\u001b[43mvalidation_split\u001b[49m\u001b[43m=\u001b[49m\u001b[32;43m0.2\u001b[39;49m\u001b[43m,\u001b[49m\n\u001b[32m     66\u001b[39m \u001b[43m    \u001b[49m\u001b[43mclass_weight\u001b[49m\u001b[43m=\u001b[49m\u001b[43mclass_weights\u001b[49m\u001b[43m,\u001b[49m\n\u001b[32m     67\u001b[39m \u001b[43m    \u001b[49m\u001b[43mcallbacks\u001b[49m\u001b[43m=\u001b[49m\u001b[43m[\u001b[49m\u001b[43mes\u001b[49m\u001b[43m]\u001b[49m\u001b[43m,\u001b[49m\n\u001b[32m     68\u001b[39m \u001b[43m    \u001b[49m\u001b[43mverbose\u001b[49m\u001b[43m=\u001b[49m\u001b[32;43m2\u001b[39;49m\n\u001b[32m     69\u001b[39m \u001b[43m)\u001b[49m\n\u001b[32m     71\u001b[39m \u001b[38;5;66;03m# Best model\u001b[39;00m\n\u001b[32m     72\u001b[39m best_dnn = tuner.get_best_models(num_models=\u001b[32m1\u001b[39m)[\u001b[32m0\u001b[39m]\n",
            "\u001b[36mFile \u001b[39m\u001b[32mc:\\Users\\kiran\\Desktop\\os el\\myvenv\\Lib\\site-packages\\keras_tuner\\src\\engine\\base_tuner.py:234\u001b[39m, in \u001b[36mBaseTuner.search\u001b[39m\u001b[34m(self, *fit_args, **fit_kwargs)\u001b[39m\n\u001b[32m    231\u001b[39m         \u001b[38;5;28;01mcontinue\u001b[39;00m\n\u001b[32m    233\u001b[39m     \u001b[38;5;28mself\u001b[39m.on_trial_begin(trial)\n\u001b[32m--> \u001b[39m\u001b[32m234\u001b[39m     \u001b[38;5;28;43mself\u001b[39;49m\u001b[43m.\u001b[49m\u001b[43m_try_run_and_update_trial\u001b[49m\u001b[43m(\u001b[49m\u001b[43mtrial\u001b[49m\u001b[43m,\u001b[49m\u001b[43m \u001b[49m\u001b[43m*\u001b[49m\u001b[43mfit_args\u001b[49m\u001b[43m,\u001b[49m\u001b[43m \u001b[49m\u001b[43m*\u001b[49m\u001b[43m*\u001b[49m\u001b[43mfit_kwargs\u001b[49m\u001b[43m)\u001b[49m\n\u001b[32m    235\u001b[39m     \u001b[38;5;28mself\u001b[39m.on_trial_end(trial)\n\u001b[32m    236\u001b[39m \u001b[38;5;28mself\u001b[39m.on_search_end()\n",
            "\u001b[36mFile \u001b[39m\u001b[32mc:\\Users\\kiran\\Desktop\\os el\\myvenv\\Lib\\site-packages\\keras_tuner\\src\\engine\\base_tuner.py:274\u001b[39m, in \u001b[36mBaseTuner._try_run_and_update_trial\u001b[39m\u001b[34m(self, trial, *fit_args, **fit_kwargs)\u001b[39m\n\u001b[32m    272\u001b[39m \u001b[38;5;28;01mdef\u001b[39;00m\u001b[38;5;250m \u001b[39m\u001b[34m_try_run_and_update_trial\u001b[39m(\u001b[38;5;28mself\u001b[39m, trial, *fit_args, **fit_kwargs):\n\u001b[32m    273\u001b[39m     \u001b[38;5;28;01mtry\u001b[39;00m:\n\u001b[32m--> \u001b[39m\u001b[32m274\u001b[39m         \u001b[38;5;28;43mself\u001b[39;49m\u001b[43m.\u001b[49m\u001b[43m_run_and_update_trial\u001b[49m\u001b[43m(\u001b[49m\u001b[43mtrial\u001b[49m\u001b[43m,\u001b[49m\u001b[43m \u001b[49m\u001b[43m*\u001b[49m\u001b[43mfit_args\u001b[49m\u001b[43m,\u001b[49m\u001b[43m \u001b[49m\u001b[43m*\u001b[49m\u001b[43m*\u001b[49m\u001b[43mfit_kwargs\u001b[49m\u001b[43m)\u001b[49m\n\u001b[32m    275\u001b[39m         trial.status = trial_module.TrialStatus.COMPLETED\n\u001b[32m    276\u001b[39m         \u001b[38;5;28;01mreturn\u001b[39;00m\n",
            "\u001b[36mFile \u001b[39m\u001b[32mc:\\Users\\kiran\\Desktop\\os el\\myvenv\\Lib\\site-packages\\keras_tuner\\src\\engine\\base_tuner.py:239\u001b[39m, in \u001b[36mBaseTuner._run_and_update_trial\u001b[39m\u001b[34m(self, trial, *fit_args, **fit_kwargs)\u001b[39m\n\u001b[32m    238\u001b[39m \u001b[38;5;28;01mdef\u001b[39;00m\u001b[38;5;250m \u001b[39m\u001b[34m_run_and_update_trial\u001b[39m(\u001b[38;5;28mself\u001b[39m, trial, *fit_args, **fit_kwargs):\n\u001b[32m--> \u001b[39m\u001b[32m239\u001b[39m     results = \u001b[38;5;28;43mself\u001b[39;49m\u001b[43m.\u001b[49m\u001b[43mrun_trial\u001b[49m\u001b[43m(\u001b[49m\u001b[43mtrial\u001b[49m\u001b[43m,\u001b[49m\u001b[43m \u001b[49m\u001b[43m*\u001b[49m\u001b[43mfit_args\u001b[49m\u001b[43m,\u001b[49m\u001b[43m \u001b[49m\u001b[43m*\u001b[49m\u001b[43m*\u001b[49m\u001b[43mfit_kwargs\u001b[49m\u001b[43m)\u001b[49m\n\u001b[32m    240\u001b[39m     \u001b[38;5;28;01mif\u001b[39;00m \u001b[38;5;28mself\u001b[39m.oracle.get_trial(trial.trial_id).metrics.exists(\n\u001b[32m    241\u001b[39m         \u001b[38;5;28mself\u001b[39m.oracle.objective.name\n\u001b[32m    242\u001b[39m     ):\n\u001b[32m    243\u001b[39m         \u001b[38;5;66;03m# The oracle is updated by calling `self.oracle.update_trial()` in\u001b[39;00m\n\u001b[32m    244\u001b[39m         \u001b[38;5;66;03m# `Tuner.run_trial()`. For backward compatibility, we support this\u001b[39;00m\n\u001b[32m    245\u001b[39m         \u001b[38;5;66;03m# use case. No further action needed in this case.\u001b[39;00m\n\u001b[32m    246\u001b[39m         warnings.warn(\n\u001b[32m    247\u001b[39m             \u001b[33m\"\u001b[39m\u001b[33mThe use case of calling \u001b[39m\u001b[33m\"\u001b[39m\n\u001b[32m    248\u001b[39m             \u001b[33m\"\u001b[39m\u001b[33m`self.oracle.update_trial(trial_id, metrics)` \u001b[39m\u001b[33m\"\u001b[39m\n\u001b[32m   (...)\u001b[39m\u001b[32m    254\u001b[39m             stacklevel=\u001b[32m2\u001b[39m,\n\u001b[32m    255\u001b[39m         )\n",
            "\u001b[36mFile \u001b[39m\u001b[32mc:\\Users\\kiran\\Desktop\\os el\\myvenv\\Lib\\site-packages\\keras_tuner\\src\\tuners\\hyperband.py:427\u001b[39m, in \u001b[36mHyperband.run_trial\u001b[39m\u001b[34m(self, trial, *fit_args, **fit_kwargs)\u001b[39m\n\u001b[32m    425\u001b[39m     fit_kwargs[\u001b[33m\"\u001b[39m\u001b[33mepochs\u001b[39m\u001b[33m\"\u001b[39m] = hp.values[\u001b[33m\"\u001b[39m\u001b[33mtuner/epochs\u001b[39m\u001b[33m\"\u001b[39m]\n\u001b[32m    426\u001b[39m     fit_kwargs[\u001b[33m\"\u001b[39m\u001b[33minitial_epoch\u001b[39m\u001b[33m\"\u001b[39m] = hp.values[\u001b[33m\"\u001b[39m\u001b[33mtuner/initial_epoch\u001b[39m\u001b[33m\"\u001b[39m]\n\u001b[32m--> \u001b[39m\u001b[32m427\u001b[39m \u001b[38;5;28;01mreturn\u001b[39;00m \u001b[38;5;28;43msuper\u001b[39;49m\u001b[43m(\u001b[49m\u001b[43m)\u001b[49m\u001b[43m.\u001b[49m\u001b[43mrun_trial\u001b[49m\u001b[43m(\u001b[49m\u001b[43mtrial\u001b[49m\u001b[43m,\u001b[49m\u001b[43m \u001b[49m\u001b[43m*\u001b[49m\u001b[43mfit_args\u001b[49m\u001b[43m,\u001b[49m\u001b[43m \u001b[49m\u001b[43m*\u001b[49m\u001b[43m*\u001b[49m\u001b[43mfit_kwargs\u001b[49m\u001b[43m)\u001b[49m\n",
            "\u001b[36mFile \u001b[39m\u001b[32mc:\\Users\\kiran\\Desktop\\os el\\myvenv\\Lib\\site-packages\\keras_tuner\\src\\engine\\tuner.py:314\u001b[39m, in \u001b[36mTuner.run_trial\u001b[39m\u001b[34m(self, trial, *args, **kwargs)\u001b[39m\n\u001b[32m    312\u001b[39m     callbacks.append(model_checkpoint)\n\u001b[32m    313\u001b[39m     copied_kwargs[\u001b[33m\"\u001b[39m\u001b[33mcallbacks\u001b[39m\u001b[33m\"\u001b[39m] = callbacks\n\u001b[32m--> \u001b[39m\u001b[32m314\u001b[39m     obj_value = \u001b[38;5;28;43mself\u001b[39;49m\u001b[43m.\u001b[49m\u001b[43m_build_and_fit_model\u001b[49m\u001b[43m(\u001b[49m\u001b[43mtrial\u001b[49m\u001b[43m,\u001b[49m\u001b[43m \u001b[49m\u001b[43m*\u001b[49m\u001b[43margs\u001b[49m\u001b[43m,\u001b[49m\u001b[43m \u001b[49m\u001b[43m*\u001b[49m\u001b[43m*\u001b[49m\u001b[43mcopied_kwargs\u001b[49m\u001b[43m)\u001b[49m\n\u001b[32m    316\u001b[39m     histories.append(obj_value)\n\u001b[32m    317\u001b[39m \u001b[38;5;28;01mreturn\u001b[39;00m histories\n",
            "\u001b[36mFile \u001b[39m\u001b[32mc:\\Users\\kiran\\Desktop\\os el\\myvenv\\Lib\\site-packages\\keras_tuner\\src\\engine\\tuner.py:233\u001b[39m, in \u001b[36mTuner._build_and_fit_model\u001b[39m\u001b[34m(self, trial, *args, **kwargs)\u001b[39m\n\u001b[32m    231\u001b[39m hp = trial.hyperparameters\n\u001b[32m    232\u001b[39m model = \u001b[38;5;28mself\u001b[39m._try_build(hp)\n\u001b[32m--> \u001b[39m\u001b[32m233\u001b[39m results = \u001b[38;5;28;43mself\u001b[39;49m\u001b[43m.\u001b[49m\u001b[43mhypermodel\u001b[49m\u001b[43m.\u001b[49m\u001b[43mfit\u001b[49m\u001b[43m(\u001b[49m\u001b[43mhp\u001b[49m\u001b[43m,\u001b[49m\u001b[43m \u001b[49m\u001b[43mmodel\u001b[49m\u001b[43m,\u001b[49m\u001b[43m \u001b[49m\u001b[43m*\u001b[49m\u001b[43margs\u001b[49m\u001b[43m,\u001b[49m\u001b[43m \u001b[49m\u001b[43m*\u001b[49m\u001b[43m*\u001b[49m\u001b[43mkwargs\u001b[49m\u001b[43m)\u001b[49m\n\u001b[32m    235\u001b[39m \u001b[38;5;66;03m# Save the build config for model loading later.\u001b[39;00m\n\u001b[32m    236\u001b[39m \u001b[38;5;28;01mif\u001b[39;00m backend.config.multi_backend():\n",
            "\u001b[36mFile \u001b[39m\u001b[32mc:\\Users\\kiran\\Desktop\\os el\\myvenv\\Lib\\site-packages\\keras_tuner\\src\\engine\\hypermodel.py:149\u001b[39m, in \u001b[36mHyperModel.fit\u001b[39m\u001b[34m(self, hp, model, *args, **kwargs)\u001b[39m\n\u001b[32m    125\u001b[39m \u001b[38;5;28;01mdef\u001b[39;00m\u001b[38;5;250m \u001b[39m\u001b[34mfit\u001b[39m(\u001b[38;5;28mself\u001b[39m, hp, model, *args, **kwargs):\n\u001b[32m    126\u001b[39m \u001b[38;5;250m    \u001b[39m\u001b[33;03m\"\"\"Train the model.\u001b[39;00m\n\u001b[32m    127\u001b[39m \n\u001b[32m    128\u001b[39m \u001b[33;03m    Args:\u001b[39;00m\n\u001b[32m   (...)\u001b[39m\u001b[32m    147\u001b[39m \u001b[33;03m        If return a float, it should be the `objective` value.\u001b[39;00m\n\u001b[32m    148\u001b[39m \u001b[33;03m    \"\"\"\u001b[39;00m\n\u001b[32m--> \u001b[39m\u001b[32m149\u001b[39m     \u001b[38;5;28;01mreturn\u001b[39;00m \u001b[43mmodel\u001b[49m\u001b[43m.\u001b[49m\u001b[43mfit\u001b[49m\u001b[43m(\u001b[49m\u001b[43m*\u001b[49m\u001b[43margs\u001b[49m\u001b[43m,\u001b[49m\u001b[43m \u001b[49m\u001b[43m*\u001b[49m\u001b[43m*\u001b[49m\u001b[43mkwargs\u001b[49m\u001b[43m)\u001b[49m\n",
            "\u001b[36mFile \u001b[39m\u001b[32mc:\\Users\\kiran\\Desktop\\os el\\myvenv\\Lib\\site-packages\\keras\\src\\utils\\traceback_utils.py:117\u001b[39m, in \u001b[36mfilter_traceback.<locals>.error_handler\u001b[39m\u001b[34m(*args, **kwargs)\u001b[39m\n\u001b[32m    115\u001b[39m filtered_tb = \u001b[38;5;28;01mNone\u001b[39;00m\n\u001b[32m    116\u001b[39m \u001b[38;5;28;01mtry\u001b[39;00m:\n\u001b[32m--> \u001b[39m\u001b[32m117\u001b[39m     \u001b[38;5;28;01mreturn\u001b[39;00m \u001b[43mfn\u001b[49m\u001b[43m(\u001b[49m\u001b[43m*\u001b[49m\u001b[43margs\u001b[49m\u001b[43m,\u001b[49m\u001b[43m \u001b[49m\u001b[43m*\u001b[49m\u001b[43m*\u001b[49m\u001b[43mkwargs\u001b[49m\u001b[43m)\u001b[49m\n\u001b[32m    118\u001b[39m \u001b[38;5;28;01mexcept\u001b[39;00m \u001b[38;5;167;01mException\u001b[39;00m \u001b[38;5;28;01mas\u001b[39;00m e:\n\u001b[32m    119\u001b[39m     filtered_tb = _process_traceback_frames(e.__traceback__)\n",
            "\u001b[36mFile \u001b[39m\u001b[32mc:\\Users\\kiran\\Desktop\\os el\\myvenv\\Lib\\site-packages\\keras\\src\\backend\\tensorflow\\trainer.py:371\u001b[39m, in \u001b[36mTensorFlowTrainer.fit\u001b[39m\u001b[34m(self, x, y, batch_size, epochs, verbose, callbacks, validation_split, validation_data, shuffle, class_weight, sample_weight, initial_epoch, steps_per_epoch, validation_steps, validation_batch_size, validation_freq)\u001b[39m\n\u001b[32m    369\u001b[39m \u001b[38;5;28;01mfor\u001b[39;00m step, iterator \u001b[38;5;129;01min\u001b[39;00m epoch_iterator:\n\u001b[32m    370\u001b[39m     callbacks.on_train_batch_begin(step)\n\u001b[32m--> \u001b[39m\u001b[32m371\u001b[39m     logs = \u001b[38;5;28;43mself\u001b[39;49m\u001b[43m.\u001b[49m\u001b[43mtrain_function\u001b[49m\u001b[43m(\u001b[49m\u001b[43miterator\u001b[49m\u001b[43m)\u001b[49m\n\u001b[32m    372\u001b[39m     callbacks.on_train_batch_end(step, logs)\n\u001b[32m    373\u001b[39m     \u001b[38;5;28;01mif\u001b[39;00m \u001b[38;5;28mself\u001b[39m.stop_training:\n",
            "\u001b[36mFile \u001b[39m\u001b[32mc:\\Users\\kiran\\Desktop\\os el\\myvenv\\Lib\\site-packages\\keras\\src\\backend\\tensorflow\\trainer.py:219\u001b[39m, in \u001b[36mTensorFlowTrainer._make_function.<locals>.function\u001b[39m\u001b[34m(iterator)\u001b[39m\n\u001b[32m    215\u001b[39m \u001b[38;5;28;01mdef\u001b[39;00m\u001b[38;5;250m \u001b[39m\u001b[34mfunction\u001b[39m(iterator):\n\u001b[32m    216\u001b[39m     \u001b[38;5;28;01mif\u001b[39;00m \u001b[38;5;28misinstance\u001b[39m(\n\u001b[32m    217\u001b[39m         iterator, (tf.data.Iterator, tf.distribute.DistributedIterator)\n\u001b[32m    218\u001b[39m     ):\n\u001b[32m--> \u001b[39m\u001b[32m219\u001b[39m         opt_outputs = \u001b[43mmulti_step_on_iterator\u001b[49m\u001b[43m(\u001b[49m\u001b[43miterator\u001b[49m\u001b[43m)\u001b[49m\n\u001b[32m    220\u001b[39m         \u001b[38;5;28;01mif\u001b[39;00m \u001b[38;5;129;01mnot\u001b[39;00m opt_outputs.has_value():\n\u001b[32m    221\u001b[39m             \u001b[38;5;28;01mraise\u001b[39;00m \u001b[38;5;167;01mStopIteration\u001b[39;00m\n",
            "\u001b[36mFile \u001b[39m\u001b[32mc:\\Users\\kiran\\Desktop\\os el\\myvenv\\Lib\\site-packages\\tensorflow\\python\\util\\traceback_utils.py:150\u001b[39m, in \u001b[36mfilter_traceback.<locals>.error_handler\u001b[39m\u001b[34m(*args, **kwargs)\u001b[39m\n\u001b[32m    148\u001b[39m filtered_tb = \u001b[38;5;28;01mNone\u001b[39;00m\n\u001b[32m    149\u001b[39m \u001b[38;5;28;01mtry\u001b[39;00m:\n\u001b[32m--> \u001b[39m\u001b[32m150\u001b[39m   \u001b[38;5;28;01mreturn\u001b[39;00m \u001b[43mfn\u001b[49m\u001b[43m(\u001b[49m\u001b[43m*\u001b[49m\u001b[43margs\u001b[49m\u001b[43m,\u001b[49m\u001b[43m \u001b[49m\u001b[43m*\u001b[49m\u001b[43m*\u001b[49m\u001b[43mkwargs\u001b[49m\u001b[43m)\u001b[49m\n\u001b[32m    151\u001b[39m \u001b[38;5;28;01mexcept\u001b[39;00m \u001b[38;5;167;01mException\u001b[39;00m \u001b[38;5;28;01mas\u001b[39;00m e:\n\u001b[32m    152\u001b[39m   filtered_tb = _process_traceback_frames(e.__traceback__)\n",
            "\u001b[36mFile \u001b[39m\u001b[32mc:\\Users\\kiran\\Desktop\\os el\\myvenv\\Lib\\site-packages\\tensorflow\\python\\eager\\polymorphic_function\\polymorphic_function.py:833\u001b[39m, in \u001b[36mFunction.__call__\u001b[39m\u001b[34m(self, *args, **kwds)\u001b[39m\n\u001b[32m    830\u001b[39m compiler = \u001b[33m\"\u001b[39m\u001b[33mxla\u001b[39m\u001b[33m\"\u001b[39m \u001b[38;5;28;01mif\u001b[39;00m \u001b[38;5;28mself\u001b[39m._jit_compile \u001b[38;5;28;01melse\u001b[39;00m \u001b[33m\"\u001b[39m\u001b[33mnonXla\u001b[39m\u001b[33m\"\u001b[39m\n\u001b[32m    832\u001b[39m \u001b[38;5;28;01mwith\u001b[39;00m OptionalXlaContext(\u001b[38;5;28mself\u001b[39m._jit_compile):\n\u001b[32m--> \u001b[39m\u001b[32m833\u001b[39m   result = \u001b[38;5;28;43mself\u001b[39;49m\u001b[43m.\u001b[49m\u001b[43m_call\u001b[49m\u001b[43m(\u001b[49m\u001b[43m*\u001b[49m\u001b[43margs\u001b[49m\u001b[43m,\u001b[49m\u001b[43m \u001b[49m\u001b[43m*\u001b[49m\u001b[43m*\u001b[49m\u001b[43mkwds\u001b[49m\u001b[43m)\u001b[49m\n\u001b[32m    835\u001b[39m new_tracing_count = \u001b[38;5;28mself\u001b[39m.experimental_get_tracing_count()\n\u001b[32m    836\u001b[39m without_tracing = (tracing_count == new_tracing_count)\n",
            "\u001b[36mFile \u001b[39m\u001b[32mc:\\Users\\kiran\\Desktop\\os el\\myvenv\\Lib\\site-packages\\tensorflow\\python\\eager\\polymorphic_function\\polymorphic_function.py:878\u001b[39m, in \u001b[36mFunction._call\u001b[39m\u001b[34m(self, *args, **kwds)\u001b[39m\n\u001b[32m    875\u001b[39m \u001b[38;5;28mself\u001b[39m._lock.release()\n\u001b[32m    876\u001b[39m \u001b[38;5;66;03m# In this case we have not created variables on the first call. So we can\u001b[39;00m\n\u001b[32m    877\u001b[39m \u001b[38;5;66;03m# run the first trace but we should fail if variables are created.\u001b[39;00m\n\u001b[32m--> \u001b[39m\u001b[32m878\u001b[39m results = \u001b[43mtracing_compilation\u001b[49m\u001b[43m.\u001b[49m\u001b[43mcall_function\u001b[49m\u001b[43m(\u001b[49m\n\u001b[32m    879\u001b[39m \u001b[43m    \u001b[49m\u001b[43margs\u001b[49m\u001b[43m,\u001b[49m\u001b[43m \u001b[49m\u001b[43mkwds\u001b[49m\u001b[43m,\u001b[49m\u001b[43m \u001b[49m\u001b[38;5;28;43mself\u001b[39;49m\u001b[43m.\u001b[49m\u001b[43m_variable_creation_config\u001b[49m\n\u001b[32m    880\u001b[39m \u001b[43m\u001b[49m\u001b[43m)\u001b[49m\n\u001b[32m    881\u001b[39m \u001b[38;5;28;01mif\u001b[39;00m \u001b[38;5;28mself\u001b[39m._created_variables:\n\u001b[32m    882\u001b[39m   \u001b[38;5;28;01mraise\u001b[39;00m \u001b[38;5;167;01mValueError\u001b[39;00m(\u001b[33m\"\u001b[39m\u001b[33mCreating variables on a non-first call to a function\u001b[39m\u001b[33m\"\u001b[39m\n\u001b[32m    883\u001b[39m                    \u001b[33m\"\u001b[39m\u001b[33m decorated with tf.function.\u001b[39m\u001b[33m\"\u001b[39m)\n",
            "\u001b[36mFile \u001b[39m\u001b[32mc:\\Users\\kiran\\Desktop\\os el\\myvenv\\Lib\\site-packages\\tensorflow\\python\\eager\\polymorphic_function\\tracing_compilation.py:139\u001b[39m, in \u001b[36mcall_function\u001b[39m\u001b[34m(args, kwargs, tracing_options)\u001b[39m\n\u001b[32m    137\u001b[39m bound_args = function.function_type.bind(*args, **kwargs)\n\u001b[32m    138\u001b[39m flat_inputs = function.function_type.unpack_inputs(bound_args)\n\u001b[32m--> \u001b[39m\u001b[32m139\u001b[39m \u001b[38;5;28;01mreturn\u001b[39;00m \u001b[43mfunction\u001b[49m\u001b[43m.\u001b[49m\u001b[43m_call_flat\u001b[49m\u001b[43m(\u001b[49m\u001b[43m  \u001b[49m\u001b[38;5;66;43;03m# pylint: disable=protected-access\u001b[39;49;00m\n\u001b[32m    140\u001b[39m \u001b[43m    \u001b[49m\u001b[43mflat_inputs\u001b[49m\u001b[43m,\u001b[49m\u001b[43m \u001b[49m\u001b[43mcaptured_inputs\u001b[49m\u001b[43m=\u001b[49m\u001b[43mfunction\u001b[49m\u001b[43m.\u001b[49m\u001b[43mcaptured_inputs\u001b[49m\n\u001b[32m    141\u001b[39m \u001b[43m\u001b[49m\u001b[43m)\u001b[49m\n",
            "\u001b[36mFile \u001b[39m\u001b[32mc:\\Users\\kiran\\Desktop\\os el\\myvenv\\Lib\\site-packages\\tensorflow\\python\\eager\\polymorphic_function\\concrete_function.py:1322\u001b[39m, in \u001b[36mConcreteFunction._call_flat\u001b[39m\u001b[34m(self, tensor_inputs, captured_inputs)\u001b[39m\n\u001b[32m   1318\u001b[39m possible_gradient_type = gradients_util.PossibleTapeGradientTypes(args)\n\u001b[32m   1319\u001b[39m \u001b[38;5;28;01mif\u001b[39;00m (possible_gradient_type == gradients_util.POSSIBLE_GRADIENT_TYPES_NONE\n\u001b[32m   1320\u001b[39m     \u001b[38;5;129;01mand\u001b[39;00m executing_eagerly):\n\u001b[32m   1321\u001b[39m   \u001b[38;5;66;03m# No tape is watching; skip to running the function.\u001b[39;00m\n\u001b[32m-> \u001b[39m\u001b[32m1322\u001b[39m   \u001b[38;5;28;01mreturn\u001b[39;00m \u001b[38;5;28;43mself\u001b[39;49m\u001b[43m.\u001b[49m\u001b[43m_inference_function\u001b[49m\u001b[43m.\u001b[49m\u001b[43mcall_preflattened\u001b[49m\u001b[43m(\u001b[49m\u001b[43margs\u001b[49m\u001b[43m)\u001b[49m\n\u001b[32m   1323\u001b[39m forward_backward = \u001b[38;5;28mself\u001b[39m._select_forward_and_backward_functions(\n\u001b[32m   1324\u001b[39m     args,\n\u001b[32m   1325\u001b[39m     possible_gradient_type,\n\u001b[32m   1326\u001b[39m     executing_eagerly)\n\u001b[32m   1327\u001b[39m forward_function, args_with_tangents = forward_backward.forward()\n",
            "\u001b[36mFile \u001b[39m\u001b[32mc:\\Users\\kiran\\Desktop\\os el\\myvenv\\Lib\\site-packages\\tensorflow\\python\\eager\\polymorphic_function\\atomic_function.py:216\u001b[39m, in \u001b[36mAtomicFunction.call_preflattened\u001b[39m\u001b[34m(self, args)\u001b[39m\n\u001b[32m    214\u001b[39m \u001b[38;5;28;01mdef\u001b[39;00m\u001b[38;5;250m \u001b[39m\u001b[34mcall_preflattened\u001b[39m(\u001b[38;5;28mself\u001b[39m, args: Sequence[core.Tensor]) -> Any:\n\u001b[32m    215\u001b[39m \u001b[38;5;250m  \u001b[39m\u001b[33;03m\"\"\"Calls with flattened tensor inputs and returns the structured output.\"\"\"\u001b[39;00m\n\u001b[32m--> \u001b[39m\u001b[32m216\u001b[39m   flat_outputs = \u001b[38;5;28;43mself\u001b[39;49m\u001b[43m.\u001b[49m\u001b[43mcall_flat\u001b[49m\u001b[43m(\u001b[49m\u001b[43m*\u001b[49m\u001b[43margs\u001b[49m\u001b[43m)\u001b[49m\n\u001b[32m    217\u001b[39m   \u001b[38;5;28;01mreturn\u001b[39;00m \u001b[38;5;28mself\u001b[39m.function_type.pack_output(flat_outputs)\n",
            "\u001b[36mFile \u001b[39m\u001b[32mc:\\Users\\kiran\\Desktop\\os el\\myvenv\\Lib\\site-packages\\tensorflow\\python\\eager\\polymorphic_function\\atomic_function.py:251\u001b[39m, in \u001b[36mAtomicFunction.call_flat\u001b[39m\u001b[34m(self, *args)\u001b[39m\n\u001b[32m    249\u001b[39m \u001b[38;5;28;01mwith\u001b[39;00m record.stop_recording():\n\u001b[32m    250\u001b[39m   \u001b[38;5;28;01mif\u001b[39;00m \u001b[38;5;28mself\u001b[39m._bound_context.executing_eagerly():\n\u001b[32m--> \u001b[39m\u001b[32m251\u001b[39m     outputs = \u001b[38;5;28;43mself\u001b[39;49m\u001b[43m.\u001b[49m\u001b[43m_bound_context\u001b[49m\u001b[43m.\u001b[49m\u001b[43mcall_function\u001b[49m\u001b[43m(\u001b[49m\n\u001b[32m    252\u001b[39m \u001b[43m        \u001b[49m\u001b[38;5;28;43mself\u001b[39;49m\u001b[43m.\u001b[49m\u001b[43mname\u001b[49m\u001b[43m,\u001b[49m\n\u001b[32m    253\u001b[39m \u001b[43m        \u001b[49m\u001b[38;5;28;43mlist\u001b[39;49m\u001b[43m(\u001b[49m\u001b[43margs\u001b[49m\u001b[43m)\u001b[49m\u001b[43m,\u001b[49m\n\u001b[32m    254\u001b[39m \u001b[43m        \u001b[49m\u001b[38;5;28;43mlen\u001b[39;49m\u001b[43m(\u001b[49m\u001b[38;5;28;43mself\u001b[39;49m\u001b[43m.\u001b[49m\u001b[43mfunction_type\u001b[49m\u001b[43m.\u001b[49m\u001b[43mflat_outputs\u001b[49m\u001b[43m)\u001b[49m\u001b[43m,\u001b[49m\n\u001b[32m    255\u001b[39m \u001b[43m    \u001b[49m\u001b[43m)\u001b[49m\n\u001b[32m    256\u001b[39m   \u001b[38;5;28;01melse\u001b[39;00m:\n\u001b[32m    257\u001b[39m     outputs = make_call_op_in_graph(\n\u001b[32m    258\u001b[39m         \u001b[38;5;28mself\u001b[39m,\n\u001b[32m    259\u001b[39m         \u001b[38;5;28mlist\u001b[39m(args),\n\u001b[32m    260\u001b[39m         \u001b[38;5;28mself\u001b[39m._bound_context.function_call_options.as_attrs(),\n\u001b[32m    261\u001b[39m     )\n",
            "\u001b[36mFile \u001b[39m\u001b[32mc:\\Users\\kiran\\Desktop\\os el\\myvenv\\Lib\\site-packages\\tensorflow\\python\\eager\\context.py:1688\u001b[39m, in \u001b[36mContext.call_function\u001b[39m\u001b[34m(self, name, tensor_inputs, num_outputs)\u001b[39m\n\u001b[32m   1686\u001b[39m cancellation_context = cancellation.context()\n\u001b[32m   1687\u001b[39m \u001b[38;5;28;01mif\u001b[39;00m cancellation_context \u001b[38;5;129;01mis\u001b[39;00m \u001b[38;5;28;01mNone\u001b[39;00m:\n\u001b[32m-> \u001b[39m\u001b[32m1688\u001b[39m   outputs = \u001b[43mexecute\u001b[49m\u001b[43m.\u001b[49m\u001b[43mexecute\u001b[49m\u001b[43m(\u001b[49m\n\u001b[32m   1689\u001b[39m \u001b[43m      \u001b[49m\u001b[43mname\u001b[49m\u001b[43m.\u001b[49m\u001b[43mdecode\u001b[49m\u001b[43m(\u001b[49m\u001b[33;43m\"\u001b[39;49m\u001b[33;43mutf-8\u001b[39;49m\u001b[33;43m\"\u001b[39;49m\u001b[43m)\u001b[49m\u001b[43m,\u001b[49m\n\u001b[32m   1690\u001b[39m \u001b[43m      \u001b[49m\u001b[43mnum_outputs\u001b[49m\u001b[43m=\u001b[49m\u001b[43mnum_outputs\u001b[49m\u001b[43m,\u001b[49m\n\u001b[32m   1691\u001b[39m \u001b[43m      \u001b[49m\u001b[43minputs\u001b[49m\u001b[43m=\u001b[49m\u001b[43mtensor_inputs\u001b[49m\u001b[43m,\u001b[49m\n\u001b[32m   1692\u001b[39m \u001b[43m      \u001b[49m\u001b[43mattrs\u001b[49m\u001b[43m=\u001b[49m\u001b[43mattrs\u001b[49m\u001b[43m,\u001b[49m\n\u001b[32m   1693\u001b[39m \u001b[43m      \u001b[49m\u001b[43mctx\u001b[49m\u001b[43m=\u001b[49m\u001b[38;5;28;43mself\u001b[39;49m\u001b[43m,\u001b[49m\n\u001b[32m   1694\u001b[39m \u001b[43m  \u001b[49m\u001b[43m)\u001b[49m\n\u001b[32m   1695\u001b[39m \u001b[38;5;28;01melse\u001b[39;00m:\n\u001b[32m   1696\u001b[39m   outputs = execute.execute_with_cancellation(\n\u001b[32m   1697\u001b[39m       name.decode(\u001b[33m\"\u001b[39m\u001b[33mutf-8\u001b[39m\u001b[33m\"\u001b[39m),\n\u001b[32m   1698\u001b[39m       num_outputs=num_outputs,\n\u001b[32m   (...)\u001b[39m\u001b[32m   1702\u001b[39m       cancellation_manager=cancellation_context,\n\u001b[32m   1703\u001b[39m   )\n",
            "\u001b[36mFile \u001b[39m\u001b[32mc:\\Users\\kiran\\Desktop\\os el\\myvenv\\Lib\\site-packages\\tensorflow\\python\\eager\\execute.py:53\u001b[39m, in \u001b[36mquick_execute\u001b[39m\u001b[34m(op_name, num_outputs, inputs, attrs, ctx, name)\u001b[39m\n\u001b[32m     51\u001b[39m \u001b[38;5;28;01mtry\u001b[39;00m:\n\u001b[32m     52\u001b[39m   ctx.ensure_initialized()\n\u001b[32m---> \u001b[39m\u001b[32m53\u001b[39m   tensors = \u001b[43mpywrap_tfe\u001b[49m\u001b[43m.\u001b[49m\u001b[43mTFE_Py_Execute\u001b[49m\u001b[43m(\u001b[49m\u001b[43mctx\u001b[49m\u001b[43m.\u001b[49m\u001b[43m_handle\u001b[49m\u001b[43m,\u001b[49m\u001b[43m \u001b[49m\u001b[43mdevice_name\u001b[49m\u001b[43m,\u001b[49m\u001b[43m \u001b[49m\u001b[43mop_name\u001b[49m\u001b[43m,\u001b[49m\n\u001b[32m     54\u001b[39m \u001b[43m                                      \u001b[49m\u001b[43minputs\u001b[49m\u001b[43m,\u001b[49m\u001b[43m \u001b[49m\u001b[43mattrs\u001b[49m\u001b[43m,\u001b[49m\u001b[43m \u001b[49m\u001b[43mnum_outputs\u001b[49m\u001b[43m)\u001b[49m\n\u001b[32m     55\u001b[39m \u001b[38;5;28;01mexcept\u001b[39;00m core._NotOkStatusException \u001b[38;5;28;01mas\u001b[39;00m e:\n\u001b[32m     56\u001b[39m   \u001b[38;5;28;01mif\u001b[39;00m name \u001b[38;5;129;01mis\u001b[39;00m \u001b[38;5;129;01mnot\u001b[39;00m \u001b[38;5;28;01mNone\u001b[39;00m:\n",
            "\u001b[31mKeyboardInterrupt\u001b[39m: "
          ]
        }
      ],
      "source": [
        "import numpy as np\n",
        "import matplotlib.pyplot as plt\n",
        "from tensorflow.keras.models import Sequential\n",
        "from tensorflow.keras.layers import Dense, Dropout\n",
        "from tensorflow.keras.optimizers import Adam, RMSprop, Nadam\n",
        "from tensorflow.keras.utils import to_categorical\n",
        "from tensorflow.keras.callbacks import EarlyStopping\n",
        "import keras_tuner as kt\n",
        "from sklearn.metrics import classification_report\n",
        "from sklearn.utils.class_weight import compute_class_weight\n",
        "\n",
        "# Assume X_train_scaled, X_test_scaled, y_train, y_test, label_encoder already exist\n",
        "num_classes = len(np.unique(y_train))\n",
        "y_train_cat = to_categorical(y_train, num_classes)\n",
        "\n",
        "input_dim = X_train_scaled.shape[1]\n",
        "\n",
        "# Compute class weights\n",
        "class_weights = dict(enumerate(compute_class_weight(\n",
        "    class_weight='balanced', classes=np.unique(y_train), y=y_train)))\n",
        "\n",
        "# Build DNN with more tunable hyperparameters\n",
        "def build_dnn(hp):\n",
        "    model = Sequential()\n",
        "    for i in range(hp.Int(\"num_layers\", 1, 4)):\n",
        "        model.add(Dense(\n",
        "            units=hp.Int(f'units_{i}', 32, 256, step=32),\n",
        "            activation='relu'\n",
        "        ))\n",
        "        model.add(Dropout(rate=hp.Float(f'dropout_{i}', 0.2, 0.5, step=0.1)))\n",
        "\n",
        "    model.add(Dense(num_classes, activation='softmax'))\n",
        "\n",
        "    optimizer_choice = hp.Choice('optimizer', ['adam', 'rmsprop', 'nadam'])\n",
        "    lr = hp.Choice('lr', [1e-2, 1e-3, 1e-4])\n",
        "    if optimizer_choice == 'adam':\n",
        "        optimizer = Adam(learning_rate=lr)\n",
        "    elif optimizer_choice == 'rmsprop':\n",
        "        optimizer = RMSprop(learning_rate=lr)\n",
        "    else:\n",
        "        optimizer = Nadam(learning_rate=lr)\n",
        "\n",
        "    model.compile(optimizer=optimizer,\n",
        "                  loss='categorical_crossentropy',\n",
        "                  metrics=['accuracy'])\n",
        "    return model\n",
        "\n",
        "# Tuner setup\n",
        "tuner = kt.Hyperband(\n",
        "    build_dnn,\n",
        "    objective='val_accuracy',\n",
        "    max_epochs=50,\n",
        "    factor=3,\n",
        "    directory='dnn_tuning_v2',\n",
        "    project_name='better_dnn'\n",
        ")\n",
        "\n",
        "# Early stopping\n",
        "es = EarlyStopping(monitor='val_loss', patience=5, restore_best_weights=True)\n",
        "\n",
        "# Search\n",
        "history = tuner.search(\n",
        "    X_train_scaled, y_train_cat,\n",
        "    epochs=50,\n",
        "    validation_split=0.2,\n",
        "    class_weight=class_weights,\n",
        "    callbacks=[es],\n",
        "    verbose=2\n",
        ")\n",
        "\n",
        "# Best model\n",
        "best_dnn = tuner.get_best_models(num_models=1)[0]\n",
        "\n",
        "# Predict and report\n",
        "y_pred_prob = best_dnn.predict(X_test_scaled)\n",
        "y_pred = np.argmax(y_pred_prob, axis=1)\n",
        "print(classification_report(y_test, y_pred, target_names=label_encoder.classes_))\n",
        "\n",
        "# Optional: Plot learning curves\n",
        "best_trial = tuner.oracle.get_best_trials(num_trials=1)[0]\n",
        "hist = best_trial.metrics.get_history()\n",
        "\n",
        "plt.plot(hist['val_accuracy'], label='val_accuracy')\n",
        "plt.plot(hist['val_loss'], label='val_loss')\n",
        "plt.title(\"Validation Accuracy and Loss\")\n",
        "plt.xlabel(\"Epochs\")\n",
        "plt.ylabel(\"Metric\")\n",
        "plt.legend()\n",
        "plt.grid(True)\n",
        "plt.show()\n"
      ]
    },
    {
      "cell_type": "code",
      "execution_count": 34,
      "metadata": {},
      "outputs": [
        {
          "name": "stdout",
          "output_type": "stream",
          "text": [
            "Best hyperparameters so far: {'num_layers': 3, 'units_0': 64, 'dropout_0': 0.2, 'optimizer': 'nadam', 'lr': 0.0001, 'units_1': 224, 'dropout_1': 0.2, 'units_2': 192, 'dropout_2': 0.30000000000000004, 'units_3': 128, 'dropout_3': 0.30000000000000004, 'tuner/epochs': 6, 'tuner/initial_epoch': 2, 'tuner/bracket': 3, 'tuner/round': 1, 'tuner/trial_id': '0018'}\n"
          ]
        }
      ],
      "source": [
        "# After stopping, retrieve the top trial:\n",
        "#hindeeeeeeeeeeeeeee odsid program tumbaa jasti odtittu adikke interuppt maadi next 2 lines run madudre best hyperparameters aa variable olgade hogutte\n",
        "\n",
        "best_hp = tuner.get_best_hyperparameters(num_trials=1)[0]\n",
        "print(\"Best hyperparameters so far:\", best_hp.values)\n"
      ]
    },
    {
      "cell_type": "code",
      "execution_count": 9,
      "metadata": {},
      "outputs": [
        {
          "name": "stdout",
          "output_type": "stream",
          "text": [
            "Epoch 1/50\n",
            "331390/331390 - 837s - 3ms/step - accuracy: 0.9947 - loss: 0.0095 - val_accuracy: 0.9997 - val_loss: 0.0038\n",
            "Epoch 2/50\n",
            "331390/331390 - 793s - 2ms/step - accuracy: 0.9984 - loss: 0.0041 - val_accuracy: 0.9996 - val_loss: 0.0035\n",
            "Epoch 3/50\n",
            "331390/331390 - 788s - 2ms/step - accuracy: 0.9985 - loss: 0.0043 - val_accuracy: 0.9995 - val_loss: 0.0052\n",
            "Epoch 4/50\n",
            "331390/331390 - 845s - 3ms/step - accuracy: 0.9986 - loss: 0.0041 - val_accuracy: 0.9999 - val_loss: 8.4974e-04\n",
            "Epoch 5/50\n",
            "331390/331390 - 857s - 3ms/step - accuracy: 0.9987 - loss: 0.0040 - val_accuracy: 0.9998 - val_loss: 0.0013\n",
            "Epoch 6/50\n",
            "331390/331390 - 800s - 2ms/step - accuracy: 0.9988 - loss: 0.0042 - val_accuracy: 0.9998 - val_loss: 0.0013\n",
            "Epoch 7/50\n",
            "331390/331390 - 801s - 2ms/step - accuracy: 0.9988 - loss: 0.0044 - val_accuracy: 0.9999 - val_loss: 0.0012\n",
            "Epoch 8/50\n",
            "331390/331390 - 803s - 2ms/step - accuracy: 0.9987 - loss: 0.0045 - val_accuracy: 0.9998 - val_loss: 0.0016\n",
            "Epoch 9/50\n",
            "331390/331390 - 845s - 3ms/step - accuracy: 0.9987 - loss: 0.0048 - val_accuracy: 0.9999 - val_loss: 8.3179e-04\n",
            "Epoch 10/50\n",
            "331390/331390 - 813s - 2ms/step - accuracy: 0.9986 - loss: 0.0054 - val_accuracy: 0.9999 - val_loss: 7.0426e-04\n",
            "Epoch 11/50\n",
            "331390/331390 - 811s - 2ms/step - accuracy: 0.9985 - loss: 0.0060 - val_accuracy: 0.9998 - val_loss: 0.0019\n",
            "Epoch 12/50\n",
            "331390/331390 - 811s - 2ms/step - accuracy: 0.9984 - loss: 0.0063 - val_accuracy: 0.9998 - val_loss: 0.0015\n",
            "Epoch 13/50\n",
            "331390/331390 - 863s - 3ms/step - accuracy: 0.9980 - loss: 0.0068 - val_accuracy: 0.9999 - val_loss: 8.5746e-04\n",
            "Epoch 14/50\n",
            "331390/331390 - 834s - 3ms/step - accuracy: 0.9980 - loss: 0.0075 - val_accuracy: 0.9997 - val_loss: 0.0020\n",
            "Epoch 15/50\n",
            "331390/331390 - 828s - 2ms/step - accuracy: 0.9980 - loss: 0.0086 - val_accuracy: 0.9997 - val_loss: 0.0022\n"
          ]
        }
      ],
      "source": [
        "best_hp={'num_layers': 3, 'units_0': 64, 'dropout_0': 0.2, 'optimizer': 'nadam', 'lr': 0.0001, 'units_1': 224, 'dropout_1': 0.2, 'units_2': 192, 'dropout_2': 0.30000000000000004, 'units_3': 128, 'dropout_3': 0.30000000000000004, 'tuner/epochs': 6, 'tuner/initial_epoch': 2, 'tuner/bracket': 3, 'tuner/round': 1, 'tuner/trial_id': '0018'}\n",
        "\n",
        "from tensorflow.keras.models import Sequential\n",
        "from tensorflow.keras.layers import Dense, Dropout\n",
        "from tensorflow.keras.optimizers import Adam, RMSprop, Nadam\n",
        "\n",
        "# Unpack values:\n",
        "num_classes = len(np.unique(y_train))\n",
        "\n",
        "n_layers   = 3\n",
        "opt_name   = 'nadam'\n",
        "lr         = 0.0001\n",
        "\n",
        "# Choose optimizer instance\n",
        "if   opt_name == 'adam':    optimizer = Adam(learning_rate=lr)\n",
        "elif opt_name == 'rmsprop': optimizer = RMSprop(learning_rate=lr)\n",
        "else:                       optimizer = Nadam(learning_rate=lr)\n",
        "\n",
        "# Build the model\n",
        "model = Sequential()\n",
        "for i in range(n_layers):\n",
        "    units = best_hp.get(f'units_{i}')\n",
        "    drop  = best_hp.get(f'dropout_{i}')\n",
        "    model.add(Dense(units, activation='relu'))\n",
        "    model.add(Dropout(drop))\n",
        "\n",
        "model.add(Dense(num_classes, activation='softmax'))\n",
        "\n",
        "model.compile(\n",
        "    optimizer=optimizer,\n",
        "    loss='categorical_crossentropy',\n",
        "    metrics=['accuracy']\n",
        ")\n",
        "\n",
        "# Train on full training set (with class weights, early stopping, etc.)\n",
        "history = model.fit(\n",
        "    X_train_scaled, y_train_cat,\n",
        "    epochs=50,                  # or whatever max you like\n",
        "    validation_split=0.2,\n",
        "    class_weight=class_weights, \n",
        "    callbacks=[es],             # your EarlyStopping callback\n",
        "    verbose=2\n",
        ")\n"
      ]
    },
    {
      "cell_type": "code",
      "execution_count": 14,
      "metadata": {},
      "outputs": [
        {
          "name": "stdout",
          "output_type": "stream",
          "text": [
            "\u001b[1m103560/103560\u001b[0m \u001b[32m━━━━━━━━━━━━━━━━━━━━\u001b[0m\u001b[37m\u001b[0m \u001b[1m73s\u001b[0m 699us/step\n",
            "                    precision    recall  f1-score   support\n",
            "\n",
            "               DoS       0.75      1.00      0.86    117504\n",
            "             Fuzzy       0.96      0.85      0.90     98369\n",
            "Impersonation_gear       0.79      1.00      0.89    119451\n",
            " Impersonation_rpm       1.00      1.00      1.00    130979\n",
            "            Normal       0.99      0.97      0.98   2847592\n",
            "\n",
            "          accuracy                           0.97   3313895\n",
            "         macro avg       0.90      0.96      0.93   3313895\n",
            "      weighted avg       0.98      0.97      0.97   3313895\n",
            "\n"
          ]
        }
      ],
      "source": [
        "y_pred = best_dnn.predict(X_test_scaled).argmax(axis=1)\n",
        "print(classification_report(y_test, y_pred, target_names=label_encoder.classes_))\n"
      ]
    },
    {
      "cell_type": "markdown",
      "metadata": {
        "id": "r2QRZfp5sbe0"
      },
      "source": [
        "# **META MODEL**"
      ]
    },
    {
      "cell_type": "code",
      "execution_count": 18,
      "metadata": {
        "id": "fO5cu2wNu-of"
      },
      "outputs": [
        {
          "name": "stdout",
          "output_type": "stream",
          "text": [
            "\u001b[1m103560/103560\u001b[0m \u001b[32m━━━━━━━━━━━━━━━━━━━━\u001b[0m\u001b[37m\u001b[0m \u001b[1m177s\u001b[0m 2ms/step\n",
            "\u001b[1m103560/103560\u001b[0m \u001b[32m━━━━━━━━━━━━━━━━━━━━\u001b[0m\u001b[37m\u001b[0m \u001b[1m102s\u001b[0m 983us/step\n",
            "Random Forest CV Accuracy: 1.0000 ± 0.0000\n",
            "Final Stacked Model (Random Forest) Classification Report:\n",
            "                    precision    recall  f1-score   support\n",
            "\n",
            "               DoS       1.00      1.00      1.00    117504\n",
            "             Fuzzy       1.00      1.00      1.00     98369\n",
            "Impersonation_gear       1.00      1.00      1.00    119451\n",
            " Impersonation_rpm       1.00      1.00      1.00    130979\n",
            "            Normal       1.00      1.00      1.00   2847592\n",
            "\n",
            "          accuracy                           1.00   3313895\n",
            "         macro avg       1.00      1.00      1.00   3313895\n",
            "      weighted avg       1.00      1.00      1.00   3313895\n",
            "\n"
          ]
        }
      ],
      "source": [
        "import numpy as np\n",
        "from sklearn.linear_model import LogisticRegression\n",
        "from sklearn.ensemble import RandomForestClassifier\n",
        "from sklearn.model_selection import StratifiedKFold\n",
        "from sklearn.metrics import classification_report\n",
        "from sklearn.model_selection import cross_val_score\n",
        "\n",
        "# 1. Model predictions (probabilities)\n",
        "# Get model predictions for each base model\n",
        "probs_rf = rf_model.predict_proba(X_test)\n",
        "probs_et = et_model.predict_proba(X_test)\n",
        "probs_lgb = best_lgbm.predict_proba(X_test)\n",
        "\n",
        "# For CNN and DNN, reshape and get predictions\n",
        "X_te_cnn = X_test_scaled.reshape(-1, X_test_scaled.shape[1], 1)  # Reshaping for CNN input\n",
        "probs_cnn = best_cnn.predict(X_te_cnn)\n",
        "\n",
        "probs_dnn = best_dnn.predict(X_test_scaled)  # Assuming DNN is already trained\n",
        "\n",
        "# 2. Stack model probabilities horizontally (combine predictions)\n",
        "stacked_probs = np.hstack([probs_rf, probs_et, probs_lgb, probs_cnn, probs_dnn])\n",
        "\n",
        "# 3. Meta-models setup (Logistic Regression and RandomForestClassifier)\n",
        "\n",
        "# # Logistic Regression Meta-Model\n",
        "# logreg_meta_model = LogisticRegression(max_iter=1000)\n",
        "\n",
        "# Random Forest Meta-Model\n",
        "rf_meta_model = RandomForestClassifier(n_estimators=100, random_state=42)\n",
        "\n",
        "# Cross-validation for the Meta-model\n",
        "\n",
        "# # Cross-validation for Logistic Regression\n",
        "# logreg_cv_scores = cross_val_score(logreg_meta_model, stacked_probs, y_test, cv=5, scoring='accuracy')\n",
        "# print(f\"Logistic Regression CV Accuracy: {logreg_cv_scores.mean():.4f} ± {logreg_cv_scores.std():.4f}\")\n",
        "\n",
        "# Cross-validation for Random Forest\n",
        "rf_cv_scores = cross_val_score(rf_meta_model, stacked_probs, y_test, cv=5, scoring='accuracy')\n",
        "print(f\"Random Forest CV Accuracy: {rf_cv_scores.mean():.4f} ± {rf_cv_scores.std():.4f}\")\n",
        "\n",
        "# 4. Train the chosen meta-model on the stacked probabilities\n",
        "\n",
        "# # Train Logistic Regression meta-model\n",
        "# logreg_meta_model.fit(stacked_probs, y_test)\n",
        "\n",
        "# Train Random Forest meta-model\n",
        "rf_meta_model.fit(stacked_probs, y_test)\n",
        "\n",
        "# 5. Final predictions from the meta-model\n",
        "\n",
        "# # Using Logistic Regression for final predictions\n",
        "# final_preds_logreg = logreg_meta_model.predict(stacked_probs)\n",
        "\n",
        "# Using Random Forest for final predictions\n",
        "final_preds_rf = rf_meta_model.predict(stacked_probs)\n",
        "\n",
        "# # 6. Evaluate the final models\n",
        "\n",
        "# print(\"Final Stacked Model (Logistic Regression) Classification Report:\")\n",
        "# print(classification_report(y_test, final_preds_logreg, target_names=label_encoder.classes_))\n",
        "\n",
        "print(\"Final Stacked Model (Random Forest) Classification Report:\")\n",
        "print(classification_report(y_test, final_preds_rf, target_names=label_encoder.classes_))\n"
      ]
    },
    {
      "cell_type": "markdown",
      "metadata": {},
      "source": [
        "#**✅ 1. Save and Load Traditional ML Models (RF, ET, LGBM) using joblib or pickle**"
      ]
    },
    {
      "cell_type": "markdown",
      "metadata": {},
      "source": []
    },
    {
      "cell_type": "markdown",
      "metadata": {},
      "source": [
        "**TO SAVE**"
      ]
    },
    {
      "cell_type": "code",
      "execution_count": 19,
      "metadata": {},
      "outputs": [
        {
          "data": {
            "text/plain": [
              "['meta_rf_model.pkl']"
            ]
          },
          "execution_count": 19,
          "metadata": {},
          "output_type": "execute_result"
        }
      ],
      "source": [
        "import joblib\n",
        "\n",
        "# # joblib.dump(rf_model, 'rf_model.pkl')\n",
        "# # joblib.dump(et_model, 'et_model.pkl')\n",
        "# joblib.dump(best_lgbm, 'lgbm_model.pkl')\n",
        "joblib.dump(rf_meta_model, 'meta_rf_model.pkl')\n",
        "# joblib.dump(scaler, 'scaler.pkl')  # Save your scaler too\n",
        "# joblib.dump(label_encoder, 'label_encoder.pkl')\n"
      ]
    },
    {
      "cell_type": "code",
      "execution_count": 12,
      "metadata": {},
      "outputs": [
        {
          "name": "stderr",
          "output_type": "stream",
          "text": [
            "WARNING:absl:You are saving your model as an HDF5 file via `model.save()` or `keras.saving.save_model(model)`. This file format is considered legacy. We recommend using instead the native Keras format, e.g. `model.save('my_model.keras')` or `keras.saving.save_model(model, 'my_model.keras')`. \n"
          ]
        }
      ],
      "source": [
        "best_cnn.save('cnn_model.h5')\n",
        "\n"
      ]
    },
    {
      "cell_type": "markdown",
      "metadata": {},
      "source": [
        "**LOAD LATER**"
      ]
    },
    {
      "cell_type": "code",
      "execution_count": null,
      "metadata": {},
      "outputs": [],
      "source": [
        "import joblib\n",
        "\n",
        "rf_model = joblib.load('rf_model.pkl')\n",
        "et_model = joblib.load('et_model.pkl')\n",
        "best_lgbm = joblib.load('lgbm_model.pkl')\n",
        "rf_meta_model = joblib.load('meta_rf_model.pkl')\n",
        "scaler = joblib.load('scaler.pkl')\n",
        "label_encoder = joblib.load('label_encoder.pkl')\n"
      ]
    },
    {
      "cell_type": "markdown",
      "metadata": {},
      "source": [
        "**✅ 2. Save and Load Deep Learning Models (CNN, DNN) using TensorFlow/Keras**"
      ]
    },
    {
      "cell_type": "code",
      "execution_count": 10,
      "metadata": {},
      "outputs": [
        {
          "name": "stderr",
          "output_type": "stream",
          "text": [
            "WARNING:absl:You are saving your model as an HDF5 file via `model.save()` or `keras.saving.save_model(model)`. This file format is considered legacy. We recommend using instead the native Keras format, e.g. `model.save('my_model.keras')` or `keras.saving.save_model(model, 'my_model.keras')`. \n"
          ]
        }
      ],
      "source": [
        "#TO SAVE\n",
        "\n",
        "# best_cnn.save('cnn_model.h5')\n",
        "best_dnn.save('dnn_model.h5')\n"
      ]
    },
    {
      "cell_type": "code",
      "execution_count": 13,
      "metadata": {},
      "outputs": [
        {
          "name": "stderr",
          "output_type": "stream",
          "text": [
            "WARNING:absl:Compiled the loaded model, but the compiled metrics have yet to be built. `model.compile_metrics` will be empty until you train or evaluate the model.\n",
            "WARNING:absl:Compiled the loaded model, but the compiled metrics have yet to be built. `model.compile_metrics` will be empty until you train or evaluate the model.\n"
          ]
        }
      ],
      "source": [
        "#TO LOAD LATER\n",
        "from tensorflow.keras.models import load_model\n",
        "\n",
        "best_cnn = load_model('cnn_model.h5')\n",
        "best_dnn = load_model('dnn_model.h5')\n"
      ]
    },
    {
      "cell_type": "markdown",
      "metadata": {},
      "source": [
        "**##TO LOAD LATER AFTER OFF and ON i.e to eithwe predict on a test data or to aplly in realtime sysytem**"
      ]
    },
    {
      "cell_type": "markdown",
      "metadata": {},
      "source": [
        "**PREDICTING ON TEST DATA**"
      ]
    },
    {
      "cell_type": "markdown",
      "metadata": {},
      "source": [
        "<!-- 🔹1. Prepare new test data (X_new)\n",
        "You must preprocess and scale your new input (X_new) in the same way as you did for the original test data (X_test): -->\n",
        "X_new_scaled = scaler.transform(X_new)  # Assuming you used a scaler\n"
      ]
    },
    {
      "cell_type": "code",
      "execution_count": null,
      "metadata": {},
      "outputs": [],
      "source": [
        "#  Get base model predictions on X_new\n",
        "# Get predicted probabilities from base models\n",
        "probs_rf_new = rf_model.predict_proba(X_new)\n",
        "probs_et_new = et_model.predict_proba(X_new)\n",
        "probs_lgb_new = best_lgbm.predict_proba(X_new)\n",
        "\n",
        "# Reshape for CNN\n",
        "X_new_cnn = X_new_scaled.reshape(-1, X_new_scaled.shape[1], 1)\n",
        "probs_cnn_new = best_cnn.predict(X_new_cnn)\n",
        "\n",
        "# Predict with DNN\n",
        "probs_dnn_new = best_dnn.predict(X_new_scaled)"
      ]
    },
    {
      "cell_type": "code",
      "execution_count": null,
      "metadata": {},
      "outputs": [],
      "source": [
        "# 3. Stack the new probabilities\n",
        "stacked_probs_new = np.hstack([probs_rf_new, probs_et_new, probs_lgb_new, probs_cnn_new, probs_dnn_new])"
      ]
    },
    {
      "cell_type": "code",
      "execution_count": null,
      "metadata": {},
      "outputs": [],
      "source": [
        "# 🔹4. Use the trained meta-model for prediction \n",
        "final_prediction = rf_meta_model.predict(stacked_probs_new)"
      ]
    },
    {
      "cell_type": "code",
      "execution_count": null,
      "metadata": {},
      "outputs": [],
      "source": [
        "# 🧠 Optional: Get class labels back (if you encoded them)\n",
        "final_labels = label_encoder.inverse_transform(final_prediction)\n",
        "# ✅ Final Output\n",
        "# Now, final_prediction or final_labels contains the detected class labels for your new input X_new.\n",
        "\n"
      ]
    },
    {
      "cell_type": "markdown",
      "metadata": {},
      "source": [
        "**🚗 Real-Time CAN Bus Intrusion Detection Using Your Trained Meta-Model**"
      ]
    },
    {
      "cell_type": "markdown",
      "metadata": {},
      "source": []
    }
  ],
  "metadata": {
    "colab": {
      "provenance": []
    },
    "kernelspec": {
      "display_name": "myvenv",
      "language": "python",
      "name": "python3"
    },
    "language_info": {
      "codemirror_mode": {
        "name": "ipython",
        "version": 3
      },
      "file_extension": ".py",
      "mimetype": "text/x-python",
      "name": "python",
      "nbconvert_exporter": "python",
      "pygments_lexer": "ipython3",
      "version": "3.11.9"
    }
  },
  "nbformat": 4,
  "nbformat_minor": 0
}
